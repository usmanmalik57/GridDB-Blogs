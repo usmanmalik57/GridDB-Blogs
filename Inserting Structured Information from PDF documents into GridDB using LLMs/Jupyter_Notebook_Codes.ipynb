{
  "cells": [
    {
      "cell_type": "code",
      "execution_count": null,
      "id": "d91b79d0-a42f-4577-baad-8681a9ed89a3",
      "metadata": {
        "id": "d91b79d0-a42f-4577-baad-8681a9ed89a3"
      },
      "outputs": [],
      "source": []
    },
    {
      "cell_type": "markdown",
      "id": "ecf81ba8-b6e0-4f8d-9a09-933084c2a8d4",
      "metadata": {
        "id": "ecf81ba8-b6e0-4f8d-9a09-933084c2a8d4"
      },
      "source": [
        "## Prerequisites\n",
        "\n",
        "You need to install the following libraries to run codes in this article:\n",
        "\n",
        "1. GridDB C Client\n",
        "2. GridDB Python client\n",
        "\n",
        "Follow the instructions on the GridDB Python Package Index (Pypi) page to install these clients.\n",
        "\n",
        "You must also install LangChain,pydantic, pandas, pypdf, tiktoken, and tqdm libraries.\n",
        "\n",
        "The scripts below install and import the libraries you will need to run the code in this blog."
      ]
    },
    {
      "cell_type": "code",
      "execution_count": null,
      "id": "d1c46597-13ad-43dd-aaf8-bfb730df1ea3",
      "metadata": {
        "id": "d1c46597-13ad-43dd-aaf8-bfb730df1ea3"
      },
      "outputs": [],
      "source": [
        "!pip install --upgrade -q langchain\n",
        "!pip install --upgrade -q pydantic\n",
        "!pip install --upgrade -q langchain-community\n",
        "!pip install --upgrade -q langchain-core\n",
        "!pip install --upgrade -q langchain-openai\n",
        "!pip install --upgrade -q pydantic pandas pypdf openai tiktoken tqdm"
      ]
    },
    {
      "cell_type": "code",
      "execution_count": null,
      "id": "059a74ed-d240-48ef-8037-1b9cf7fbee6a",
      "metadata": {
        "id": "059a74ed-d240-48ef-8037-1b9cf7fbee6a"
      },
      "outputs": [],
      "source": [
        "\n",
        "from pathlib import Path\n",
        "import re\n",
        "import pandas as pd\n",
        "from tqdm import tqdm\n",
        "from itertools import islice\n",
        "from typing import Literal, Optional\n",
        "import matplotlib.pyplot as plt\n",
        "from langchain_core.pydantic_v1 import BaseModel, Field, validator\n",
        "from langchain.prompts import ChatPromptTemplate, MessagesPlaceholder\n",
        "from langchain_openai import ChatOpenAI\n",
        "from langchain.agents import create_openai_functions_agent, AgentExecutor\n",
        "from langchain_experimental.tools import PythonREPLTool\n",
        "from langchain_community.document_loaders import PyPDFDirectoryLoader\n",
        "import griddb_python as griddb"
      ]
    },
    {
      "cell_type": "markdown",
      "id": "a2155e58-0b3d-408d-ada7-f7500ca45b7b",
      "metadata": {
        "id": "a2155e58-0b3d-408d-ada7-f7500ca45b7b"
      },
      "source": [
        "## Extracting Structured Data from PDF Documents"
      ]
    },
    {
      "cell_type": "code",
      "execution_count": null,
      "id": "48c65b8a-c5fb-4f76-b009-bb689758b473",
      "metadata": {
        "id": "48c65b8a-c5fb-4f76-b009-bb689758b473"
      },
      "outputs": [],
      "source": [
        "# https://www.kaggle.com/datasets/manisha717/dataset-of-pdf-files\n",
        "\n",
        "pdf_dir = Path(\"/home/mani/Datasets/Pdf\")\n",
        "\n",
        "loader = PyPDFDirectoryLoader(\n",
        "    pdf_dir,\n",
        "    recursive=True,\n",
        "    silent_errors=True\n",
        ")#  raises warning if a PDF document doesnt contain valid text\n",
        "\n",
        " # first 100 that load cleanly\n",
        "docs_iter = loader.lazy_load()              # generator → 1 Document per good PDF\n",
        "docs      = list(islice(docs_iter, 100))"
      ]
    },
    {
      "cell_type": "code",
      "execution_count": null,
      "id": "68b10614-e818-495d-80af-a44e72abfe25",
      "metadata": {
        "id": "68b10614-e818-495d-80af-a44e72abfe25",
        "outputId": "764c92de-8a6c-4df1-efcc-8689b51248c9"
      },
      "outputs": [
        {
          "data": {
            "text/plain": [
              "Document(metadata={'source': '/home/mani/Datasets/Pdf/HSZJLPQSI6NJU2NBWZWZY2CHBUKDXG2M.pdf', 'page': 0}, page_content='From:  STEPHEN L WRIGHT [steveanddian@sbcglobal.net] \\nSent:  Saturday, March 06, 2010 9:07 AM \\nTo:  lthomason@wheatland.ca.gov \\nSubject:  Fw: Wheatland Heritage Oaks \\nLisa, \\nPlease attach this email too. Thanks. \\nSteve \\n \\n--- On Fri, 3/5/10, swright@wheatland.ca.gov <swright@wheatland.ca.gov>  wrote: \\n \\nFrom: swright@wheatland.ca.gov <swright@wheatland.ca.gov> \\nSubject: Fw: Wheatland Heritage Oaks \\nTo: steveanddian@sbcglobal.net \\nDate: Friday, March 5, 2010, 4:52 PM \\n \\nSent via BlackBerry by AT&T \\nFrom: \"Kevin\" <kevin@builtbypremier.com>  \\nDate: Fri, 5 Mar 2010 16:32:46 -0800 \\nTo: \\'Steve Wright\\'<swright@wheatland.ca.gov>; \\'Tim \\nRaney\\'<timraney@raneymanagement.com> \\nCc: <hs@janascorp.com>; \\'Jenny Taylor\\'<jtaylor@raneymanagement.com> \\nSubject: FW: Wheatland Heritage Oaks \\n \\nSteve and Tim,  \\n  \\nPlease see email below from US Bank in regards to Heritage Oaks. Thank you.   \\n   \\nKevin Yttrup  \\nPremier Homes Properties Inc.  \\n(916) 789-9715  Ext.106  \\n(916) 871-3028  Cell  \\n   \\nFrom:  bruce.oneill@usbank.com [mailto:bruce.oneill@usbank.com]  \\nSent:  Friday, March 05, 2010 3:40 PM \\nTo:  Kevin Yttrup \\nSubject:  Wheatland Heritage Oaks  \\n   \\nPage 1 of 2\\n3/8/2010 file://\\\\\\\\server -1\\\\Public\\\\LJT\\\\Staff Reports\\\\2010\\\\CC -Agenda -03 -09 -10\\\\City Council Staff Re ... ')"
            ]
          },
          "execution_count": 114,
          "metadata": {},
          "output_type": "execute_result"
        }
      ],
      "source": [
        "docs[0]"
      ]
    },
    {
      "cell_type": "code",
      "execution_count": null,
      "id": "afc165a2-e6eb-4b06-b3f2-dc35f41f93af",
      "metadata": {
        "id": "afc165a2-e6eb-4b06-b3f2-dc35f41f93af"
      },
      "outputs": [],
      "source": [
        "DOC_TYPES   = (\n",
        "    \"report\", \"article\", \"manual\", \"white_paper\",\n",
        "    \"thesis\", \"presentation\", \"policy_brief\", \"email\", \"letter\", \"other\",\n",
        ")\n",
        "TOPIC_CATS  = (\n",
        "    \"science\", \"technology\", \"history\", \"business\",\n",
        "    \"literature\", \"health\", \"education\", \"art\",\n",
        "    \"politics\", \"other\",\n",
        ")\n",
        "Sentiment   = Literal[\"positive\", \"neutral\", \"negative\"]"
      ]
    },
    {
      "cell_type": "code",
      "execution_count": null,
      "id": "766bcbcf-77f7-4eb3-a075-314b3152871c",
      "metadata": {
        "id": "766bcbcf-77f7-4eb3-a075-314b3152871c"
      },
      "outputs": [],
      "source": [
        "class PDFRecord(BaseModel):\n",
        "    \"\"\"Validated metadata for a single PDF.\"\"\"\n",
        "    title: str = Field(\n",
        "        ...,\n",
        "        description=\"Document title. If the text contains no clear title, \"\n",
        "                    \"generate a concise 6–12-word title that reflects the content.\"\n",
        "    )\n",
        "    summary: str = Field(\n",
        "        ...,\n",
        "        description=\"Two- to three-sentence synopsis of the document.\"\n",
        "    )\n",
        "    doc_type: Literal[DOC_TYPES] = Field(\n",
        "        default=\"other\",\n",
        "        description=\"Document genre; choose one from: \" + \", \".join(DOC_TYPES)\n",
        "    )\n",
        "    topic_category: Literal[TOPIC_CATS] = Field(\n",
        "        default=\"other\",\n",
        "        description=\"Primary subject domain; choose one from: \" + \", \".join(TOPIC_CATS)\n",
        "    )\n",
        "    sentiment: Sentiment = Field(\n",
        "        default=\"neutral\",\n",
        "        description=\"Overall tone of the document: positive, neutral, or negative.\"\n",
        "    )\n",
        "\n",
        "    # --- fallback helpers so bad labels never crash validation ---\n",
        "    @validator(\"doc_type\", pre=True, always=True)\n",
        "    def _doc_fallback(cls, v):\n",
        "        return v if v in DOC_TYPES else \"other\"\n",
        "\n",
        "    @validator(\"topic_category\", pre=True, always=True)\n",
        "    def _topic_fallback(cls, v):\n",
        "        return v if v in TOPIC_CATS else \"other\""
      ]
    },
    {
      "cell_type": "code",
      "execution_count": null,
      "id": "c8169817-ae03-4ed4-9610-b180c72665c0",
      "metadata": {
        "id": "c8169817-ae03-4ed4-9610-b180c72665c0"
      },
      "outputs": [],
      "source": [
        "prompt = ChatPromptTemplate.from_messages([\n",
        "    (\"system\",\n",
        "     \"You are a meticulous analyst. \"\n",
        "     \"Extract only what is explicitly present in the text, \"\n",
        "     \"but you MAY generate a succinct title if none exists.\"),\n",
        "    (\"human\",\n",
        "     f\"\"\"\n",
        "**Task**\n",
        "  Fill the JSON schema fields shown below.\n",
        "\n",
        "**Fields**\n",
        "  • title – exact title if present; otherwise invent a 6-12-word title\n",
        "  • summary – 2–3 sentence synopsis\n",
        "  • doc_type – one of: {\", \".join(DOC_TYPES)}\n",
        "  • topic_category – one of: {\", \".join(TOPIC_CATS)}\n",
        "  • sentiment – positive, neutral, or negative overall tone\n",
        "\n",
        "**Rules**\n",
        "  – If a category is uncertain, use \"other\".\n",
        "  – Respond ONLY in the JSON format supplied automatically.\n",
        "\n",
        "**Document begins**\n",
        "{{pdf_text}}\n",
        "\"\"\")\n",
        "])"
      ]
    },
    {
      "cell_type": "code",
      "execution_count": null,
      "id": "fba1f47c-cfa5-42d6-83ac-40ab37c11b54",
      "metadata": {
        "id": "fba1f47c-cfa5-42d6-83ac-40ab37c11b54"
      },
      "outputs": [],
      "source": [
        "llm   = ChatOpenAI(model_name=\"gpt-4o-mini\",\n",
        "                   openai_api_key = \"YOUR_OPENAI_API_KEY\",\n",
        "                   temperature=0)\n",
        "\n",
        "structured_llm = llm.with_structured_output(PDFRecord)\n",
        "chain = prompt | structured_llm"
      ]
    },
    {
      "cell_type": "code",
      "execution_count": null,
      "id": "4f1700c5-4887-4bae-a8c4-91d5f9e9c38a",
      "metadata": {
        "id": "4f1700c5-4887-4bae-a8c4-91d5f9e9c38a",
        "outputId": "4ff7678c-14d4-4c85-b4cc-951493a170a1"
      },
      "outputs": [
        {
          "name": "stderr",
          "output_type": "stream",
          "text": [
            "Processing PDFs: 100%|████████████████████████| 100/100 [03:03<00:00,  1.84s/it]\n"
          ]
        }
      ],
      "source": [
        "rows = []\n",
        "for doc in tqdm(docs, desc=\"Processing PDFs\"):\n",
        "    record     = chain.invoke({\"pdf_text\": doc.page_content})  # → PDFRecord\n",
        "    row        = record.dict()              # plain dict\n",
        "    row[\"path\"] = doc.metadata[\"source\"]\n",
        "    rows.append(row)"
      ]
    },
    {
      "cell_type": "code",
      "execution_count": null,
      "id": "0361e149-aea1-4638-85b5-2f22027773ce",
      "metadata": {
        "id": "0361e149-aea1-4638-85b5-2f22027773ce",
        "outputId": "61f8b998-49b1-4753-9952-35f87491c86a"
      },
      "outputs": [
        {
          "name": "stdout",
          "output_type": "stream",
          "text": [
            "✓ Saved pdf_catalog.csv with 100 rows\n"
          ]
        },
        {
          "data": {
            "text/html": [
              "<div>\n",
              "<style scoped>\n",
              "    .dataframe tbody tr th:only-of-type {\n",
              "        vertical-align: middle;\n",
              "    }\n",
              "\n",
              "    .dataframe tbody tr th {\n",
              "        vertical-align: top;\n",
              "    }\n",
              "\n",
              "    .dataframe thead th {\n",
              "        text-align: right;\n",
              "    }\n",
              "</style>\n",
              "<table border=\"1\" class=\"dataframe\">\n",
              "  <thead>\n",
              "    <tr style=\"text-align: right;\">\n",
              "      <th></th>\n",
              "      <th>title</th>\n",
              "      <th>summary</th>\n",
              "      <th>doc_type</th>\n",
              "      <th>topic_category</th>\n",
              "      <th>sentiment</th>\n",
              "      <th>path</th>\n",
              "    </tr>\n",
              "  </thead>\n",
              "  <tbody>\n",
              "    <tr>\n",
              "      <th>0</th>\n",
              "      <td>Email Correspondence Regarding Wheatland Herit...</td>\n",
              "      <td>This document contains an email chain discussi...</td>\n",
              "      <td>email</td>\n",
              "      <td>business</td>\n",
              "      <td>neutral</td>\n",
              "      <td>/home/mani/Datasets/Pdf/HSZJLPQSI6NJU2NBWZWZY2...</td>\n",
              "    </tr>\n",
              "    <tr>\n",
              "      <th>1</th>\n",
              "      <td>Confirmation of Support for Hearing Postponement</td>\n",
              "      <td>This email from Bruce O'Neill confirms support...</td>\n",
              "      <td>email</td>\n",
              "      <td>business</td>\n",
              "      <td>neutral</td>\n",
              "      <td>/home/mani/Datasets/Pdf/HSZJLPQSI6NJU2NBWZWZY2...</td>\n",
              "    </tr>\n",
              "    <tr>\n",
              "      <th>2</th>\n",
              "      <td>Understanding the Impact of Climate Change on ...</td>\n",
              "      <td>This document explores the various effects of ...</td>\n",
              "      <td>report</td>\n",
              "      <td>science</td>\n",
              "      <td>neutral</td>\n",
              "      <td>/home/mani/Datasets/Pdf/SMLSJMKRNAOZZQNGBSDINW...</td>\n",
              "    </tr>\n",
              "    <tr>\n",
              "      <th>3</th>\n",
              "      <td>Understanding the Impact of Climate Change on ...</td>\n",
              "      <td>This document explores the various effects of ...</td>\n",
              "      <td>report</td>\n",
              "      <td>science</td>\n",
              "      <td>neutral</td>\n",
              "      <td>/home/mani/Datasets/Pdf/SMLSJMKRNAOZZQNGBSDINW...</td>\n",
              "    </tr>\n",
              "    <tr>\n",
              "      <th>4</th>\n",
              "      <td>Antidumping Review Message Summary</td>\n",
              "      <td>This document outlines the initiation of a rev...</td>\n",
              "      <td>report</td>\n",
              "      <td>business</td>\n",
              "      <td>neutral</td>\n",
              "      <td>/home/mani/Datasets/Pdf/4VMUKG4TIVAVUP5H4SRGXI...</td>\n",
              "    </tr>\n",
              "    <tr>\n",
              "      <th>5</th>\n",
              "      <td>Initiation of Antidumping Duty Investigation o...</td>\n",
              "      <td>This document announces the initiation of an a...</td>\n",
              "      <td>report</td>\n",
              "      <td>business</td>\n",
              "      <td>neutral</td>\n",
              "      <td>/home/mani/Datasets/Pdf/4VMUKG4TIVAVUP5H4SRGXI...</td>\n",
              "    </tr>\n",
              "    <tr>\n",
              "      <th>6</th>\n",
              "      <td>Company Details and Party Indicator Information</td>\n",
              "      <td>This document provides details regarding compa...</td>\n",
              "      <td>report</td>\n",
              "      <td>business</td>\n",
              "      <td>neutral</td>\n",
              "      <td>/home/mani/Datasets/Pdf/4VMUKG4TIVAVUP5H4SRGXI...</td>\n",
              "    </tr>\n",
              "    <tr>\n",
              "      <th>7</th>\n",
              "      <td>Stark Statement on House Vote to Defuse Medica...</td>\n",
              "      <td>Representative Pete Stark comments on the Hous...</td>\n",
              "      <td>other</td>\n",
              "      <td>politics</td>\n",
              "      <td>negative</td>\n",
              "      <td>/home/mani/Datasets/Pdf/HLGUA2TVCFAMJQDFC5IC43...</td>\n",
              "    </tr>\n",
              "    <tr>\n",
              "      <th>8</th>\n",
              "      <td>Debate on Medicare Funding and Trigger Policy</td>\n",
              "      <td>The document discusses the bipartisan efforts ...</td>\n",
              "      <td>article</td>\n",
              "      <td>politics</td>\n",
              "      <td>neutral</td>\n",
              "      <td>/home/mani/Datasets/Pdf/HLGUA2TVCFAMJQDFC5IC43...</td>\n",
              "    </tr>\n",
              "    <tr>\n",
              "      <th>9</th>\n",
              "      <td>Entry Discussing Motion to Reconsider in Case ...</td>\n",
              "      <td>This document discusses a motion to reconsider...</td>\n",
              "      <td>other</td>\n",
              "      <td>other</td>\n",
              "      <td>neutral</td>\n",
              "      <td>/home/mani/Datasets/Pdf/YSFDRVDRV6XMSNVXRD4KM2...</td>\n",
              "    </tr>\n",
              "  </tbody>\n",
              "</table>\n",
              "</div>"
            ],
            "text/plain": [
              "                                               title  \\\n",
              "0  Email Correspondence Regarding Wheatland Herit...   \n",
              "1   Confirmation of Support for Hearing Postponement   \n",
              "2  Understanding the Impact of Climate Change on ...   \n",
              "3  Understanding the Impact of Climate Change on ...   \n",
              "4                 Antidumping Review Message Summary   \n",
              "5  Initiation of Antidumping Duty Investigation o...   \n",
              "6    Company Details and Party Indicator Information   \n",
              "7  Stark Statement on House Vote to Defuse Medica...   \n",
              "8      Debate on Medicare Funding and Trigger Policy   \n",
              "9  Entry Discussing Motion to Reconsider in Case ...   \n",
              "\n",
              "                                             summary doc_type topic_category  \\\n",
              "0  This document contains an email chain discussi...    email       business   \n",
              "1  This email from Bruce O'Neill confirms support...    email       business   \n",
              "2  This document explores the various effects of ...   report        science   \n",
              "3  This document explores the various effects of ...   report        science   \n",
              "4  This document outlines the initiation of a rev...   report       business   \n",
              "5  This document announces the initiation of an a...   report       business   \n",
              "6  This document provides details regarding compa...   report       business   \n",
              "7  Representative Pete Stark comments on the Hous...    other       politics   \n",
              "8  The document discusses the bipartisan efforts ...  article       politics   \n",
              "9  This document discusses a motion to reconsider...    other          other   \n",
              "\n",
              "  sentiment                                               path  \n",
              "0   neutral  /home/mani/Datasets/Pdf/HSZJLPQSI6NJU2NBWZWZY2...  \n",
              "1   neutral  /home/mani/Datasets/Pdf/HSZJLPQSI6NJU2NBWZWZY2...  \n",
              "2   neutral  /home/mani/Datasets/Pdf/SMLSJMKRNAOZZQNGBSDINW...  \n",
              "3   neutral  /home/mani/Datasets/Pdf/SMLSJMKRNAOZZQNGBSDINW...  \n",
              "4   neutral  /home/mani/Datasets/Pdf/4VMUKG4TIVAVUP5H4SRGXI...  \n",
              "5   neutral  /home/mani/Datasets/Pdf/4VMUKG4TIVAVUP5H4SRGXI...  \n",
              "6   neutral  /home/mani/Datasets/Pdf/4VMUKG4TIVAVUP5H4SRGXI...  \n",
              "7  negative  /home/mani/Datasets/Pdf/HLGUA2TVCFAMJQDFC5IC43...  \n",
              "8   neutral  /home/mani/Datasets/Pdf/HLGUA2TVCFAMJQDFC5IC43...  \n",
              "9   neutral  /home/mani/Datasets/Pdf/YSFDRVDRV6XMSNVXRD4KM2...  "
            ]
          },
          "execution_count": 38,
          "metadata": {},
          "output_type": "execute_result"
        }
      ],
      "source": [
        "dataset = pd.DataFrame(rows)\n",
        "dataset.to_csv(\"pdf_catalog.csv\", index=False)\n",
        "print(\"✓ Saved pdf_catalog.csv with\", len(rows), \"rows\")\n",
        "dataset.head(10)"
      ]
    },
    {
      "cell_type": "markdown",
      "id": "55704116-aa5d-4d51-b593-bcef07f4be43",
      "metadata": {
        "id": "55704116-aa5d-4d51-b593-bcef07f4be43"
      },
      "source": [
        "## Inserting Structured Data from PDF into GridDB"
      ]
    },
    {
      "cell_type": "markdown",
      "id": "a0a4d788-09c1-4916-9f80-328a1ea955cb",
      "metadata": {
        "id": "a0a4d788-09c1-4916-9f80-328a1ea955cb"
      },
      "source": [
        "### Creating a Connection with GridDB"
      ]
    },
    {
      "cell_type": "code",
      "execution_count": null,
      "id": "d1aa2956-bec8-49cd-8cc9-2b65bd50df91",
      "metadata": {
        "id": "d1aa2956-bec8-49cd-8cc9-2b65bd50df91",
        "outputId": "1ea56cb2-2742-46a1-d96d-c260db6b87c7"
      },
      "outputs": [
        {
          "name": "stdout",
          "output_type": "stream",
          "text": [
            "Container does not exist\n",
            "Successfully connected to GridDB\n"
          ]
        }
      ],
      "source": [
        "\n",
        "factory = griddb.StoreFactory.get_instance()\n",
        "\n",
        "DB_HOST = \"127.0.0.1:10001\"\n",
        "DB_CLUSTER = \"myCluster\"\n",
        "DB_USER = \"admin\"\n",
        "DB_PASS = \"admin\"\n",
        "\n",
        "try:\n",
        "    gridstore = factory.get_store(\n",
        "        notification_member = DB_HOST,\n",
        "        cluster_name = DB_CLUSTER,\n",
        "        username = DB_USER,\n",
        "        password = DB_PASS\n",
        "    )\n",
        "\n",
        "    container1 = gridstore.get_container(\"container1\")\n",
        "    if container1 == None:\n",
        "        print(\"Container does not exist\")\n",
        "    print(\"Successfully connected to GridDB\")\n",
        "\n",
        "except griddb.GSException as e:\n",
        "    for i in range(e.get_error_stack_size()):\n",
        "        print(\"[\", i, \"]\")\n",
        "        print(e.get_error_code(i))\n",
        "        print(e.get_location(i))\n",
        "        print(e.get_message(i))\n"
      ]
    },
    {
      "cell_type": "markdown",
      "id": "369443d5-92ab-4abc-aa93-8fbbffbdd849",
      "metadata": {
        "id": "369443d5-92ab-4abc-aa93-8fbbffbdd849"
      },
      "source": [
        "### Inserting Data into GridDB"
      ]
    },
    {
      "cell_type": "code",
      "execution_count": null,
      "id": "a0425b8f-4eb8-4b98-901b-11b8a243de46",
      "metadata": {
        "id": "a0425b8f-4eb8-4b98-901b-11b8a243de46",
        "outputId": "e9f1c5e9-53af-404f-d73d-5ddc768ff083"
      },
      "outputs": [
        {
          "name": "stdout",
          "output_type": "stream",
          "text": [
            "All rows have been successfully stored in the GridDB container.\n"
          ]
        }
      ],
      "source": [
        "# see all GridDB data types: https://docs.griddb.net/architecture/data-model/#data-type\n",
        "\n",
        "def map_pandas_dtype_to_griddb(dtype):\n",
        "    if dtype == 'int64':\n",
        "        return griddb.Type.LONG\n",
        "    elif dtype == 'float64':\n",
        "        return griddb.Type.FLOAT\n",
        "    elif dtype == 'object':\n",
        "        return griddb.Type.STRING\n",
        "    # Add more column types if you want\n",
        "    else:\n",
        "        raise ValueError(f'Unsupported pandas type: {dtype}')\n",
        "\n",
        "container_columns = []\n",
        "for column_name, dtype in dataset.dtypes.items():\n",
        "    griddb_dtype = map_pandas_dtype_to_griddb(str(dtype))\n",
        "    container_columns.append([column_name, griddb_dtype])\n",
        "\n",
        "container_name = \"PDFData\"\n",
        "container_info = griddb.ContainerInfo(container_name,\n",
        "                                      container_columns,\n",
        "                                      griddb.ContainerType.COLLECTION, True)\n",
        "\n",
        "\n",
        "try:\n",
        "    cont = gridstore.put_container(container_info)\n",
        "    for index, row in dataset.iterrows():\n",
        "        cont.put(row.tolist())\n",
        "    print(\"All rows have been successfully stored in the GridDB container.\")\n",
        "\n",
        "except griddb.GSException as e:\n",
        "    for i in range(e.get_error_stack_size()):\n",
        "        print(\"[\", i, \"]\")\n",
        "        print(e.get_error_code(i))\n",
        "        print(e.get_location(i))\n",
        "        print(e.get_message(i))"
      ]
    },
    {
      "cell_type": "markdown",
      "id": "de4d4621-1db0-4200-9838-3a4c3d328298",
      "metadata": {
        "id": "de4d4621-1db0-4200-9838-3a4c3d328298"
      },
      "source": [
        "### Retrieving Data from GridDB and Performing Analysis"
      ]
    },
    {
      "cell_type": "code",
      "execution_count": null,
      "id": "b916efa5-65bc-47db-938a-fd21eba36203",
      "metadata": {
        "id": "b916efa5-65bc-47db-938a-fd21eba36203",
        "outputId": "cedfcf40-4722-4075-d4c0-d7781fec0145"
      },
      "outputs": [
        {
          "data": {
            "text/html": [
              "<div>\n",
              "<style scoped>\n",
              "    .dataframe tbody tr th:only-of-type {\n",
              "        vertical-align: middle;\n",
              "    }\n",
              "\n",
              "    .dataframe tbody tr th {\n",
              "        vertical-align: top;\n",
              "    }\n",
              "\n",
              "    .dataframe thead th {\n",
              "        text-align: right;\n",
              "    }\n",
              "</style>\n",
              "<table border=\"1\" class=\"dataframe\">\n",
              "  <thead>\n",
              "    <tr style=\"text-align: right;\">\n",
              "      <th></th>\n",
              "      <th>title</th>\n",
              "      <th>summary</th>\n",
              "      <th>doc_type</th>\n",
              "      <th>topic_category</th>\n",
              "      <th>sentiment</th>\n",
              "      <th>path</th>\n",
              "    </tr>\n",
              "  </thead>\n",
              "  <tbody>\n",
              "    <tr>\n",
              "      <th>0</th>\n",
              "      <td>Email Correspondence Regarding Wheatland Herit...</td>\n",
              "      <td>This document contains an email chain discussi...</td>\n",
              "      <td>email</td>\n",
              "      <td>business</td>\n",
              "      <td>neutral</td>\n",
              "      <td>/home/mani/Datasets/Pdf/HSZJLPQSI6NJU2NBWZWZY2...</td>\n",
              "    </tr>\n",
              "    <tr>\n",
              "      <th>1</th>\n",
              "      <td>Confirmation of Support for Hearing Postponement</td>\n",
              "      <td>This email from Bruce O'Neill confirms support...</td>\n",
              "      <td>email</td>\n",
              "      <td>business</td>\n",
              "      <td>neutral</td>\n",
              "      <td>/home/mani/Datasets/Pdf/HSZJLPQSI6NJU2NBWZWZY2...</td>\n",
              "    </tr>\n",
              "    <tr>\n",
              "      <th>2</th>\n",
              "      <td>Understanding the Impact of Climate Change on ...</td>\n",
              "      <td>This document explores the various effects of ...</td>\n",
              "      <td>report</td>\n",
              "      <td>science</td>\n",
              "      <td>neutral</td>\n",
              "      <td>/home/mani/Datasets/Pdf/4ANUUHOJ7LTWU4PYON2VXJ...</td>\n",
              "    </tr>\n",
              "    <tr>\n",
              "      <th>3</th>\n",
              "      <td>Antidumping Review Message Summary</td>\n",
              "      <td>This document outlines the initiation of a rev...</td>\n",
              "      <td>report</td>\n",
              "      <td>business</td>\n",
              "      <td>neutral</td>\n",
              "      <td>/home/mani/Datasets/Pdf/4VMUKG4TIVAVUP5H4SRGXI...</td>\n",
              "    </tr>\n",
              "    <tr>\n",
              "      <th>4</th>\n",
              "      <td>Initiation of Antidumping Duty Investigation o...</td>\n",
              "      <td>This document announces the initiation of an a...</td>\n",
              "      <td>report</td>\n",
              "      <td>business</td>\n",
              "      <td>neutral</td>\n",
              "      <td>/home/mani/Datasets/Pdf/4VMUKG4TIVAVUP5H4SRGXI...</td>\n",
              "    </tr>\n",
              "  </tbody>\n",
              "</table>\n",
              "</div>"
            ],
            "text/plain": [
              "                                               title  \\\n",
              "0  Email Correspondence Regarding Wheatland Herit...   \n",
              "1   Confirmation of Support for Hearing Postponement   \n",
              "2  Understanding the Impact of Climate Change on ...   \n",
              "3                 Antidumping Review Message Summary   \n",
              "4  Initiation of Antidumping Duty Investigation o...   \n",
              "\n",
              "                                             summary doc_type topic_category  \\\n",
              "0  This document contains an email chain discussi...    email       business   \n",
              "1  This email from Bruce O'Neill confirms support...    email       business   \n",
              "2  This document explores the various effects of ...   report        science   \n",
              "3  This document outlines the initiation of a rev...   report       business   \n",
              "4  This document announces the initiation of an a...   report       business   \n",
              "\n",
              "  sentiment                                               path  \n",
              "0   neutral  /home/mani/Datasets/Pdf/HSZJLPQSI6NJU2NBWZWZY2...  \n",
              "1   neutral  /home/mani/Datasets/Pdf/HSZJLPQSI6NJU2NBWZWZY2...  \n",
              "2   neutral  /home/mani/Datasets/Pdf/4ANUUHOJ7LTWU4PYON2VXJ...  \n",
              "3   neutral  /home/mani/Datasets/Pdf/4VMUKG4TIVAVUP5H4SRGXI...  \n",
              "4   neutral  /home/mani/Datasets/Pdf/4VMUKG4TIVAVUP5H4SRGXI...  "
            ]
          },
          "execution_count": 45,
          "metadata": {},
          "output_type": "execute_result"
        }
      ],
      "source": [
        "def retrieve_data_from_griddb(container_name):\n",
        "\n",
        "    try:\n",
        "        data_container = gridstore.get_container(container_name)\n",
        "\n",
        "        # Query all data from the container\n",
        "        query = data_container.query(\"select *\")\n",
        "        rs = query.fetch()\n",
        "\n",
        "        data = rs.fetch_rows()\n",
        "        return data\n",
        "\n",
        "    except griddb.GSException as e:\n",
        "        print(f\"Error retrieving data from GridDB: {e.get_message()}\")\n",
        "        return None\n",
        "\n",
        "\n",
        "pdf_dataset = retrieve_data_from_griddb(container_name)\n",
        "pdf_dataset.head()"
      ]
    },
    {
      "cell_type": "code",
      "execution_count": null,
      "id": "ec2465ba-f3ad-4854-bc81-94e53a29aaeb",
      "metadata": {
        "id": "ec2465ba-f3ad-4854-bc81-94e53a29aaeb",
        "outputId": "65d4e9d1-0bd9-4819-9786-3b93c51a934e"
      },
      "outputs": [
        {
          "data": {
            "image/png": "[encoded data removed]",
            "text/plain": [
              "<Figure size 640x480 with 1 Axes>"
            ]
          },
          "metadata": {},
          "output_type": "display_data"
        }
      ],
      "source": [
        "pdf_dataset[\"topic_category\"].value_counts().plot.pie(autopct=\"%1.1f%%\")\n",
        "plt.title(\"Distribution of topic categories\")\n",
        "plt.ylabel(\"\")\n",
        "plt.show()"
      ]
    },
    {
      "cell_type": "code",
      "execution_count": null,
      "id": "6b9f81b5-9209-4b62-83a2-da02fb8421c3",
      "metadata": {
        "id": "6b9f81b5-9209-4b62-83a2-da02fb8421c3",
        "outputId": "fb068946-a025-45b6-f8f3-9d1ef1ad96bc"
      },
      "outputs": [
        {
          "data": {
            "image/png": "[encoded data removed]",
            "text/plain": [
              "<Figure size 640x480 with 1 Axes>"
            ]
          },
          "metadata": {},
          "output_type": "display_data"
        }
      ],
      "source": [
        "df[\"doc_type\"].value_counts().plot.pie(\n",
        "    autopct=\"%1.1f%%\",\n",
        "    wedgeprops=dict(width=0.50)   # makes the “donut” hole\n",
        ")\n",
        "plt.title(\"Document type\")\n",
        "plt.ylabel(\"\")\n",
        "plt.gca().set_aspect(\"equal\")\n",
        "plt.show()"
      ]
    },
    {
      "cell_type": "code",
      "execution_count": null,
      "id": "27d9e80a-3731-42cc-bca7-19125e48be11",
      "metadata": {
        "id": "27d9e80a-3731-42cc-bca7-19125e48be11",
        "outputId": "8e5338df-f408-487a-db90-5c71cfa4100d"
      },
      "outputs": [
        {
          "data": {
            "image/png": "[encoded data removed]",
            "text/plain": [
              "<Figure size 640x480 with 1 Axes>"
            ]
          },
          "metadata": {},
          "output_type": "display_data"
        }
      ],
      "source": [
        "pdf_dataset[\"sentiment\"].value_counts().plot.bar()\n",
        "plt.title(\"Distribution of sentiment values\")\n",
        "plt.xlabel(\"sentiment\")\n",
        "plt.ylabel(\"count\")\n",
        "plt.tight_layout()\n",
        "plt.show()"
      ]
    },
    {
      "cell_type": "code",
      "execution_count": null,
      "id": "5df32097-a4a3-4bc8-baf4-2845749304f7",
      "metadata": {
        "id": "5df32097-a4a3-4bc8-baf4-2845749304f7"
      },
      "outputs": [],
      "source": []
    }
  ],
  "metadata": {
    "kernelspec": {
      "display_name": "Python 3 (ipykernel)",
      "language": "python",
      "name": "python3"
    },
    "language_info": {
      "codemirror_mode": {
        "name": "ipython",
        "version": 3
      },
      "file_extension": ".py",
      "mimetype": "text/x-python",
      "name": "python",
      "nbconvert_exporter": "python",
      "pygments_lexer": "ipython3",
      "version": "3.10.12"
    },
    "colab": {
      "provenance": []
    }
  },
  "nbformat": 4,
  "nbformat_minor": 5
}