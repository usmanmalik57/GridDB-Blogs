{
  "cells": [
    {
      "cell_type": "code",
      "execution_count": null,
      "id": "20291d77-50e8-45f0-8733-11f53a8b1cd6",
      "metadata": {
        "id": "20291d77-50e8-45f0-8733-11f53a8b1cd6"
      },
      "outputs": [],
      "source": []
    },
    {
      "cell_type": "code",
      "execution_count": null,
      "id": "fb202bc7-54f7-482e-be11-19987e080fea",
      "metadata": {
        "id": "fb202bc7-54f7-482e-be11-19987e080fea"
      },
      "outputs": [],
      "source": []
    },
    {
      "cell_type": "markdown",
      "id": "d96000d5-98b9-425e-b33e-644796fa57f8",
      "metadata": {
        "id": "d96000d5-98b9-425e-b33e-644796fa57f8"
      },
      "source": [
        "## Installing and Importing Required Libraries"
      ]
    },
    {
      "cell_type": "code",
      "execution_count": null,
      "id": "4a6b111a-0b12-44ae-80ec-9bbde8df4261",
      "metadata": {
        "id": "4a6b111a-0b12-44ae-80ec-9bbde8df4261",
        "outputId": "6ce69080-e2c4-4287-e118-760f6bdaeed3"
      },
      "outputs": [
        {
          "name": "stdout",
          "output_type": "stream",
          "text": [
            "Defaulting to user installation because normal site-packages is not writeable\n",
            "Requirement already satisfied: langchain in /home/mani/.local/lib/python3.10/site-packages (0.3.26)\n",
            "Requirement already satisfied: langsmith>=0.1.17 in /home/mani/.local/lib/python3.10/site-packages (from langchain) (0.4.1)\n",
            "Requirement already satisfied: requests<3,>=2 in /home/mani/.local/lib/python3.10/site-packages (from langchain) (2.32.4)\n",
            "Requirement already satisfied: PyYAML>=5.3 in /home/mani/.local/lib/python3.10/site-packages (from langchain) (6.0.2)\n",
            "Requirement already satisfied: async-timeout<5.0.0,>=4.0.0 in /home/mani/.local/lib/python3.10/site-packages (from langchain) (4.0.3)\n",
            "Requirement already satisfied: SQLAlchemy<3,>=1.4 in /home/mani/.local/lib/python3.10/site-packages (from langchain) (2.0.41)\n",
            "Requirement already satisfied: langchain-text-splitters<1.0.0,>=0.3.8 in /home/mani/.local/lib/python3.10/site-packages (from langchain) (0.3.8)\n",
            "Requirement already satisfied: langchain-core<1.0.0,>=0.3.66 in /home/mani/.local/lib/python3.10/site-packages (from langchain) (0.3.66)\n",
            "Requirement already satisfied: pydantic<3.0.0,>=2.7.4 in /home/mani/.local/lib/python3.10/site-packages (from langchain) (2.11.7)\n",
            "Requirement already satisfied: packaging<25,>=23.2 in /home/mani/.local/lib/python3.10/site-packages (from langchain-core<1.0.0,>=0.3.66->langchain) (24.0)\n",
            "Requirement already satisfied: typing-extensions>=4.7 in /home/mani/.local/lib/python3.10/site-packages (from langchain-core<1.0.0,>=0.3.66->langchain) (4.14.0)\n",
            "Requirement already satisfied: jsonpatch<2.0,>=1.33 in /home/mani/.local/lib/python3.10/site-packages (from langchain-core<1.0.0,>=0.3.66->langchain) (1.33)\n",
            "Requirement already satisfied: tenacity!=8.4.0,<10.0.0,>=8.1.0 in /home/mani/.local/lib/python3.10/site-packages (from langchain-core<1.0.0,>=0.3.66->langchain) (8.5.0)\n",
            "Requirement already satisfied: zstandard<0.24.0,>=0.23.0 in /home/mani/.local/lib/python3.10/site-packages (from langsmith>=0.1.17->langchain) (0.23.0)\n",
            "Requirement already satisfied: orjson<4.0.0,>=3.9.14 in /home/mani/.local/lib/python3.10/site-packages (from langsmith>=0.1.17->langchain) (3.10.6)\n",
            "Requirement already satisfied: requests-toolbelt<2.0.0,>=1.0.0 in /home/mani/.local/lib/python3.10/site-packages (from langsmith>=0.1.17->langchain) (1.0.0)\n",
            "Requirement already satisfied: httpx<1,>=0.23.0 in /home/mani/.local/lib/python3.10/site-packages (from langsmith>=0.1.17->langchain) (0.27.0)\n",
            "Requirement already satisfied: annotated-types>=0.6.0 in /home/mani/.local/lib/python3.10/site-packages (from pydantic<3.0.0,>=2.7.4->langchain) (0.7.0)\n",
            "Requirement already satisfied: pydantic-core==2.33.2 in /home/mani/.local/lib/python3.10/site-packages (from pydantic<3.0.0,>=2.7.4->langchain) (2.33.2)\n",
            "Requirement already satisfied: typing-inspection>=0.4.0 in /home/mani/.local/lib/python3.10/site-packages (from pydantic<3.0.0,>=2.7.4->langchain) (0.4.0)\n",
            "Requirement already satisfied: idna<4,>=2.5 in /usr/lib/python3/dist-packages (from requests<3,>=2->langchain) (3.3)\n",
            "Requirement already satisfied: certifi>=2017.4.17 in /home/mani/.local/lib/python3.10/site-packages (from requests<3,>=2->langchain) (2024.7.4)\n",
            "Requirement already satisfied: urllib3<3,>=1.21.1 in /usr/lib/python3/dist-packages (from requests<3,>=2->langchain) (1.26.5)\n",
            "Requirement already satisfied: charset_normalizer<4,>=2 in /home/mani/.local/lib/python3.10/site-packages (from requests<3,>=2->langchain) (3.3.2)\n",
            "Requirement already satisfied: greenlet>=1 in /home/mani/.local/lib/python3.10/site-packages (from SQLAlchemy<3,>=1.4->langchain) (3.0.3)\n",
            "Requirement already satisfied: anyio in /home/mani/.local/lib/python3.10/site-packages (from httpx<1,>=0.23.0->langsmith>=0.1.17->langchain) (4.3.0)\n",
            "Requirement already satisfied: sniffio in /home/mani/.local/lib/python3.10/site-packages (from httpx<1,>=0.23.0->langsmith>=0.1.17->langchain) (1.3.1)\n",
            "Requirement already satisfied: httpcore==1.* in /home/mani/.local/lib/python3.10/site-packages (from httpx<1,>=0.23.0->langsmith>=0.1.17->langchain) (1.0.4)\n",
            "Requirement already satisfied: h11<0.15,>=0.13 in /home/mani/.local/lib/python3.10/site-packages (from httpcore==1.*->httpx<1,>=0.23.0->langsmith>=0.1.17->langchain) (0.14.0)\n",
            "Requirement already satisfied: jsonpointer>=1.9 in /home/mani/.local/lib/python3.10/site-packages (from jsonpatch<2.0,>=1.33->langchain-core<1.0.0,>=0.3.66->langchain) (2.4)\n",
            "Requirement already satisfied: exceptiongroup>=1.0.2 in /home/mani/.local/lib/python3.10/site-packages (from anyio->httpx<1,>=0.23.0->langsmith>=0.1.17->langchain) (1.2.0)\n",
            "Defaulting to user installation because normal site-packages is not writeable\n",
            "Requirement already satisfied: langchain-core in /home/mani/.local/lib/python3.10/site-packages (0.3.66)\n",
            "Requirement already satisfied: PyYAML>=5.3 in /home/mani/.local/lib/python3.10/site-packages (from langchain-core) (6.0.2)\n",
            "Requirement already satisfied: jsonpatch<2.0,>=1.33 in /home/mani/.local/lib/python3.10/site-packages (from langchain-core) (1.33)\n",
            "Requirement already satisfied: typing-extensions>=4.7 in /home/mani/.local/lib/python3.10/site-packages (from langchain-core) (4.14.0)\n",
            "Requirement already satisfied: langsmith>=0.3.45 in /home/mani/.local/lib/python3.10/site-packages (from langchain-core) (0.4.1)\n",
            "Requirement already satisfied: tenacity!=8.4.0,<10.0.0,>=8.1.0 in /home/mani/.local/lib/python3.10/site-packages (from langchain-core) (8.5.0)\n",
            "Requirement already satisfied: packaging<25,>=23.2 in /home/mani/.local/lib/python3.10/site-packages (from langchain-core) (24.0)\n",
            "Requirement already satisfied: pydantic>=2.7.4 in /home/mani/.local/lib/python3.10/site-packages (from langchain-core) (2.11.7)\n",
            "Requirement already satisfied: jsonpointer>=1.9 in /home/mani/.local/lib/python3.10/site-packages (from jsonpatch<2.0,>=1.33->langchain-core) (2.4)\n",
            "Requirement already satisfied: orjson<4.0.0,>=3.9.14 in /home/mani/.local/lib/python3.10/site-packages (from langsmith>=0.3.45->langchain-core) (3.10.6)\n",
            "Requirement already satisfied: requests-toolbelt<2.0.0,>=1.0.0 in /home/mani/.local/lib/python3.10/site-packages (from langsmith>=0.3.45->langchain-core) (1.0.0)\n",
            "Requirement already satisfied: httpx<1,>=0.23.0 in /home/mani/.local/lib/python3.10/site-packages (from langsmith>=0.3.45->langchain-core) (0.27.0)\n",
            "Requirement already satisfied: zstandard<0.24.0,>=0.23.0 in /home/mani/.local/lib/python3.10/site-packages (from langsmith>=0.3.45->langchain-core) (0.23.0)\n",
            "Requirement already satisfied: requests<3,>=2 in /home/mani/.local/lib/python3.10/site-packages (from langsmith>=0.3.45->langchain-core) (2.32.4)\n",
            "Requirement already satisfied: annotated-types>=0.6.0 in /home/mani/.local/lib/python3.10/site-packages (from pydantic>=2.7.4->langchain-core) (0.7.0)\n",
            "Requirement already satisfied: pydantic-core==2.33.2 in /home/mani/.local/lib/python3.10/site-packages (from pydantic>=2.7.4->langchain-core) (2.33.2)\n",
            "Requirement already satisfied: typing-inspection>=0.4.0 in /home/mani/.local/lib/python3.10/site-packages (from pydantic>=2.7.4->langchain-core) (0.4.0)\n",
            "Requirement already satisfied: idna in /usr/lib/python3/dist-packages (from httpx<1,>=0.23.0->langsmith>=0.3.45->langchain-core) (3.3)\n",
            "Requirement already satisfied: sniffio in /home/mani/.local/lib/python3.10/site-packages (from httpx<1,>=0.23.0->langsmith>=0.3.45->langchain-core) (1.3.1)\n",
            "Requirement already satisfied: certifi in /home/mani/.local/lib/python3.10/site-packages (from httpx<1,>=0.23.0->langsmith>=0.3.45->langchain-core) (2024.7.4)\n",
            "Requirement already satisfied: httpcore==1.* in /home/mani/.local/lib/python3.10/site-packages (from httpx<1,>=0.23.0->langsmith>=0.3.45->langchain-core) (1.0.4)\n",
            "Requirement already satisfied: anyio in /home/mani/.local/lib/python3.10/site-packages (from httpx<1,>=0.23.0->langsmith>=0.3.45->langchain-core) (4.3.0)\n",
            "Requirement already satisfied: h11<0.15,>=0.13 in /home/mani/.local/lib/python3.10/site-packages (from httpcore==1.*->httpx<1,>=0.23.0->langsmith>=0.3.45->langchain-core) (0.14.0)\n",
            "Requirement already satisfied: charset_normalizer<4,>=2 in /home/mani/.local/lib/python3.10/site-packages (from requests<3,>=2->langsmith>=0.3.45->langchain-core) (3.3.2)\n",
            "Requirement already satisfied: urllib3<3,>=1.21.1 in /usr/lib/python3/dist-packages (from requests<3,>=2->langsmith>=0.3.45->langchain-core) (1.26.5)\n",
            "Requirement already satisfied: exceptiongroup>=1.0.2 in /home/mani/.local/lib/python3.10/site-packages (from anyio->httpx<1,>=0.23.0->langsmith>=0.3.45->langchain-core) (1.2.0)\n",
            "Defaulting to user installation because normal site-packages is not writeable\n",
            "Requirement already satisfied: langchain-community in /home/mani/.local/lib/python3.10/site-packages (0.3.26)\n",
            "Requirement already satisfied: PyYAML>=5.3 in /home/mani/.local/lib/python3.10/site-packages (from langchain-community) (6.0.2)\n",
            "Requirement already satisfied: dataclasses-json<0.7,>=0.5.7 in /home/mani/.local/lib/python3.10/site-packages (from langchain-community) (0.6.7)\n",
            "Requirement already satisfied: SQLAlchemy<3,>=1.4 in /home/mani/.local/lib/python3.10/site-packages (from langchain-community) (2.0.41)\n",
            "Requirement already satisfied: aiohttp<4.0.0,>=3.8.3 in /home/mani/.local/lib/python3.10/site-packages (from langchain-community) (3.12.13)\n",
            "Requirement already satisfied: requests<3,>=2 in /home/mani/.local/lib/python3.10/site-packages (from langchain-community) (2.32.4)\n",
            "Requirement already satisfied: pydantic-settings<3.0.0,>=2.4.0 in /home/mani/.local/lib/python3.10/site-packages (from langchain-community) (2.6.1)\n",
            "Requirement already satisfied: langsmith>=0.1.125 in /home/mani/.local/lib/python3.10/site-packages (from langchain-community) (0.4.1)\n",
            "Requirement already satisfied: httpx-sse<1.0.0,>=0.4.0 in /home/mani/.local/lib/python3.10/site-packages (from langchain-community) (0.4.0)\n",
            "Requirement already satisfied: langchain<1.0.0,>=0.3.26 in /home/mani/.local/lib/python3.10/site-packages (from langchain-community) (0.3.26)\n",
            "Requirement already satisfied: numpy>=1.26.2 in /home/mani/.local/lib/python3.10/site-packages (from langchain-community) (1.26.4)\n",
            "Requirement already satisfied: tenacity!=8.4.0,<10,>=8.1.0 in /home/mani/.local/lib/python3.10/site-packages (from langchain-community) (8.5.0)\n",
            "Requirement already satisfied: langchain-core<1.0.0,>=0.3.66 in /home/mani/.local/lib/python3.10/site-packages (from langchain-community) (0.3.66)\n",
            "Requirement already satisfied: yarl<2.0,>=1.17.0 in /home/mani/.local/lib/python3.10/site-packages (from aiohttp<4.0.0,>=3.8.3->langchain-community) (1.20.1)\n",
            "Requirement already satisfied: frozenlist>=1.1.1 in /home/mani/.local/lib/python3.10/site-packages (from aiohttp<4.0.0,>=3.8.3->langchain-community) (1.4.1)\n",
            "Requirement already satisfied: multidict<7.0,>=4.5 in /home/mani/.local/lib/python3.10/site-packages (from aiohttp<4.0.0,>=3.8.3->langchain-community) (6.0.5)\n",
            "Requirement already satisfied: aiosignal>=1.1.2 in /home/mani/.local/lib/python3.10/site-packages (from aiohttp<4.0.0,>=3.8.3->langchain-community) (1.3.1)\n",
            "Requirement already satisfied: attrs>=17.3.0 in /home/mani/.local/lib/python3.10/site-packages (from aiohttp<4.0.0,>=3.8.3->langchain-community) (23.2.0)\n",
            "Requirement already satisfied: propcache>=0.2.0 in /home/mani/.local/lib/python3.10/site-packages (from aiohttp<4.0.0,>=3.8.3->langchain-community) (0.3.2)\n",
            "Requirement already satisfied: async-timeout<6.0,>=4.0 in /home/mani/.local/lib/python3.10/site-packages (from aiohttp<4.0.0,>=3.8.3->langchain-community) (4.0.3)\n",
            "Requirement already satisfied: aiohappyeyeballs>=2.5.0 in /home/mani/.local/lib/python3.10/site-packages (from aiohttp<4.0.0,>=3.8.3->langchain-community) (2.6.1)\n",
            "Requirement already satisfied: marshmallow<4.0.0,>=3.18.0 in /home/mani/.local/lib/python3.10/site-packages (from dataclasses-json<0.7,>=0.5.7->langchain-community) (3.21.3)\n",
            "Requirement already satisfied: typing-inspect<1,>=0.4.0 in /home/mani/.local/lib/python3.10/site-packages (from dataclasses-json<0.7,>=0.5.7->langchain-community) (0.9.0)\n",
            "Requirement already satisfied: pydantic<3.0.0,>=2.7.4 in /home/mani/.local/lib/python3.10/site-packages (from langchain<1.0.0,>=0.3.26->langchain-community) (2.11.7)\n",
            "Requirement already satisfied: langchain-text-splitters<1.0.0,>=0.3.8 in /home/mani/.local/lib/python3.10/site-packages (from langchain<1.0.0,>=0.3.26->langchain-community) (0.3.8)\n",
            "Requirement already satisfied: jsonpatch<2.0,>=1.33 in /home/mani/.local/lib/python3.10/site-packages (from langchain-core<1.0.0,>=0.3.66->langchain-community) (1.33)\n",
            "Requirement already satisfied: typing-extensions>=4.7 in /home/mani/.local/lib/python3.10/site-packages (from langchain-core<1.0.0,>=0.3.66->langchain-community) (4.14.0)\n",
            "Requirement already satisfied: packaging<25,>=23.2 in /home/mani/.local/lib/python3.10/site-packages (from langchain-core<1.0.0,>=0.3.66->langchain-community) (24.0)\n",
            "Requirement already satisfied: requests-toolbelt<2.0.0,>=1.0.0 in /home/mani/.local/lib/python3.10/site-packages (from langsmith>=0.1.125->langchain-community) (1.0.0)\n",
            "Requirement already satisfied: orjson<4.0.0,>=3.9.14 in /home/mani/.local/lib/python3.10/site-packages (from langsmith>=0.1.125->langchain-community) (3.10.6)\n",
            "Requirement already satisfied: httpx<1,>=0.23.0 in /home/mani/.local/lib/python3.10/site-packages (from langsmith>=0.1.125->langchain-community) (0.27.0)\n",
            "Requirement already satisfied: zstandard<0.24.0,>=0.23.0 in /home/mani/.local/lib/python3.10/site-packages (from langsmith>=0.1.125->langchain-community) (0.23.0)\n",
            "Requirement already satisfied: python-dotenv>=0.21.0 in /home/mani/.local/lib/python3.10/site-packages (from pydantic-settings<3.0.0,>=2.4.0->langchain-community) (1.0.1)\n",
            "Requirement already satisfied: charset_normalizer<4,>=2 in /home/mani/.local/lib/python3.10/site-packages (from requests<3,>=2->langchain-community) (3.3.2)\n",
            "Requirement already satisfied: idna<4,>=2.5 in /usr/lib/python3/dist-packages (from requests<3,>=2->langchain-community) (3.3)\n",
            "Requirement already satisfied: urllib3<3,>=1.21.1 in /usr/lib/python3/dist-packages (from requests<3,>=2->langchain-community) (1.26.5)\n",
            "Requirement already satisfied: certifi>=2017.4.17 in /home/mani/.local/lib/python3.10/site-packages (from requests<3,>=2->langchain-community) (2024.7.4)\n",
            "Requirement already satisfied: greenlet>=1 in /home/mani/.local/lib/python3.10/site-packages (from SQLAlchemy<3,>=1.4->langchain-community) (3.0.3)\n",
            "Requirement already satisfied: httpcore==1.* in /home/mani/.local/lib/python3.10/site-packages (from httpx<1,>=0.23.0->langsmith>=0.1.125->langchain-community) (1.0.4)\n",
            "Requirement already satisfied: sniffio in /home/mani/.local/lib/python3.10/site-packages (from httpx<1,>=0.23.0->langsmith>=0.1.125->langchain-community) (1.3.1)\n",
            "Requirement already satisfied: anyio in /home/mani/.local/lib/python3.10/site-packages (from httpx<1,>=0.23.0->langsmith>=0.1.125->langchain-community) (4.3.0)\n",
            "Requirement already satisfied: h11<0.15,>=0.13 in /home/mani/.local/lib/python3.10/site-packages (from httpcore==1.*->httpx<1,>=0.23.0->langsmith>=0.1.125->langchain-community) (0.14.0)\n",
            "Requirement already satisfied: jsonpointer>=1.9 in /home/mani/.local/lib/python3.10/site-packages (from jsonpatch<2.0,>=1.33->langchain-core<1.0.0,>=0.3.66->langchain-community) (2.4)\n",
            "Requirement already satisfied: pydantic-core==2.33.2 in /home/mani/.local/lib/python3.10/site-packages (from pydantic<3.0.0,>=2.7.4->langchain<1.0.0,>=0.3.26->langchain-community) (2.33.2)\n",
            "Requirement already satisfied: annotated-types>=0.6.0 in /home/mani/.local/lib/python3.10/site-packages (from pydantic<3.0.0,>=2.7.4->langchain<1.0.0,>=0.3.26->langchain-community) (0.7.0)\n",
            "Requirement already satisfied: typing-inspection>=0.4.0 in /home/mani/.local/lib/python3.10/site-packages (from pydantic<3.0.0,>=2.7.4->langchain<1.0.0,>=0.3.26->langchain-community) (0.4.0)\n",
            "Requirement already satisfied: mypy-extensions>=0.3.0 in /home/mani/.local/lib/python3.10/site-packages (from typing-inspect<1,>=0.4.0->dataclasses-json<0.7,>=0.5.7->langchain-community) (1.0.0)\n",
            "Requirement already satisfied: exceptiongroup>=1.0.2 in /home/mani/.local/lib/python3.10/site-packages (from anyio->httpx<1,>=0.23.0->langsmith>=0.1.125->langchain-community) (1.2.0)\n",
            "Defaulting to user installation because normal site-packages is not writeable\n",
            "Requirement already satisfied: langgraph in /home/mani/.local/lib/python3.10/site-packages (0.4.8)\n",
            "Requirement already satisfied: xxhash>=3.5.0 in /home/mani/.local/lib/python3.10/site-packages (from langgraph) (3.5.0)\n",
            "Requirement already satisfied: langgraph-checkpoint>=2.0.26 in /home/mani/.local/lib/python3.10/site-packages (from langgraph) (2.1.0)\n",
            "Requirement already satisfied: langgraph-prebuilt>=0.2.0 in /home/mani/.local/lib/python3.10/site-packages (from langgraph) (0.2.2)\n",
            "Requirement already satisfied: langgraph-sdk>=0.1.42 in /home/mani/.local/lib/python3.10/site-packages (from langgraph) (0.1.48)\n",
            "Requirement already satisfied: langchain-core>=0.1 in /home/mani/.local/lib/python3.10/site-packages (from langgraph) (0.3.66)\n",
            "Requirement already satisfied: pydantic>=2.7.4 in /home/mani/.local/lib/python3.10/site-packages (from langgraph) (2.11.7)\n",
            "Requirement already satisfied: packaging<25,>=23.2 in /home/mani/.local/lib/python3.10/site-packages (from langchain-core>=0.1->langgraph) (24.0)\n",
            "Requirement already satisfied: typing-extensions>=4.7 in /home/mani/.local/lib/python3.10/site-packages (from langchain-core>=0.1->langgraph) (4.14.0)\n",
            "Requirement already satisfied: tenacity!=8.4.0,<10.0.0,>=8.1.0 in /home/mani/.local/lib/python3.10/site-packages (from langchain-core>=0.1->langgraph) (8.5.0)\n",
            "Requirement already satisfied: langsmith>=0.3.45 in /home/mani/.local/lib/python3.10/site-packages (from langchain-core>=0.1->langgraph) (0.4.1)\n",
            "Requirement already satisfied: jsonpatch<2.0,>=1.33 in /home/mani/.local/lib/python3.10/site-packages (from langchain-core>=0.1->langgraph) (1.33)\n",
            "Requirement already satisfied: PyYAML>=5.3 in /home/mani/.local/lib/python3.10/site-packages (from langchain-core>=0.1->langgraph) (6.0.2)\n",
            "Requirement already satisfied: ormsgpack>=1.10.0 in /home/mani/.local/lib/python3.10/site-packages (from langgraph-checkpoint>=2.0.26->langgraph) (1.10.0)\n",
            "Requirement already satisfied: httpx>=0.25.2 in /home/mani/.local/lib/python3.10/site-packages (from langgraph-sdk>=0.1.42->langgraph) (0.27.0)\n",
            "Requirement already satisfied: orjson>=3.10.1 in /home/mani/.local/lib/python3.10/site-packages (from langgraph-sdk>=0.1.42->langgraph) (3.10.6)\n",
            "Requirement already satisfied: typing-inspection>=0.4.0 in /home/mani/.local/lib/python3.10/site-packages (from pydantic>=2.7.4->langgraph) (0.4.0)\n",
            "Requirement already satisfied: annotated-types>=0.6.0 in /home/mani/.local/lib/python3.10/site-packages (from pydantic>=2.7.4->langgraph) (0.7.0)\n",
            "Requirement already satisfied: pydantic-core==2.33.2 in /home/mani/.local/lib/python3.10/site-packages (from pydantic>=2.7.4->langgraph) (2.33.2)\n",
            "Requirement already satisfied: idna in /usr/lib/python3/dist-packages (from httpx>=0.25.2->langgraph-sdk>=0.1.42->langgraph) (3.3)\n",
            "Requirement already satisfied: anyio in /home/mani/.local/lib/python3.10/site-packages (from httpx>=0.25.2->langgraph-sdk>=0.1.42->langgraph) (4.3.0)\n",
            "Requirement already satisfied: certifi in /home/mani/.local/lib/python3.10/site-packages (from httpx>=0.25.2->langgraph-sdk>=0.1.42->langgraph) (2024.7.4)\n",
            "Requirement already satisfied: sniffio in /home/mani/.local/lib/python3.10/site-packages (from httpx>=0.25.2->langgraph-sdk>=0.1.42->langgraph) (1.3.1)\n",
            "Requirement already satisfied: httpcore==1.* in /home/mani/.local/lib/python3.10/site-packages (from httpx>=0.25.2->langgraph-sdk>=0.1.42->langgraph) (1.0.4)\n",
            "Requirement already satisfied: h11<0.15,>=0.13 in /home/mani/.local/lib/python3.10/site-packages (from httpcore==1.*->httpx>=0.25.2->langgraph-sdk>=0.1.42->langgraph) (0.14.0)\n",
            "Requirement already satisfied: jsonpointer>=1.9 in /home/mani/.local/lib/python3.10/site-packages (from jsonpatch<2.0,>=1.33->langchain-core>=0.1->langgraph) (2.4)\n",
            "Requirement already satisfied: requests-toolbelt<2.0.0,>=1.0.0 in /home/mani/.local/lib/python3.10/site-packages (from langsmith>=0.3.45->langchain-core>=0.1->langgraph) (1.0.0)\n",
            "Requirement already satisfied: requests<3,>=2 in /home/mani/.local/lib/python3.10/site-packages (from langsmith>=0.3.45->langchain-core>=0.1->langgraph) (2.32.4)\n",
            "Requirement already satisfied: zstandard<0.24.0,>=0.23.0 in /home/mani/.local/lib/python3.10/site-packages (from langsmith>=0.3.45->langchain-core>=0.1->langgraph) (0.23.0)\n",
            "Requirement already satisfied: charset_normalizer<4,>=2 in /home/mani/.local/lib/python3.10/site-packages (from requests<3,>=2->langsmith>=0.3.45->langchain-core>=0.1->langgraph) (3.3.2)\n",
            "Requirement already satisfied: urllib3<3,>=1.21.1 in /usr/lib/python3/dist-packages (from requests<3,>=2->langsmith>=0.3.45->langchain-core>=0.1->langgraph) (1.26.5)\n",
            "Requirement already satisfied: exceptiongroup>=1.0.2 in /home/mani/.local/lib/python3.10/site-packages (from anyio->httpx>=0.25.2->langgraph-sdk>=0.1.42->langgraph) (1.2.0)\n",
            "Defaulting to user installation because normal site-packages is not writeable\n",
            "Requirement already satisfied: langchain_huggingface in /home/mani/.local/lib/python3.10/site-packages (0.3.0)\n",
            "Requirement already satisfied: huggingface-hub>=0.30.2 in /home/mani/.local/lib/python3.10/site-packages (from langchain_huggingface) (0.33.1)\n",
            "Requirement already satisfied: tokenizers>=0.19.1 in /home/mani/.local/lib/python3.10/site-packages (from langchain_huggingface) (0.20.0)\n",
            "Requirement already satisfied: langchain-core<1.0.0,>=0.3.65 in /home/mani/.local/lib/python3.10/site-packages (from langchain_huggingface) (0.3.66)\n",
            "Requirement already satisfied: filelock in /home/mani/.local/lib/python3.10/site-packages (from huggingface-hub>=0.30.2->langchain_huggingface) (3.16.1)\n",
            "Requirement already satisfied: hf-xet<2.0.0,>=1.1.2 in /home/mani/.local/lib/python3.10/site-packages (from huggingface-hub>=0.30.2->langchain_huggingface) (1.1.5)\n",
            "Requirement already satisfied: typing-extensions>=3.7.4.3 in /home/mani/.local/lib/python3.10/site-packages (from huggingface-hub>=0.30.2->langchain_huggingface) (4.14.0)\n",
            "Requirement already satisfied: pyyaml>=5.1 in /home/mani/.local/lib/python3.10/site-packages (from huggingface-hub>=0.30.2->langchain_huggingface) (6.0.2)\n",
            "Requirement already satisfied: packaging>=20.9 in /home/mani/.local/lib/python3.10/site-packages (from huggingface-hub>=0.30.2->langchain_huggingface) (24.0)\n",
            "Requirement already satisfied: tqdm>=4.42.1 in /home/mani/.local/lib/python3.10/site-packages (from huggingface-hub>=0.30.2->langchain_huggingface) (4.67.1)\n",
            "Requirement already satisfied: requests in /home/mani/.local/lib/python3.10/site-packages (from huggingface-hub>=0.30.2->langchain_huggingface) (2.32.4)\n",
            "Requirement already satisfied: fsspec>=2023.5.0 in /home/mani/.local/lib/python3.10/site-packages (from huggingface-hub>=0.30.2->langchain_huggingface) (2024.9.0)\n",
            "Requirement already satisfied: tenacity!=8.4.0,<10.0.0,>=8.1.0 in /home/mani/.local/lib/python3.10/site-packages (from langchain-core<1.0.0,>=0.3.65->langchain_huggingface) (8.5.0)\n",
            "Requirement already satisfied: pydantic>=2.7.4 in /home/mani/.local/lib/python3.10/site-packages (from langchain-core<1.0.0,>=0.3.65->langchain_huggingface) (2.11.7)\n",
            "Requirement already satisfied: jsonpatch<2.0,>=1.33 in /home/mani/.local/lib/python3.10/site-packages (from langchain-core<1.0.0,>=0.3.65->langchain_huggingface) (1.33)\n",
            "Requirement already satisfied: langsmith>=0.3.45 in /home/mani/.local/lib/python3.10/site-packages (from langchain-core<1.0.0,>=0.3.65->langchain_huggingface) (0.4.1)\n",
            "Requirement already satisfied: jsonpointer>=1.9 in /home/mani/.local/lib/python3.10/site-packages (from jsonpatch<2.0,>=1.33->langchain-core<1.0.0,>=0.3.65->langchain_huggingface) (2.4)\n",
            "Requirement already satisfied: requests-toolbelt<2.0.0,>=1.0.0 in /home/mani/.local/lib/python3.10/site-packages (from langsmith>=0.3.45->langchain-core<1.0.0,>=0.3.65->langchain_huggingface) (1.0.0)\n",
            "Requirement already satisfied: httpx<1,>=0.23.0 in /home/mani/.local/lib/python3.10/site-packages (from langsmith>=0.3.45->langchain-core<1.0.0,>=0.3.65->langchain_huggingface) (0.27.0)\n",
            "Requirement already satisfied: orjson<4.0.0,>=3.9.14 in /home/mani/.local/lib/python3.10/site-packages (from langsmith>=0.3.45->langchain-core<1.0.0,>=0.3.65->langchain_huggingface) (3.10.6)\n",
            "Requirement already satisfied: zstandard<0.24.0,>=0.23.0 in /home/mani/.local/lib/python3.10/site-packages (from langsmith>=0.3.45->langchain-core<1.0.0,>=0.3.65->langchain_huggingface) (0.23.0)\n",
            "Requirement already satisfied: pydantic-core==2.33.2 in /home/mani/.local/lib/python3.10/site-packages (from pydantic>=2.7.4->langchain-core<1.0.0,>=0.3.65->langchain_huggingface) (2.33.2)\n",
            "Requirement already satisfied: typing-inspection>=0.4.0 in /home/mani/.local/lib/python3.10/site-packages (from pydantic>=2.7.4->langchain-core<1.0.0,>=0.3.65->langchain_huggingface) (0.4.0)\n",
            "Requirement already satisfied: annotated-types>=0.6.0 in /home/mani/.local/lib/python3.10/site-packages (from pydantic>=2.7.4->langchain-core<1.0.0,>=0.3.65->langchain_huggingface) (0.7.0)\n",
            "Requirement already satisfied: certifi>=2017.4.17 in /home/mani/.local/lib/python3.10/site-packages (from requests->huggingface-hub>=0.30.2->langchain_huggingface) (2024.7.4)\n",
            "Requirement already satisfied: charset_normalizer<4,>=2 in /home/mani/.local/lib/python3.10/site-packages (from requests->huggingface-hub>=0.30.2->langchain_huggingface) (3.3.2)\n",
            "Requirement already satisfied: idna<4,>=2.5 in /usr/lib/python3/dist-packages (from requests->huggingface-hub>=0.30.2->langchain_huggingface) (3.3)\n",
            "Requirement already satisfied: urllib3<3,>=1.21.1 in /usr/lib/python3/dist-packages (from requests->huggingface-hub>=0.30.2->langchain_huggingface) (1.26.5)\n",
            "Requirement already satisfied: httpcore==1.* in /home/mani/.local/lib/python3.10/site-packages (from httpx<1,>=0.23.0->langsmith>=0.3.45->langchain-core<1.0.0,>=0.3.65->langchain_huggingface) (1.0.4)\n",
            "Requirement already satisfied: anyio in /home/mani/.local/lib/python3.10/site-packages (from httpx<1,>=0.23.0->langsmith>=0.3.45->langchain-core<1.0.0,>=0.3.65->langchain_huggingface) (4.3.0)\n",
            "Requirement already satisfied: sniffio in /home/mani/.local/lib/python3.10/site-packages (from httpx<1,>=0.23.0->langsmith>=0.3.45->langchain-core<1.0.0,>=0.3.65->langchain_huggingface) (1.3.1)\n",
            "Requirement already satisfied: h11<0.15,>=0.13 in /home/mani/.local/lib/python3.10/site-packages (from httpcore==1.*->httpx<1,>=0.23.0->langsmith>=0.3.45->langchain-core<1.0.0,>=0.3.65->langchain_huggingface) (0.14.0)\n",
            "Requirement already satisfied: exceptiongroup>=1.0.2 in /home/mani/.local/lib/python3.10/site-packages (from anyio->httpx<1,>=0.23.0->langsmith>=0.3.45->langchain-core<1.0.0,>=0.3.65->langchain_huggingface) (1.2.0)\n",
            "Defaulting to user installation because normal site-packages is not writeable\n",
            "Requirement already satisfied: tabulate in /home/mani/.local/lib/python3.10/site-packages (0.9.0)\n",
            "Found existing installation: pydantic 2.11.7\n",
            "Uninstalling pydantic-2.11.7:\n",
            "  Successfully uninstalled pydantic-2.11.7\n",
            "Defaulting to user installation because normal site-packages is not writeable\n",
            "Collecting pydantic<3,>=2.11\n",
            "  Downloading pydantic-2.11.7-py3-none-any.whl (444 kB)\n",
            "\u001b[2K     \u001b[38;2;114;156;31m━━━━━━━━━━━━━━━━━━━━━━━━━━━━━━━━━━━━━\u001b[0m \u001b[32m444.8/444.8 KB\u001b[0m \u001b[31m669.3 kB/s\u001b[0m eta \u001b[36m0:00:00\u001b[0m1m711.9 kB/s\u001b[0m eta \u001b[36m0:00:01\u001b[0m\n",
            "\u001b[?25hRequirement already satisfied: pydantic-core==2.33.2 in /home/mani/.local/lib/python3.10/site-packages (from pydantic<3,>=2.11) (2.33.2)\n",
            "Requirement already satisfied: typing-extensions>=4.12.2 in /home/mani/.local/lib/python3.10/site-packages (from pydantic<3,>=2.11) (4.14.0)\n",
            "Requirement already satisfied: annotated-types>=0.6.0 in /home/mani/.local/lib/python3.10/site-packages (from pydantic<3,>=2.11) (0.7.0)\n",
            "Requirement already satisfied: typing-inspection>=0.4.0 in /home/mani/.local/lib/python3.10/site-packages (from pydantic<3,>=2.11) (0.4.0)\n",
            "Installing collected packages: pydantic\n",
            "Successfully installed pydantic-2.11.7\n"
          ]
        }
      ],
      "source": [
        "!pip install -q yfinance\n",
        "!pip install langchain\n",
        "!pip install langchain-core\n",
        "!pip install langchain-community\n",
        "!pip install langgraph\n",
        "!pip install langchain_huggingface\n",
        "!pip install tabulate\n",
        "!pip uninstall -y pydantic\n",
        "!pip install --no-cache-dir \"pydantic>=2.11,<3\"\n"
      ]
    },
    {
      "cell_type": "code",
      "execution_count": null,
      "id": "1a619799-9e7d-4e42-abf5-14852e2947f4",
      "metadata": {
        "id": "1a619799-9e7d-4e42-abf5-14852e2947f4"
      },
      "outputs": [],
      "source": [
        "import yfinance as yf\n",
        "import pandas as pd\n",
        "import json\n",
        "import datetime as dt\n",
        "import base64\n",
        "import requests\n",
        "import numpy as np\n",
        "\n",
        "from langchain_core.prompts import ChatPromptTemplate\n",
        "from langchain_openai import ChatOpenAI\n",
        "from langchain_core.output_parsers import StrOutputParser\n",
        "from langgraph.graph import START, END, StateGraph\n",
        "from langchain_core.messages import HumanMessage\n",
        "from langgraph.checkpoint.memory import MemorySaver\n",
        "from langchain_experimental.agents import create_pandas_dataframe_agent\n",
        "from langchain_openai import OpenAI\n",
        "from langchain.agents.agent_types import AgentType\n",
        "from typing_extensions import List, TypedDict\n",
        "from pydantic import BaseModel, Field\n",
        "from IPython.display import Image, display"
      ]
    },
    {
      "cell_type": "markdown",
      "id": "5b3b6d28-4148-488b-9442-f38eb8e3dba8",
      "metadata": {
        "id": "5b3b6d28-4148-488b-9442-f38eb8e3dba8"
      },
      "source": [
        "## Inserting and Retrieving Stock Market Data from GridDB"
      ]
    },
    {
      "cell_type": "markdown",
      "id": "7f65e352-bdf0-41f1-a633-2f1cac9a715f",
      "metadata": {
        "id": "7f65e352-bdf0-41f1-a633-2f1cac9a715f"
      },
      "source": [
        "### Importing Stock Market Data From Yahoo Finance"
      ]
    },
    {
      "cell_type": "code",
      "execution_count": null,
      "id": "11168eba-1a36-466f-8e7b-1c540a687a6b",
      "metadata": {
        "id": "11168eba-1a36-466f-8e7b-1c540a687a6b",
        "outputId": "642244ff-9e63-4780-b941-2d321ae4e6b6"
      },
      "outputs": [
        {
          "name": "stderr",
          "output_type": "stream",
          "text": [
            "[*********************100%***********************]  1 of 1 completed\n"
          ]
        },
        {
          "data": {
            "text/html": [
              "<div>\n",
              "<style scoped>\n",
              "    .dataframe tbody tr th:only-of-type {\n",
              "        vertical-align: middle;\n",
              "    }\n",
              "\n",
              "    .dataframe tbody tr th {\n",
              "        vertical-align: top;\n",
              "    }\n",
              "\n",
              "    .dataframe thead th {\n",
              "        text-align: right;\n",
              "    }\n",
              "</style>\n",
              "<table border=\"1\" class=\"dataframe\">\n",
              "  <thead>\n",
              "    <tr style=\"text-align: right;\">\n",
              "      <th></th>\n",
              "      <th>Date</th>\n",
              "      <th>Close</th>\n",
              "      <th>High</th>\n",
              "      <th>Low</th>\n",
              "      <th>Open</th>\n",
              "      <th>Volume</th>\n",
              "    </tr>\n",
              "  </thead>\n",
              "  <tbody>\n",
              "    <tr>\n",
              "      <th>0</th>\n",
              "      <td>2024-01-02</td>\n",
              "      <td>185.639999</td>\n",
              "      <td>188.440002</td>\n",
              "      <td>183.889999</td>\n",
              "      <td>187.149994</td>\n",
              "      <td>82488700</td>\n",
              "    </tr>\n",
              "    <tr>\n",
              "      <th>1</th>\n",
              "      <td>2024-01-03</td>\n",
              "      <td>184.250000</td>\n",
              "      <td>185.880005</td>\n",
              "      <td>183.429993</td>\n",
              "      <td>184.220001</td>\n",
              "      <td>58414500</td>\n",
              "    </tr>\n",
              "    <tr>\n",
              "      <th>2</th>\n",
              "      <td>2024-01-04</td>\n",
              "      <td>181.910004</td>\n",
              "      <td>183.089996</td>\n",
              "      <td>180.880005</td>\n",
              "      <td>182.149994</td>\n",
              "      <td>71983600</td>\n",
              "    </tr>\n",
              "    <tr>\n",
              "      <th>3</th>\n",
              "      <td>2024-01-05</td>\n",
              "      <td>181.179993</td>\n",
              "      <td>182.759995</td>\n",
              "      <td>180.169998</td>\n",
              "      <td>181.990005</td>\n",
              "      <td>62303300</td>\n",
              "    </tr>\n",
              "    <tr>\n",
              "      <th>4</th>\n",
              "      <td>2024-01-08</td>\n",
              "      <td>185.559998</td>\n",
              "      <td>185.600006</td>\n",
              "      <td>181.500000</td>\n",
              "      <td>182.089996</td>\n",
              "      <td>59144500</td>\n",
              "    </tr>\n",
              "  </tbody>\n",
              "</table>\n",
              "</div>"
            ],
            "text/plain": [
              "        Date       Close        High         Low        Open    Volume\n",
              "0 2024-01-02  185.639999  188.440002  183.889999  187.149994  82488700\n",
              "1 2024-01-03  184.250000  185.880005  183.429993  184.220001  58414500\n",
              "2 2024-01-04  181.910004  183.089996  180.880005  182.149994  71983600\n",
              "3 2024-01-05  181.179993  182.759995  180.169998  181.990005  62303300\n",
              "4 2024-01-08  185.559998  185.600006  181.500000  182.089996  59144500"
            ]
          },
          "execution_count": 9,
          "metadata": {},
          "output_type": "execute_result"
        }
      ],
      "source": [
        "import yfinance as yf\n",
        "import pandas as pd\n",
        "\n",
        "ticker      = \"AAPL\"\n",
        "start_date  = \"2024-01-01\"\n",
        "end_date    = \"2024-12-31\"\n",
        "\n",
        "dataset = yf.download(ticker, start=start_date, end=end_date, auto_adjust=False)\n",
        "\n",
        "# ───────────────────────────────────────────────────────────────\n",
        "# 1.  FLATTEN: keep the level that holds 'Close', 'High', …\n",
        "# ───────────────────────────────────────────────────────────────\n",
        "if isinstance(dataset.columns, pd.MultiIndex):\n",
        "\n",
        "    # find the level index where 'Close' lives\n",
        "    for lvl in range(dataset.columns.nlevels):\n",
        "        level_vals = dataset.columns.get_level_values(lvl)\n",
        "        if 'Close' in level_vals:\n",
        "            dataset.columns = level_vals        # keep that level\n",
        "            break\n",
        "else:\n",
        "    # already flat – nothing to do\n",
        "    pass\n",
        "\n",
        "# ───────────────────────────────────────────────────────────────\n",
        "# 2.  Select OHLCV, move index to 'Date'\n",
        "# ───────────────────────────────────────────────────────────────\n",
        "dataset = dataset[['Close', 'High', 'Low', 'Open', 'Volume']]\n",
        "dataset = dataset.reset_index().rename(columns={'index': 'Date'})\n",
        "dataset['Date'] = pd.to_datetime(dataset['Date'])\n",
        "\n",
        "# optional: reorder columns\n",
        "dataset = dataset[['Date', 'Close', 'High', 'Low', 'Open', 'Volume']]\n",
        "dataset.columns.name = None\n",
        "\n",
        "dataset.head()\n"
      ]
    },
    {
      "cell_type": "markdown",
      "id": "4e39c5b0-3bb7-4fcc-873e-a7aa174b8f9e",
      "metadata": {
        "id": "4e39c5b0-3bb7-4fcc-873e-a7aa174b8f9e"
      },
      "source": [
        "### Establishing a Connection with GridDB Cloud"
      ]
    },
    {
      "cell_type": "code",
      "execution_count": null,
      "id": "66cb9a86-9058-4dff-9984-510800deb8fc",
      "metadata": {
        "id": "66cb9a86-9058-4dff-9984-510800deb8fc",
        "outputId": "7767e908-4b8c-4a27-a3ab-167c39949154"
      },
      "outputs": [
        {
          "name": "stdout",
          "output_type": "stream",
          "text": [
            "200\n",
            "\n"
          ]
        }
      ],
      "source": [
        "username = \"your_user_name\"\n",
        "password = \"your_password\"\n",
        "base_url = \"your_griddb_host_url\"\n",
        "\n",
        "url = f\"{base_url}/checkConnection\"\n",
        "\n",
        "credentials = f\"{username}:{password}\"\n",
        "encoded_credentials = base64.b64encode(credentials.encode()).decode()\n",
        "\n",
        "headers = {\n",
        "    'Content-Type': 'application/json',  # Added this header to specify JSON content\n",
        "    'Authorization': f'Basic {encoded_credentials}',\n",
        "    'User-Agent': 'PostmanRuntime/7.29.0'\n",
        "}\n",
        "\n",
        "response = requests.get(url, headers=headers)\n",
        "\n",
        "print(response.status_code)\n",
        "print(response.text)"
      ]
    },
    {
      "cell_type": "markdown",
      "id": "8f962161-5981-44fe-bbd6-f5b8bb92b406",
      "metadata": {
        "id": "8f962161-5981-44fe-bbd6-f5b8bb92b406"
      },
      "source": [
        "### Creating Container for Inserting Stock Market Data in GridDB Cloud"
      ]
    },
    {
      "cell_type": "code",
      "execution_count": null,
      "id": "d26b98ab-97df-45fa-9c72-2e56f341d910",
      "metadata": {
        "id": "d26b98ab-97df-45fa-9c72-2e56f341d910",
        "outputId": "8c4d712f-7941-4cd4-dc6a-29e61ebc49bc"
      },
      "outputs": [
        {
          "data": {
            "text/plain": [
              "[{'name': 'SerialNo', 'type': 'LONG'},\n",
              " {'name': 'Date', 'type': 'STRING'},\n",
              " {'name': 'Close', 'type': 'DOUBLE'},\n",
              " {'name': 'High', 'type': 'DOUBLE'},\n",
              " {'name': 'Low', 'type': 'DOUBLE'},\n",
              " {'name': 'Open', 'type': 'DOUBLE'},\n",
              " {'name': 'Volume', 'type': 'LONG'}]"
            ]
          },
          "execution_count": 11,
          "metadata": {},
          "output_type": "execute_result"
        }
      ],
      "source": [
        "dataset.insert(0, \"SerialNo\", dataset.index + 1)\n",
        "dataset['Date'] = pd.to_datetime(dataset['Date']).dt.strftime('%Y-%m-%d')  # \"2024-01-02\"\n",
        "dataset.columns.name = None\n",
        "# Mapping pandas dtypes to GridDB types\n",
        "type_mapping = {\n",
        "    \"int64\":          \"LONG\",\n",
        "    \"float64\":        \"DOUBLE\",\n",
        "    \"bool\":           \"BOOL\",\n",
        "    'datetime64': \"TIMESTAMP\",\n",
        "    \"object\":         \"STRING\",\n",
        "    \"category\":       \"STRING\",\n",
        "}\n",
        "\n",
        "# Generate the columns part of the payload dynamically\n",
        "columns = []\n",
        "for col, dtype in dataset.dtypes.items():\n",
        "    griddb_type = type_mapping.get(str(dtype), \"STRING\")  # Default to STRING if unknown\n",
        "    columns.append({\n",
        "        \"name\": col,\n",
        "        \"type\": griddb_type\n",
        "    })\n",
        "\n",
        "columns"
      ]
    },
    {
      "cell_type": "code",
      "execution_count": null,
      "id": "727dca2d-cb42-473f-8671-477e84676569",
      "metadata": {
        "id": "727dca2d-cb42-473f-8671-477e84676569",
        "outputId": "d03cf26f-35c0-437f-aaa4-e19528ac1233"
      },
      "outputs": [
        {
          "name": "stdout",
          "output_type": "stream",
          "text": [
            "Status Code: 201\n"
          ]
        }
      ],
      "source": [
        "url = f\"{base_url}/containers\"\n",
        "container_name = \"stock_db\"\n",
        "# Create the payload for the POST request\n",
        "payload = json.dumps({\n",
        "    \"container_name\": container_name,\n",
        "    \"container_type\": \"COLLECTION\",\n",
        "    \"rowkey\": True,  # Assuming the first column as rowkey\n",
        "    \"columns\": columns\n",
        "})\n",
        "\n",
        "\n",
        "# Make the POST request to create the container\n",
        "response = requests.post(url, headers=headers, data=payload)\n",
        "\n",
        "# Print the response\n",
        "print(f\"Status Code: {response.status_code}\")\n"
      ]
    },
    {
      "cell_type": "markdown",
      "id": "4b6d020f-f9ea-4b9a-8c29-9db5c4627602",
      "metadata": {
        "id": "4b6d020f-f9ea-4b9a-8c29-9db5c4627602"
      },
      "source": [
        "### Adding Stock Data to GridbDB Cloud Container"
      ]
    },
    {
      "cell_type": "code",
      "execution_count": null,
      "id": "6f690789-0b25-4223-846c-a4d699820368",
      "metadata": {
        "id": "6f690789-0b25-4223-846c-a4d699820368",
        "outputId": "1efffa3b-02fc-4d76-9c63-4ebb03baf44b"
      },
      "outputs": [
        {
          "name": "stdout",
          "output_type": "stream",
          "text": [
            "Status Code: 200\n",
            "Response Text: {\"count\":251}\n"
          ]
        }
      ],
      "source": [
        "url = f\"{base_url}/containers/{container_name}/rows\"\n",
        "# Convert dataset to list of lists (row-wise) with proper formatting\n",
        "\n",
        "def format_row(row):\n",
        "    formatted = []\n",
        "    for item in row:\n",
        "        if pd.isna(item):\n",
        "            formatted.append(None)  # Convert NaN to None\n",
        "        elif isinstance(item, bool):\n",
        "            formatted.append(str(item).lower())  # Convert True/False to true/false\n",
        "        elif isinstance(item, (int, float)):\n",
        "            formatted.append(item)  # Keep integers and floats as they are\n",
        "        else:\n",
        "            formatted.append(str(item))  # Convert other types to string\n",
        "    return formatted\n",
        "\n",
        "# Prepare rows with correct formatting\n",
        "rows = [format_row(row) for row in dataset.values.tolist()]\n",
        "\n",
        "# Create payload as a JSON string\n",
        "payload = json.dumps(rows)\n",
        "\n",
        "# Make the PUT request to add the rows to the container\n",
        "response = requests.put(url, headers=headers, data=payload)\n",
        "\n",
        "# Print the response\n",
        "print(f\"Status Code: {response.status_code}\")\n",
        "print(f\"Response Text: {response.text}\")\n"
      ]
    },
    {
      "cell_type": "markdown",
      "id": "a413bf84-dc34-4f8b-96d9-0a208d056dde",
      "metadata": {
        "id": "a413bf84-dc34-4f8b-96d9-0a208d056dde"
      },
      "source": [
        "### Retrieving Data from GridDB"
      ]
    },
    {
      "cell_type": "code",
      "execution_count": null,
      "id": "c1089a8f-0087-4154-88e7-9926edfe1a7a",
      "metadata": {
        "id": "c1089a8f-0087-4154-88e7-9926edfe1a7a",
        "outputId": "b7362fcf-d3b6-4aa8-fa13-79e20f754341"
      },
      "outputs": [
        {
          "name": "stdout",
          "output_type": "stream",
          "text": [
            "Status Code: 200\n",
            "Data retrieved successfully!\n",
            "(251, 7)\n"
          ]
        },
        {
          "data": {
            "text/html": [
              "<div>\n",
              "<style scoped>\n",
              "    .dataframe tbody tr th:only-of-type {\n",
              "        vertical-align: middle;\n",
              "    }\n",
              "\n",
              "    .dataframe tbody tr th {\n",
              "        vertical-align: top;\n",
              "    }\n",
              "\n",
              "    .dataframe thead th {\n",
              "        text-align: right;\n",
              "    }\n",
              "</style>\n",
              "<table border=\"1\" class=\"dataframe\">\n",
              "  <thead>\n",
              "    <tr style=\"text-align: right;\">\n",
              "      <th></th>\n",
              "      <th>SerialNo</th>\n",
              "      <th>Date</th>\n",
              "      <th>Close</th>\n",
              "      <th>High</th>\n",
              "      <th>Low</th>\n",
              "      <th>Open</th>\n",
              "      <th>Volume</th>\n",
              "    </tr>\n",
              "  </thead>\n",
              "  <tbody>\n",
              "    <tr>\n",
              "      <th>0</th>\n",
              "      <td>1</td>\n",
              "      <td>2024-01-02</td>\n",
              "      <td>185.639999</td>\n",
              "      <td>188.440002</td>\n",
              "      <td>183.889999</td>\n",
              "      <td>187.149994</td>\n",
              "      <td>82488700</td>\n",
              "    </tr>\n",
              "    <tr>\n",
              "      <th>1</th>\n",
              "      <td>2</td>\n",
              "      <td>2024-01-03</td>\n",
              "      <td>184.250000</td>\n",
              "      <td>185.880005</td>\n",
              "      <td>183.429993</td>\n",
              "      <td>184.220001</td>\n",
              "      <td>58414500</td>\n",
              "    </tr>\n",
              "    <tr>\n",
              "      <th>2</th>\n",
              "      <td>3</td>\n",
              "      <td>2024-01-04</td>\n",
              "      <td>181.910004</td>\n",
              "      <td>183.089996</td>\n",
              "      <td>180.880005</td>\n",
              "      <td>182.149994</td>\n",
              "      <td>71983600</td>\n",
              "    </tr>\n",
              "    <tr>\n",
              "      <th>3</th>\n",
              "      <td>4</td>\n",
              "      <td>2024-01-05</td>\n",
              "      <td>181.179993</td>\n",
              "      <td>182.759995</td>\n",
              "      <td>180.169998</td>\n",
              "      <td>181.990005</td>\n",
              "      <td>62303300</td>\n",
              "    </tr>\n",
              "    <tr>\n",
              "      <th>4</th>\n",
              "      <td>5</td>\n",
              "      <td>2024-01-08</td>\n",
              "      <td>185.559998</td>\n",
              "      <td>185.600006</td>\n",
              "      <td>181.500000</td>\n",
              "      <td>182.089996</td>\n",
              "      <td>59144500</td>\n",
              "    </tr>\n",
              "  </tbody>\n",
              "</table>\n",
              "</div>"
            ],
            "text/plain": [
              "   SerialNo        Date       Close        High         Low        Open  \\\n",
              "0         1  2024-01-02  185.639999  188.440002  183.889999  187.149994   \n",
              "1         2  2024-01-03  184.250000  185.880005  183.429993  184.220001   \n",
              "2         3  2024-01-04  181.910004  183.089996  180.880005  182.149994   \n",
              "3         4  2024-01-05  181.179993  182.759995  180.169998  181.990005   \n",
              "4         5  2024-01-08  185.559998  185.600006  181.500000  182.089996   \n",
              "\n",
              "     Volume  \n",
              "0  82488700  \n",
              "1  58414500  \n",
              "2  71983600  \n",
              "3  62303300  \n",
              "4  59144500  "
            ]
          },
          "execution_count": 12,
          "metadata": {},
          "output_type": "execute_result"
        }
      ],
      "source": [
        "container_name = \"stock_db\"\n",
        "\n",
        "url = f\"{base_url}/containers/{container_name}/rows\"\n",
        "\n",
        "# Define the payload for the query\n",
        "payload = json.dumps({\n",
        "    \"offset\": 0,           # Start from the first row\n",
        "    \"limit\": 10000,         # Limit the number of rows returned\n",
        "    \"condition\": \"\",       # No filtering condition (you can customize it)\n",
        "    \"sort\": \"\"             # No sorting (you can customize it)\n",
        "})\n",
        "\n",
        "# Make the POST request to read data from the container\n",
        "response = requests.post(url, headers=headers, data=payload)\n",
        "\n",
        "# Check response status and print output\n",
        "print(f\"Status Code: {response.status_code}\")\n",
        "if response.status_code == 200:\n",
        "    try:\n",
        "        data = response.json()\n",
        "        print(\"Data retrieved successfully!\")\n",
        "\n",
        "        # Convert the response to a DataFrame\n",
        "        rows = data.get(\"rows\", [])\n",
        "        stock_dataset = pd.DataFrame(rows, columns=[col for col in dataset.columns])\n",
        "\n",
        "    except json.JSONDecodeError:\n",
        "        print(\"Error: Failed to decode JSON response.\")\n",
        "else:\n",
        "    print(f\"Error: Failed to query data from the container. Response: {response.text}\")\n",
        "\n",
        "print(stock_dataset.shape)\n",
        "stock_dataset.head()"
      ]
    },
    {
      "cell_type": "markdown",
      "id": "960d9ac4-6b03-426e-948e-d3cad36be842",
      "metadata": {
        "id": "960d9ac4-6b03-426e-948e-d3cad36be842"
      },
      "source": [
        "## Creating a Stock Market ChatBot Using GridDB Data"
      ]
    },
    {
      "cell_type": "markdown",
      "id": "b9c068c4-a4cb-4afa-b238-62b83b789b6a",
      "metadata": {
        "id": "b9c068c4-a4cb-4afa-b238-62b83b789b6a"
      },
      "source": [
        "## Creating a Graph in LangGraph"
      ]
    },
    {
      "cell_type": "code",
      "execution_count": null,
      "id": "277a8c4b-e2ca-401b-9176-c5783baa897d",
      "metadata": {
        "id": "277a8c4b-e2ca-401b-9176-c5783baa897d"
      },
      "outputs": [],
      "source": [
        "class State(TypedDict):\n",
        "    question: str\n",
        "    answer: str"
      ]
    },
    {
      "cell_type": "code",
      "execution_count": null,
      "id": "67f3dece-cd1e-4945-89bd-1f9f581f7741",
      "metadata": {
        "id": "67f3dece-cd1e-4945-89bd-1f9f581f7741"
      },
      "outputs": [],
      "source": [
        "api_key = \"YOUR_OPENAI_API_KEY\"\n",
        "llm = ChatOpenAI(model = 'gpt-4o',\n",
        "                api_key = api_key)\n",
        "\n",
        "agent = create_pandas_dataframe_agent(llm,\n",
        "                                      stock_dataset,\n",
        "                                      verbose=True,\n",
        "                                      agent_type=AgentType.ZERO_SHOT_REACT_DESCRIPTION,\n",
        "                                      allow_dangerous_code=True)\n",
        "\n",
        "def run_llm(state: State):\n",
        "    question = state['question']\n",
        "    response = agent.invoke(question)\n",
        "    return {'answer': response['output']}"
      ]
    },
    {
      "cell_type": "code",
      "execution_count": null,
      "id": "14b9faa4-c9d9-4732-80df-8a187c7b30ca",
      "metadata": {
        "id": "14b9faa4-c9d9-4732-80df-8a187c7b30ca",
        "outputId": "e3117b84-8527-4f50-c2ef-67c3e4402918"
      },
      "outputs": [
        {
          "data": {
            "image/png": "[encoded data removed]",
            "text/plain": [
              "<IPython.core.display.Image object>"
            ]
          },
          "metadata": {},
          "output_type": "display_data"
        }
      ],
      "source": [
        "graph_builder=StateGraph(State)\n",
        "graph_builder.add_node(\"ask_question\", run_llm)\n",
        "graph_builder.add_edge(START,\"ask_question\")\n",
        "graph_builder.add_edge(\"ask_question\",END)\n",
        "graph = graph_builder.compile()\n",
        "\n",
        "display(Image(graph.get_graph().draw_mermaid_png()))\n"
      ]
    },
    {
      "cell_type": "code",
      "execution_count": null,
      "id": "6e3122cb-dd3e-4073-b076-dfdb22f3b30b",
      "metadata": {
        "id": "6e3122cb-dd3e-4073-b076-dfdb22f3b30b",
        "outputId": "a01eb4d8-9f5b-48a2-c7bd-0e72eb30a3d6"
      },
      "outputs": [
        {
          "name": "stdout",
          "output_type": "stream",
          "text": [
            "\n",
            "\n",
            "\u001b[1m> Entering new AgentExecutor chain...\u001b[0m\n",
            "\u001b[32;1m\u001b[1;3mThought: To determine which month had the highest average opening stock price, we need to group the data by month and calculate the average opening price for each month. For the month where people made the most profit in day trading, we can calculate daily profit as the difference between the high and low prices, then aggregate these by month to find the month with the highest total daily profit. Let's proceed with these calculations.\n",
            "Action: python_repl_ast\n",
            "Action Input: \n",
            "```python\n",
            "import pandas as pd\n",
            "\n",
            "# Convert the 'Date' column to datetime format to extract month information\n",
            "df['Date'] = pd.to_datetime(df['Date'])\n",
            "\n",
            "# Extract month and year for grouping\n",
            "df['YearMonth'] = df['Date'].dt.to_period('M')\n",
            "\n",
            "# Calculate average opening stock price for each month\n",
            "average_opening_by_month = df.groupby('YearMonth')['Open'].mean()\n",
            "\n",
            "# Calculate daily profit (difference between 'High' and 'Low')\n",
            "df['DailyProfit'] = df['High'] - df['Low']\n",
            "\n",
            "# Calculate total daily trading profit for each month\n",
            "total_profit_by_month = df.groupby('YearMonth')['DailyProfit'].sum()\n",
            "\n",
            "# Determine the month with the highest average opening price and highest total profit\n",
            "highest_avg_open_month = average_opening_by_month.idxmax()\n",
            "highest_turnover_month = total_profit_by_month.idxmax()\n",
            "\n",
            "highest_avg_open_month, highest_turnover_month\n",
            "```\u001b[0m\u001b[36;1m\u001b[1;3m(Period('2024-12', 'M'), Period('2024-08', 'M'))\u001b[0m\u001b[32;1m\u001b[1;3mI now know the final answer.\n",
            "\n",
            "Final Answer: The month with the highest average opening stock price is December 2024, and the month where people made the most profit in day trading is August 2024.\u001b[0m\n",
            "\n",
            "\u001b[1m> Finished chain.\u001b[0m\n",
            "The month with the highest average opening stock price is December 2024, and the month where people made the most profit in day trading is August 2024.\n"
          ]
        }
      ],
      "source": [
        "question = [HumanMessage(content=\"Which month had the highest average opening stock price? And what is the month where people made most profit in day trading?\")]\n",
        "result = graph.invoke({\"question\": question})\n",
        "print(result['answer'])"
      ]
    },
    {
      "cell_type": "code",
      "execution_count": null,
      "id": "b8f5191a-65c7-448b-b8fa-734e92b7d3c3",
      "metadata": {
        "id": "b8f5191a-65c7-448b-b8fa-734e92b7d3c3",
        "outputId": "e2a82354-0a8d-44d1-f0d8-cfc074076d3a"
      },
      "outputs": [
        {
          "name": "stdout",
          "output_type": "stream",
          "text": [
            "\n",
            "\n",
            "\u001b[1m> Entering new AgentExecutor chain...\u001b[0m\n",
            "\u001b[32;1m\u001b[1;3mThought: To identify interesting patterns in the dataset, I can perform a few basic analyses, such as checking for trends, patterns, or correlations in the data. I can look for trends over time in the stock prices or volume, check for correlations between columns, or observe any patterns in daily trading behavior. I will start by calculating some descriptive statistics and visualizing the data to identify any patterns.\n",
            "\n",
            "Action: python_repl_ast\n",
            "Action Input: \n",
            "\"\"\"\n",
            "import pandas as pd\n",
            "import matplotlib.pyplot as plt\n",
            "\n",
            "# Describe the dataframe to get an overview of its statistics.\n",
            "df_description = df.describe()\n",
            "\n",
            "# Plotting the Close prices over time to check for trends.\n",
            "plt.figure(figsize=(10, 5))\n",
            "plt.plot(df['Date'], df['Close'], label='Close Price', color='blue')\n",
            "plt.title('Close Price Over Time')\n",
            "plt.xlabel('Date')\n",
            "plt.ylabel('Close Price')\n",
            "plt.xticks(rotation=45)\n",
            "plt.legend()\n",
            "plt.grid(True)\n",
            "plt.tight_layout()\n",
            "plt.show()\n",
            "\n",
            "df_description\n",
            "\"\"\"\u001b[0m"
          ]
        },
        {
          "data": {
            "image/png": "[encoded data removed]",
            "text/plain": [
              "<Figure size 1000x500 with 1 Axes>"
            ]
          },
          "metadata": {},
          "output_type": "display_data"
        },
        {
          "name": "stdout",
          "output_type": "stream",
          "text": [
            "\u001b[36;1m\u001b[1;3m         SerialNo                           Date       Close        High  \\\n",
            "count  251.000000                            251  251.000000  251.000000   \n",
            "mean   126.000000  2024-07-01 02:11:57.131474176  207.033745  208.733546   \n",
            "min      1.000000            2024-01-02 00:00:00  165.000000  166.399994   \n",
            "25%     63.500000            2024-04-02 12:00:00  184.199997  185.119995   \n",
            "50%    126.000000            2024-07-02 00:00:00  214.240005  216.779999   \n",
            "75%    188.500000            2024-09-30 12:00:00  227.424995  229.375000   \n",
            "max    251.000000            2024-12-30 00:00:00  259.019989  260.100006   \n",
            "std     72.601653                            NaN   25.406784   25.477327   \n",
            "\n",
            "              Low        Open        Volume  DailyProfit  \n",
            "count  251.000000  251.000000  2.510000e+02   251.000000  \n",
            "mean   205.040279  206.771115  5.719756e+07     3.693267  \n",
            "min    164.080002  165.350006  2.323470e+07     0.959991  \n",
            "25%    182.180000  183.735001  4.187125e+07     2.480003  \n",
            "50%    211.919998  213.929993  4.994790e+07     3.190002  \n",
            "75%    225.110001  227.320000  6.295815e+07     4.334999  \n",
            "max    257.630005  258.190002  3.186799e+08    17.500000  \n",
            "std     25.026478   25.219399  3.087430e+07     1.927474  \u001b[0m\u001b[32;1m\u001b[1;3mThe descriptive statistics provide a summary of the data, including mean, min, max, and standard deviation for each column, which can be helpful for identifying patterns:\n",
            "\n",
            "1. **Price Trends:**\n",
            "   - The `Close` price ranges from a minimum of 165.00 to a maximum of 259.02, with a mean of 207.03. This indicates that the stock has experienced significant growth over the course of 2024.\n",
            "   - The `High` and `Low` prices follow similar trends, indicating some volatility but consistent upward movement over time.\n",
            "\n",
            "2. **Volume:**\n",
            "   - The `Volume` of stocks traded also shows variability, with an average of approximately 57 million. There is a high maximum volume of 318 million, indicating spikes in trading activity on certain days.\n",
            "\n",
            "3. **Daily Profit:**\n",
            "   - The column labeled `DailyProfit` shows a mean profit of 3.69, suggesting small average daily gains, but it ranges from a minimum of 0.96 to a maximum of 17.50, suggesting occasional higher profits.\n",
            "\n",
            "4. **Visualization:**\n",
            "   - The plotted Close price over time would show a visual trend, which would further elucidate the upward trend of the Close prices across the year. \n",
            "\n",
            "Based on these observations, we can infer that the stock represented in this dataset has experienced growth over time in 2024, with some days of high trading activity and variable daily profits. \n",
            "\n",
            "Final Answer: The dataset reveals a generally upward trend in stock prices throughout 2024, with significant growth in Close prices, some volatility, and periods of high trading activity.\u001b[0m\n",
            "\n",
            "\u001b[1m> Finished chain.\u001b[0m\n",
            "The dataset reveals a generally upward trend in stock prices throughout 2024, with significant growth in Close prices, some volatility, and periods of high trading activity.\n"
          ]
        }
      ],
      "source": [
        "question = [HumanMessage(content=\"Do you find any interesting patterns in the dataset?\")]\n",
        "result = graph.invoke({\"question\": question})\n",
        "print(result['answer'])"
      ]
    },
    {
      "cell_type": "code",
      "execution_count": null,
      "id": "5ca48fbb-a152-450f-8a30-c2b7086d49c5",
      "metadata": {
        "id": "5ca48fbb-a152-450f-8a30-c2b7086d49c5"
      },
      "outputs": [],
      "source": []
    }
  ],
  "metadata": {
    "kernelspec": {
      "display_name": "Python 3 (ipykernel)",
      "language": "python",
      "name": "python3"
    },
    "language_info": {
      "codemirror_mode": {
        "name": "ipython",
        "version": 3
      },
      "file_extension": ".py",
      "mimetype": "text/x-python",
      "name": "python",
      "nbconvert_exporter": "python",
      "pygments_lexer": "ipython3",
      "version": "3.10.12"
    },
    "colab": {
      "provenance": []
    }
  },
  "nbformat": 4,
  "nbformat_minor": 5
}