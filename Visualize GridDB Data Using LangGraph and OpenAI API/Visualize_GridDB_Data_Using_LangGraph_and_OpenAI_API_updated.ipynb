{
  "cells": [
    {
      "cell_type": "markdown",
      "metadata": {
        "id": "8atvUIUVuIVa"
      },
      "source": [
        "## Installing and Importing Required Libraries"
      ]
    },
    {
      "cell_type": "code",
      "execution_count": null,
      "metadata": {
        "colab": {
          "base_uri": "https://localhost:8080/"
        },
        "id": "MdXVBISNu0I7",
        "outputId": "0984bb94-942b-41f8-8a0d-da50f6aad446"
      },
      "outputs": [
        {
          "name": "stdout",
          "output_type": "stream",
          "text": [
            "Defaulting to user installation because normal site-packages is not writeable\n",
            "Requirement already satisfied: langchain in /home/mani/.local/lib/python3.10/site-packages (0.3.26)\n",
            "Requirement already satisfied: pydantic<3.0.0,>=2.7.4 in /home/mani/.local/lib/python3.10/site-packages (from langchain) (2.11.7)\n",
            "Requirement already satisfied: langsmith>=0.1.17 in /home/mani/.local/lib/python3.10/site-packages (from langchain) (0.4.1)\n",
            "Requirement already satisfied: langchain-text-splitters<1.0.0,>=0.3.8 in /home/mani/.local/lib/python3.10/site-packages (from langchain) (0.3.8)\n",
            "Requirement already satisfied: SQLAlchemy<3,>=1.4 in /home/mani/.local/lib/python3.10/site-packages (from langchain) (2.0.41)\n",
            "Requirement already satisfied: langchain-core<1.0.0,>=0.3.66 in /home/mani/.local/lib/python3.10/site-packages (from langchain) (0.3.66)\n",
            "Requirement already satisfied: async-timeout<5.0.0,>=4.0.0 in /home/mani/.local/lib/python3.10/site-packages (from langchain) (4.0.3)\n",
            "Requirement already satisfied: requests<3,>=2 in /home/mani/.local/lib/python3.10/site-packages (from langchain) (2.32.4)\n",
            "Requirement already satisfied: PyYAML>=5.3 in /home/mani/.local/lib/python3.10/site-packages (from langchain) (6.0.2)\n",
            "Requirement already satisfied: typing-extensions>=4.7 in /home/mani/.local/lib/python3.10/site-packages (from langchain-core<1.0.0,>=0.3.66->langchain) (4.14.0)\n",
            "Requirement already satisfied: jsonpatch<2.0,>=1.33 in /home/mani/.local/lib/python3.10/site-packages (from langchain-core<1.0.0,>=0.3.66->langchain) (1.33)\n",
            "Requirement already satisfied: packaging<25,>=23.2 in /home/mani/.local/lib/python3.10/site-packages (from langchain-core<1.0.0,>=0.3.66->langchain) (24.0)\n",
            "Requirement already satisfied: tenacity!=8.4.0,<10.0.0,>=8.1.0 in /home/mani/.local/lib/python3.10/site-packages (from langchain-core<1.0.0,>=0.3.66->langchain) (8.5.0)\n",
            "Requirement already satisfied: requests-toolbelt<2.0.0,>=1.0.0 in /home/mani/.local/lib/python3.10/site-packages (from langsmith>=0.1.17->langchain) (1.0.0)\n",
            "Requirement already satisfied: orjson<4.0.0,>=3.9.14 in /home/mani/.local/lib/python3.10/site-packages (from langsmith>=0.1.17->langchain) (3.10.6)\n",
            "Requirement already satisfied: httpx<1,>=0.23.0 in /home/mani/.local/lib/python3.10/site-packages (from langsmith>=0.1.17->langchain) (0.27.0)\n",
            "Requirement already satisfied: zstandard<0.24.0,>=0.23.0 in /home/mani/.local/lib/python3.10/site-packages (from langsmith>=0.1.17->langchain) (0.23.0)\n",
            "Requirement already satisfied: annotated-types>=0.6.0 in /home/mani/.local/lib/python3.10/site-packages (from pydantic<3.0.0,>=2.7.4->langchain) (0.7.0)\n",
            "Requirement already satisfied: pydantic-core==2.33.2 in /home/mani/.local/lib/python3.10/site-packages (from pydantic<3.0.0,>=2.7.4->langchain) (2.33.2)\n",
            "Requirement already satisfied: typing-inspection>=0.4.0 in /home/mani/.local/lib/python3.10/site-packages (from pydantic<3.0.0,>=2.7.4->langchain) (0.4.0)\n",
            "Requirement already satisfied: urllib3<3,>=1.21.1 in /usr/lib/python3/dist-packages (from requests<3,>=2->langchain) (1.26.5)\n",
            "Requirement already satisfied: certifi>=2017.4.17 in /home/mani/.local/lib/python3.10/site-packages (from requests<3,>=2->langchain) (2024.7.4)\n",
            "Requirement already satisfied: charset_normalizer<4,>=2 in /home/mani/.local/lib/python3.10/site-packages (from requests<3,>=2->langchain) (3.3.2)\n",
            "Requirement already satisfied: idna<4,>=2.5 in /usr/lib/python3/dist-packages (from requests<3,>=2->langchain) (3.3)\n",
            "Requirement already satisfied: greenlet>=1 in /home/mani/.local/lib/python3.10/site-packages (from SQLAlchemy<3,>=1.4->langchain) (3.0.3)\n",
            "Requirement already satisfied: anyio in /home/mani/.local/lib/python3.10/site-packages (from httpx<1,>=0.23.0->langsmith>=0.1.17->langchain) (4.3.0)\n",
            "Requirement already satisfied: sniffio in /home/mani/.local/lib/python3.10/site-packages (from httpx<1,>=0.23.0->langsmith>=0.1.17->langchain) (1.3.1)\n",
            "Requirement already satisfied: httpcore==1.* in /home/mani/.local/lib/python3.10/site-packages (from httpx<1,>=0.23.0->langsmith>=0.1.17->langchain) (1.0.4)\n",
            "Requirement already satisfied: h11<0.15,>=0.13 in /home/mani/.local/lib/python3.10/site-packages (from httpcore==1.*->httpx<1,>=0.23.0->langsmith>=0.1.17->langchain) (0.14.0)\n",
            "Requirement already satisfied: jsonpointer>=1.9 in /home/mani/.local/lib/python3.10/site-packages (from jsonpatch<2.0,>=1.33->langchain-core<1.0.0,>=0.3.66->langchain) (2.4)\n",
            "Requirement already satisfied: exceptiongroup>=1.0.2 in /home/mani/.local/lib/python3.10/site-packages (from anyio->httpx<1,>=0.23.0->langsmith>=0.1.17->langchain) (1.2.0)\n",
            "Defaulting to user installation because normal site-packages is not writeable\n",
            "Requirement already satisfied: langchain-core in /home/mani/.local/lib/python3.10/site-packages (0.3.66)\n",
            "Requirement already satisfied: packaging<25,>=23.2 in /home/mani/.local/lib/python3.10/site-packages (from langchain-core) (24.0)\n",
            "Requirement already satisfied: typing-extensions>=4.7 in /home/mani/.local/lib/python3.10/site-packages (from langchain-core) (4.14.0)\n",
            "Requirement already satisfied: langsmith>=0.3.45 in /home/mani/.local/lib/python3.10/site-packages (from langchain-core) (0.4.1)\n",
            "Requirement already satisfied: pydantic>=2.7.4 in /home/mani/.local/lib/python3.10/site-packages (from langchain-core) (2.11.7)\n",
            "Requirement already satisfied: tenacity!=8.4.0,<10.0.0,>=8.1.0 in /home/mani/.local/lib/python3.10/site-packages (from langchain-core) (8.5.0)\n",
            "Requirement already satisfied: jsonpatch<2.0,>=1.33 in /home/mani/.local/lib/python3.10/site-packages (from langchain-core) (1.33)\n",
            "Requirement already satisfied: PyYAML>=5.3 in /home/mani/.local/lib/python3.10/site-packages (from langchain-core) (6.0.2)\n",
            "Requirement already satisfied: jsonpointer>=1.9 in /home/mani/.local/lib/python3.10/site-packages (from jsonpatch<2.0,>=1.33->langchain-core) (2.4)\n",
            "Requirement already satisfied: orjson<4.0.0,>=3.9.14 in /home/mani/.local/lib/python3.10/site-packages (from langsmith>=0.3.45->langchain-core) (3.10.6)\n",
            "Requirement already satisfied: zstandard<0.24.0,>=0.23.0 in /home/mani/.local/lib/python3.10/site-packages (from langsmith>=0.3.45->langchain-core) (0.23.0)\n",
            "Requirement already satisfied: requests-toolbelt<2.0.0,>=1.0.0 in /home/mani/.local/lib/python3.10/site-packages (from langsmith>=0.3.45->langchain-core) (1.0.0)\n",
            "Requirement already satisfied: httpx<1,>=0.23.0 in /home/mani/.local/lib/python3.10/site-packages (from langsmith>=0.3.45->langchain-core) (0.27.0)\n",
            "Requirement already satisfied: requests<3,>=2 in /home/mani/.local/lib/python3.10/site-packages (from langsmith>=0.3.45->langchain-core) (2.32.4)\n",
            "Requirement already satisfied: pydantic-core==2.33.2 in /home/mani/.local/lib/python3.10/site-packages (from pydantic>=2.7.4->langchain-core) (2.33.2)\n",
            "Requirement already satisfied: typing-inspection>=0.4.0 in /home/mani/.local/lib/python3.10/site-packages (from pydantic>=2.7.4->langchain-core) (0.4.0)\n",
            "Requirement already satisfied: annotated-types>=0.6.0 in /home/mani/.local/lib/python3.10/site-packages (from pydantic>=2.7.4->langchain-core) (0.7.0)\n",
            "Requirement already satisfied: sniffio in /home/mani/.local/lib/python3.10/site-packages (from httpx<1,>=0.23.0->langsmith>=0.3.45->langchain-core) (1.3.1)\n",
            "Requirement already satisfied: idna in /usr/lib/python3/dist-packages (from httpx<1,>=0.23.0->langsmith>=0.3.45->langchain-core) (3.3)\n",
            "Requirement already satisfied: httpcore==1.* in /home/mani/.local/lib/python3.10/site-packages (from httpx<1,>=0.23.0->langsmith>=0.3.45->langchain-core) (1.0.4)\n",
            "Requirement already satisfied: anyio in /home/mani/.local/lib/python3.10/site-packages (from httpx<1,>=0.23.0->langsmith>=0.3.45->langchain-core) (4.3.0)\n",
            "Requirement already satisfied: certifi in /home/mani/.local/lib/python3.10/site-packages (from httpx<1,>=0.23.0->langsmith>=0.3.45->langchain-core) (2024.7.4)\n",
            "Requirement already satisfied: h11<0.15,>=0.13 in /home/mani/.local/lib/python3.10/site-packages (from httpcore==1.*->httpx<1,>=0.23.0->langsmith>=0.3.45->langchain-core) (0.14.0)\n",
            "Requirement already satisfied: urllib3<3,>=1.21.1 in /usr/lib/python3/dist-packages (from requests<3,>=2->langsmith>=0.3.45->langchain-core) (1.26.5)\n",
            "Requirement already satisfied: charset_normalizer<4,>=2 in /home/mani/.local/lib/python3.10/site-packages (from requests<3,>=2->langsmith>=0.3.45->langchain-core) (3.3.2)\n",
            "Requirement already satisfied: exceptiongroup>=1.0.2 in /home/mani/.local/lib/python3.10/site-packages (from anyio->httpx<1,>=0.23.0->langsmith>=0.3.45->langchain-core) (1.2.0)\n",
            "Defaulting to user installation because normal site-packages is not writeable\n",
            "Requirement already satisfied: langchain-community in /home/mani/.local/lib/python3.10/site-packages (0.3.26)\n",
            "Requirement already satisfied: PyYAML>=5.3 in /home/mani/.local/lib/python3.10/site-packages (from langchain-community) (6.0.2)\n",
            "Requirement already satisfied: langchain<1.0.0,>=0.3.26 in /home/mani/.local/lib/python3.10/site-packages (from langchain-community) (0.3.26)\n",
            "Requirement already satisfied: langchain-core<1.0.0,>=0.3.66 in /home/mani/.local/lib/python3.10/site-packages (from langchain-community) (0.3.66)\n",
            "Requirement already satisfied: tenacity!=8.4.0,<10,>=8.1.0 in /home/mani/.local/lib/python3.10/site-packages (from langchain-community) (8.5.0)\n",
            "Requirement already satisfied: aiohttp<4.0.0,>=3.8.3 in /home/mani/.local/lib/python3.10/site-packages (from langchain-community) (3.12.13)\n",
            "Requirement already satisfied: httpx-sse<1.0.0,>=0.4.0 in /home/mani/.local/lib/python3.10/site-packages (from langchain-community) (0.4.0)\n",
            "Requirement already satisfied: numpy>=1.26.2 in /home/mani/.local/lib/python3.10/site-packages (from langchain-community) (1.26.4)\n",
            "Requirement already satisfied: pydantic-settings<3.0.0,>=2.4.0 in /home/mani/.local/lib/python3.10/site-packages (from langchain-community) (2.6.1)\n",
            "Requirement already satisfied: langsmith>=0.1.125 in /home/mani/.local/lib/python3.10/site-packages (from langchain-community) (0.4.1)\n",
            "Requirement already satisfied: dataclasses-json<0.7,>=0.5.7 in /home/mani/.local/lib/python3.10/site-packages (from langchain-community) (0.6.7)\n",
            "Requirement already satisfied: requests<3,>=2 in /home/mani/.local/lib/python3.10/site-packages (from langchain-community) (2.32.4)\n",
            "Requirement already satisfied: SQLAlchemy<3,>=1.4 in /home/mani/.local/lib/python3.10/site-packages (from langchain-community) (2.0.41)\n",
            "Requirement already satisfied: aiosignal>=1.1.2 in /home/mani/.local/lib/python3.10/site-packages (from aiohttp<4.0.0,>=3.8.3->langchain-community) (1.3.1)\n",
            "Requirement already satisfied: aiohappyeyeballs>=2.5.0 in /home/mani/.local/lib/python3.10/site-packages (from aiohttp<4.0.0,>=3.8.3->langchain-community) (2.6.1)\n",
            "Requirement already satisfied: yarl<2.0,>=1.17.0 in /home/mani/.local/lib/python3.10/site-packages (from aiohttp<4.0.0,>=3.8.3->langchain-community) (1.20.1)\n",
            "Requirement already satisfied: frozenlist>=1.1.1 in /home/mani/.local/lib/python3.10/site-packages (from aiohttp<4.0.0,>=3.8.3->langchain-community) (1.4.1)\n",
            "Requirement already satisfied: multidict<7.0,>=4.5 in /home/mani/.local/lib/python3.10/site-packages (from aiohttp<4.0.0,>=3.8.3->langchain-community) (6.0.5)\n",
            "Requirement already satisfied: propcache>=0.2.0 in /home/mani/.local/lib/python3.10/site-packages (from aiohttp<4.0.0,>=3.8.3->langchain-community) (0.3.2)\n",
            "Requirement already satisfied: async-timeout<6.0,>=4.0 in /home/mani/.local/lib/python3.10/site-packages (from aiohttp<4.0.0,>=3.8.3->langchain-community) (4.0.3)\n",
            "Requirement already satisfied: attrs>=17.3.0 in /home/mani/.local/lib/python3.10/site-packages (from aiohttp<4.0.0,>=3.8.3->langchain-community) (23.2.0)\n",
            "Requirement already satisfied: marshmallow<4.0.0,>=3.18.0 in /home/mani/.local/lib/python3.10/site-packages (from dataclasses-json<0.7,>=0.5.7->langchain-community) (3.21.3)\n",
            "Requirement already satisfied: typing-inspect<1,>=0.4.0 in /home/mani/.local/lib/python3.10/site-packages (from dataclasses-json<0.7,>=0.5.7->langchain-community) (0.9.0)\n",
            "Requirement already satisfied: langchain-text-splitters<1.0.0,>=0.3.8 in /home/mani/.local/lib/python3.10/site-packages (from langchain<1.0.0,>=0.3.26->langchain-community) (0.3.8)\n",
            "Requirement already satisfied: pydantic<3.0.0,>=2.7.4 in /home/mani/.local/lib/python3.10/site-packages (from langchain<1.0.0,>=0.3.26->langchain-community) (2.11.7)\n",
            "Requirement already satisfied: typing-extensions>=4.7 in /home/mani/.local/lib/python3.10/site-packages (from langchain-core<1.0.0,>=0.3.66->langchain-community) (4.14.0)\n",
            "Requirement already satisfied: packaging<25,>=23.2 in /home/mani/.local/lib/python3.10/site-packages (from langchain-core<1.0.0,>=0.3.66->langchain-community) (24.0)\n",
            "Requirement already satisfied: jsonpatch<2.0,>=1.33 in /home/mani/.local/lib/python3.10/site-packages (from langchain-core<1.0.0,>=0.3.66->langchain-community) (1.33)\n",
            "Requirement already satisfied: orjson<4.0.0,>=3.9.14 in /home/mani/.local/lib/python3.10/site-packages (from langsmith>=0.1.125->langchain-community) (3.10.6)\n",
            "Requirement already satisfied: requests-toolbelt<2.0.0,>=1.0.0 in /home/mani/.local/lib/python3.10/site-packages (from langsmith>=0.1.125->langchain-community) (1.0.0)\n",
            "Requirement already satisfied: zstandard<0.24.0,>=0.23.0 in /home/mani/.local/lib/python3.10/site-packages (from langsmith>=0.1.125->langchain-community) (0.23.0)\n",
            "Requirement already satisfied: httpx<1,>=0.23.0 in /home/mani/.local/lib/python3.10/site-packages (from langsmith>=0.1.125->langchain-community) (0.27.0)\n",
            "Requirement already satisfied: python-dotenv>=0.21.0 in /home/mani/.local/lib/python3.10/site-packages (from pydantic-settings<3.0.0,>=2.4.0->langchain-community) (1.0.1)\n",
            "Requirement already satisfied: urllib3<3,>=1.21.1 in /usr/lib/python3/dist-packages (from requests<3,>=2->langchain-community) (1.26.5)\n",
            "Requirement already satisfied: idna<4,>=2.5 in /usr/lib/python3/dist-packages (from requests<3,>=2->langchain-community) (3.3)\n",
            "Requirement already satisfied: charset_normalizer<4,>=2 in /home/mani/.local/lib/python3.10/site-packages (from requests<3,>=2->langchain-community) (3.3.2)\n",
            "Requirement already satisfied: certifi>=2017.4.17 in /home/mani/.local/lib/python3.10/site-packages (from requests<3,>=2->langchain-community) (2024.7.4)\n",
            "Requirement already satisfied: greenlet>=1 in /home/mani/.local/lib/python3.10/site-packages (from SQLAlchemy<3,>=1.4->langchain-community) (3.0.3)\n",
            "Requirement already satisfied: anyio in /home/mani/.local/lib/python3.10/site-packages (from httpx<1,>=0.23.0->langsmith>=0.1.125->langchain-community) (4.3.0)\n",
            "Requirement already satisfied: httpcore==1.* in /home/mani/.local/lib/python3.10/site-packages (from httpx<1,>=0.23.0->langsmith>=0.1.125->langchain-community) (1.0.4)\n",
            "Requirement already satisfied: sniffio in /home/mani/.local/lib/python3.10/site-packages (from httpx<1,>=0.23.0->langsmith>=0.1.125->langchain-community) (1.3.1)\n",
            "Requirement already satisfied: h11<0.15,>=0.13 in /home/mani/.local/lib/python3.10/site-packages (from httpcore==1.*->httpx<1,>=0.23.0->langsmith>=0.1.125->langchain-community) (0.14.0)\n",
            "Requirement already satisfied: jsonpointer>=1.9 in /home/mani/.local/lib/python3.10/site-packages (from jsonpatch<2.0,>=1.33->langchain-core<1.0.0,>=0.3.66->langchain-community) (2.4)\n",
            "Requirement already satisfied: annotated-types>=0.6.0 in /home/mani/.local/lib/python3.10/site-packages (from pydantic<3.0.0,>=2.7.4->langchain<1.0.0,>=0.3.26->langchain-community) (0.7.0)\n",
            "Requirement already satisfied: pydantic-core==2.33.2 in /home/mani/.local/lib/python3.10/site-packages (from pydantic<3.0.0,>=2.7.4->langchain<1.0.0,>=0.3.26->langchain-community) (2.33.2)\n",
            "Requirement already satisfied: typing-inspection>=0.4.0 in /home/mani/.local/lib/python3.10/site-packages (from pydantic<3.0.0,>=2.7.4->langchain<1.0.0,>=0.3.26->langchain-community) (0.4.0)\n",
            "Requirement already satisfied: mypy-extensions>=0.3.0 in /home/mani/.local/lib/python3.10/site-packages (from typing-inspect<1,>=0.4.0->dataclasses-json<0.7,>=0.5.7->langchain-community) (1.0.0)\n",
            "Requirement already satisfied: exceptiongroup>=1.0.2 in /home/mani/.local/lib/python3.10/site-packages (from anyio->httpx<1,>=0.23.0->langsmith>=0.1.125->langchain-community) (1.2.0)\n",
            "Defaulting to user installation because normal site-packages is not writeable\n",
            "Requirement already satisfied: langgraph in /home/mani/.local/lib/python3.10/site-packages (0.4.8)\n",
            "Requirement already satisfied: langgraph-sdk>=0.1.42 in /home/mani/.local/lib/python3.10/site-packages (from langgraph) (0.1.48)\n",
            "Requirement already satisfied: langgraph-prebuilt>=0.2.0 in /home/mani/.local/lib/python3.10/site-packages (from langgraph) (0.2.2)\n",
            "Requirement already satisfied: langgraph-checkpoint>=2.0.26 in /home/mani/.local/lib/python3.10/site-packages (from langgraph) (2.1.0)\n",
            "Requirement already satisfied: pydantic>=2.7.4 in /home/mani/.local/lib/python3.10/site-packages (from langgraph) (2.11.7)\n",
            "Requirement already satisfied: xxhash>=3.5.0 in /home/mani/.local/lib/python3.10/site-packages (from langgraph) (3.5.0)\n",
            "Requirement already satisfied: langchain-core>=0.1 in /home/mani/.local/lib/python3.10/site-packages (from langgraph) (0.3.66)\n",
            "Requirement already satisfied: PyYAML>=5.3 in /home/mani/.local/lib/python3.10/site-packages (from langchain-core>=0.1->langgraph) (6.0.2)\n",
            "Requirement already satisfied: langsmith>=0.3.45 in /home/mani/.local/lib/python3.10/site-packages (from langchain-core>=0.1->langgraph) (0.4.1)\n",
            "Requirement already satisfied: tenacity!=8.4.0,<10.0.0,>=8.1.0 in /home/mani/.local/lib/python3.10/site-packages (from langchain-core>=0.1->langgraph) (8.5.0)\n",
            "Requirement already satisfied: jsonpatch<2.0,>=1.33 in /home/mani/.local/lib/python3.10/site-packages (from langchain-core>=0.1->langgraph) (1.33)\n",
            "Requirement already satisfied: packaging<25,>=23.2 in /home/mani/.local/lib/python3.10/site-packages (from langchain-core>=0.1->langgraph) (24.0)\n",
            "Requirement already satisfied: typing-extensions>=4.7 in /home/mani/.local/lib/python3.10/site-packages (from langchain-core>=0.1->langgraph) (4.14.0)\n",
            "Requirement already satisfied: ormsgpack>=1.10.0 in /home/mani/.local/lib/python3.10/site-packages (from langgraph-checkpoint>=2.0.26->langgraph) (1.10.0)\n",
            "Requirement already satisfied: orjson>=3.10.1 in /home/mani/.local/lib/python3.10/site-packages (from langgraph-sdk>=0.1.42->langgraph) (3.10.6)\n",
            "Requirement already satisfied: httpx>=0.25.2 in /home/mani/.local/lib/python3.10/site-packages (from langgraph-sdk>=0.1.42->langgraph) (0.27.0)\n",
            "Requirement already satisfied: pydantic-core==2.33.2 in /home/mani/.local/lib/python3.10/site-packages (from pydantic>=2.7.4->langgraph) (2.33.2)\n",
            "Requirement already satisfied: typing-inspection>=0.4.0 in /home/mani/.local/lib/python3.10/site-packages (from pydantic>=2.7.4->langgraph) (0.4.0)\n",
            "Requirement already satisfied: annotated-types>=0.6.0 in /home/mani/.local/lib/python3.10/site-packages (from pydantic>=2.7.4->langgraph) (0.7.0)\n",
            "Requirement already satisfied: anyio in /home/mani/.local/lib/python3.10/site-packages (from httpx>=0.25.2->langgraph-sdk>=0.1.42->langgraph) (4.3.0)\n",
            "Requirement already satisfied: httpcore==1.* in /home/mani/.local/lib/python3.10/site-packages (from httpx>=0.25.2->langgraph-sdk>=0.1.42->langgraph) (1.0.4)\n",
            "Requirement already satisfied: certifi in /home/mani/.local/lib/python3.10/site-packages (from httpx>=0.25.2->langgraph-sdk>=0.1.42->langgraph) (2024.7.4)\n",
            "Requirement already satisfied: idna in /usr/lib/python3/dist-packages (from httpx>=0.25.2->langgraph-sdk>=0.1.42->langgraph) (3.3)\n",
            "Requirement already satisfied: sniffio in /home/mani/.local/lib/python3.10/site-packages (from httpx>=0.25.2->langgraph-sdk>=0.1.42->langgraph) (1.3.1)\n",
            "Requirement already satisfied: h11<0.15,>=0.13 in /home/mani/.local/lib/python3.10/site-packages (from httpcore==1.*->httpx>=0.25.2->langgraph-sdk>=0.1.42->langgraph) (0.14.0)\n",
            "Requirement already satisfied: jsonpointer>=1.9 in /home/mani/.local/lib/python3.10/site-packages (from jsonpatch<2.0,>=1.33->langchain-core>=0.1->langgraph) (2.4)\n",
            "Requirement already satisfied: requests<3,>=2 in /home/mani/.local/lib/python3.10/site-packages (from langsmith>=0.3.45->langchain-core>=0.1->langgraph) (2.32.4)\n",
            "Requirement already satisfied: requests-toolbelt<2.0.0,>=1.0.0 in /home/mani/.local/lib/python3.10/site-packages (from langsmith>=0.3.45->langchain-core>=0.1->langgraph) (1.0.0)\n",
            "Requirement already satisfied: zstandard<0.24.0,>=0.23.0 in /home/mani/.local/lib/python3.10/site-packages (from langsmith>=0.3.45->langchain-core>=0.1->langgraph) (0.23.0)\n",
            "Requirement already satisfied: charset_normalizer<4,>=2 in /home/mani/.local/lib/python3.10/site-packages (from requests<3,>=2->langsmith>=0.3.45->langchain-core>=0.1->langgraph) (3.3.2)\n",
            "Requirement already satisfied: urllib3<3,>=1.21.1 in /usr/lib/python3/dist-packages (from requests<3,>=2->langsmith>=0.3.45->langchain-core>=0.1->langgraph) (1.26.5)\n",
            "Requirement already satisfied: exceptiongroup>=1.0.2 in /home/mani/.local/lib/python3.10/site-packages (from anyio->httpx>=0.25.2->langgraph-sdk>=0.1.42->langgraph) (1.2.0)\n",
            "Defaulting to user installation because normal site-packages is not writeable\n",
            "Requirement already satisfied: langchain_huggingface in /home/mani/.local/lib/python3.10/site-packages (0.3.0)\n",
            "Requirement already satisfied: huggingface-hub>=0.30.2 in /home/mani/.local/lib/python3.10/site-packages (from langchain_huggingface) (0.33.1)\n",
            "Requirement already satisfied: tokenizers>=0.19.1 in /home/mani/.local/lib/python3.10/site-packages (from langchain_huggingface) (0.20.0)\n",
            "Requirement already satisfied: langchain-core<1.0.0,>=0.3.65 in /home/mani/.local/lib/python3.10/site-packages (from langchain_huggingface) (0.3.66)\n",
            "Requirement already satisfied: typing-extensions>=3.7.4.3 in /home/mani/.local/lib/python3.10/site-packages (from huggingface-hub>=0.30.2->langchain_huggingface) (4.14.0)\n",
            "Requirement already satisfied: fsspec>=2023.5.0 in /home/mani/.local/lib/python3.10/site-packages (from huggingface-hub>=0.30.2->langchain_huggingface) (2024.9.0)\n",
            "Requirement already satisfied: requests in /home/mani/.local/lib/python3.10/site-packages (from huggingface-hub>=0.30.2->langchain_huggingface) (2.32.4)\n",
            "Requirement already satisfied: hf-xet<2.0.0,>=1.1.2 in /home/mani/.local/lib/python3.10/site-packages (from huggingface-hub>=0.30.2->langchain_huggingface) (1.1.5)\n",
            "Requirement already satisfied: packaging>=20.9 in /home/mani/.local/lib/python3.10/site-packages (from huggingface-hub>=0.30.2->langchain_huggingface) (24.0)\n",
            "Requirement already satisfied: tqdm>=4.42.1 in /home/mani/.local/lib/python3.10/site-packages (from huggingface-hub>=0.30.2->langchain_huggingface) (4.67.1)\n",
            "Requirement already satisfied: pyyaml>=5.1 in /home/mani/.local/lib/python3.10/site-packages (from huggingface-hub>=0.30.2->langchain_huggingface) (6.0.2)\n",
            "Requirement already satisfied: filelock in /home/mani/.local/lib/python3.10/site-packages (from huggingface-hub>=0.30.2->langchain_huggingface) (3.16.1)\n",
            "Requirement already satisfied: langsmith>=0.3.45 in /home/mani/.local/lib/python3.10/site-packages (from langchain-core<1.0.0,>=0.3.65->langchain_huggingface) (0.4.1)\n",
            "Requirement already satisfied: pydantic>=2.7.4 in /home/mani/.local/lib/python3.10/site-packages (from langchain-core<1.0.0,>=0.3.65->langchain_huggingface) (2.11.7)\n",
            "Requirement already satisfied: tenacity!=8.4.0,<10.0.0,>=8.1.0 in /home/mani/.local/lib/python3.10/site-packages (from langchain-core<1.0.0,>=0.3.65->langchain_huggingface) (8.5.0)\n",
            "Requirement already satisfied: jsonpatch<2.0,>=1.33 in /home/mani/.local/lib/python3.10/site-packages (from langchain-core<1.0.0,>=0.3.65->langchain_huggingface) (1.33)\n",
            "Requirement already satisfied: jsonpointer>=1.9 in /home/mani/.local/lib/python3.10/site-packages (from jsonpatch<2.0,>=1.33->langchain-core<1.0.0,>=0.3.65->langchain_huggingface) (2.4)\n",
            "Requirement already satisfied: httpx<1,>=0.23.0 in /home/mani/.local/lib/python3.10/site-packages (from langsmith>=0.3.45->langchain-core<1.0.0,>=0.3.65->langchain_huggingface) (0.27.0)\n",
            "Requirement already satisfied: requests-toolbelt<2.0.0,>=1.0.0 in /home/mani/.local/lib/python3.10/site-packages (from langsmith>=0.3.45->langchain-core<1.0.0,>=0.3.65->langchain_huggingface) (1.0.0)\n",
            "Requirement already satisfied: orjson<4.0.0,>=3.9.14 in /home/mani/.local/lib/python3.10/site-packages (from langsmith>=0.3.45->langchain-core<1.0.0,>=0.3.65->langchain_huggingface) (3.10.6)\n",
            "Requirement already satisfied: zstandard<0.24.0,>=0.23.0 in /home/mani/.local/lib/python3.10/site-packages (from langsmith>=0.3.45->langchain-core<1.0.0,>=0.3.65->langchain_huggingface) (0.23.0)\n",
            "Requirement already satisfied: pydantic-core==2.33.2 in /home/mani/.local/lib/python3.10/site-packages (from pydantic>=2.7.4->langchain-core<1.0.0,>=0.3.65->langchain_huggingface) (2.33.2)\n",
            "Requirement already satisfied: annotated-types>=0.6.0 in /home/mani/.local/lib/python3.10/site-packages (from pydantic>=2.7.4->langchain-core<1.0.0,>=0.3.65->langchain_huggingface) (0.7.0)\n",
            "Requirement already satisfied: typing-inspection>=0.4.0 in /home/mani/.local/lib/python3.10/site-packages (from pydantic>=2.7.4->langchain-core<1.0.0,>=0.3.65->langchain_huggingface) (0.4.0)\n",
            "Requirement already satisfied: idna<4,>=2.5 in /usr/lib/python3/dist-packages (from requests->huggingface-hub>=0.30.2->langchain_huggingface) (3.3)\n",
            "Requirement already satisfied: charset_normalizer<4,>=2 in /home/mani/.local/lib/python3.10/site-packages (from requests->huggingface-hub>=0.30.2->langchain_huggingface) (3.3.2)\n",
            "Requirement already satisfied: certifi>=2017.4.17 in /home/mani/.local/lib/python3.10/site-packages (from requests->huggingface-hub>=0.30.2->langchain_huggingface) (2024.7.4)\n",
            "Requirement already satisfied: urllib3<3,>=1.21.1 in /usr/lib/python3/dist-packages (from requests->huggingface-hub>=0.30.2->langchain_huggingface) (1.26.5)\n",
            "Requirement already satisfied: anyio in /home/mani/.local/lib/python3.10/site-packages (from httpx<1,>=0.23.0->langsmith>=0.3.45->langchain-core<1.0.0,>=0.3.65->langchain_huggingface) (4.3.0)\n",
            "Requirement already satisfied: httpcore==1.* in /home/mani/.local/lib/python3.10/site-packages (from httpx<1,>=0.23.0->langsmith>=0.3.45->langchain-core<1.0.0,>=0.3.65->langchain_huggingface) (1.0.4)\n",
            "Requirement already satisfied: sniffio in /home/mani/.local/lib/python3.10/site-packages (from httpx<1,>=0.23.0->langsmith>=0.3.45->langchain-core<1.0.0,>=0.3.65->langchain_huggingface) (1.3.1)\n",
            "Requirement already satisfied: h11<0.15,>=0.13 in /home/mani/.local/lib/python3.10/site-packages (from httpcore==1.*->httpx<1,>=0.23.0->langsmith>=0.3.45->langchain-core<1.0.0,>=0.3.65->langchain_huggingface) (0.14.0)\n",
            "Requirement already satisfied: exceptiongroup>=1.0.2 in /home/mani/.local/lib/python3.10/site-packages (from anyio->httpx<1,>=0.23.0->langsmith>=0.3.45->langchain-core<1.0.0,>=0.3.65->langchain_huggingface) (1.2.0)\n",
            "Defaulting to user installation because normal site-packages is not writeable\n",
            "Requirement already satisfied: tabulate in /home/mani/.local/lib/python3.10/site-packages (0.9.0)\n",
            "Found existing installation: pydantic 2.11.7\n",
            "Uninstalling pydantic-2.11.7:\n",
            "  Successfully uninstalled pydantic-2.11.7\n",
            "Defaulting to user installation because normal site-packages is not writeable\n",
            "Collecting pydantic<3,>=2.11\n",
            "  Downloading pydantic-2.11.7-py3-none-any.whl (444 kB)\n",
            "\u001b[2K     \u001b[38;2;114;156;31m━━━━━━━━━━━━━━━━━━━━━━━━━━━━━━━━━━━━━━━\u001b[0m \u001b[32m444.8/444.8 KB\u001b[0m \u001b[31m1.5 MB/s\u001b[0m eta \u001b[36m0:00:00\u001b[0m[31m1.6 MB/s\u001b[0m eta \u001b[36m0:00:01\u001b[0m\n",
            "\u001b[?25hRequirement already satisfied: typing-extensions>=4.12.2 in /home/mani/.local/lib/python3.10/site-packages (from pydantic<3,>=2.11) (4.14.0)\n",
            "Requirement already satisfied: typing-inspection>=0.4.0 in /home/mani/.local/lib/python3.10/site-packages (from pydantic<3,>=2.11) (0.4.0)\n",
            "Requirement already satisfied: annotated-types>=0.6.0 in /home/mani/.local/lib/python3.10/site-packages (from pydantic<3,>=2.11) (0.7.0)\n",
            "Requirement already satisfied: pydantic-core==2.33.2 in /home/mani/.local/lib/python3.10/site-packages (from pydantic<3,>=2.11) (2.33.2)\n",
            "Installing collected packages: pydantic\n",
            "Successfully installed pydantic-2.11.7\n"
          ]
        }
      ],
      "source": [
        "!pip install -q yfinance\n",
        "!pip install langchain\n",
        "!pip install langchain-core\n",
        "!pip install langchain-community\n",
        "!pip install langgraph\n",
        "!pip install langchain_huggingface\n",
        "!pip install tabulate\n",
        "!pip uninstall -y pydantic\n",
        "!pip install --no-cache-dir \"pydantic>=2.11,<3\"\n",
        "\n"
      ]
    },
    {
      "cell_type": "code",
      "execution_count": null,
      "metadata": {
        "id": "nwx27Uxav51X"
      },
      "outputs": [],
      "source": [
        "import pandas as pd\n",
        "import json\n",
        "import datetime as dt\n",
        "import base64\n",
        "import requests\n",
        "import numpy as np\n",
        "from pathlib import Path\n",
        "import matplotlib\n",
        "matplotlib.use(\"Agg\")  # safe, consistent backend\n",
        "import matplotlib.pyplot as plt\n",
        "from typing_extensions import Annotated\n",
        "from operator import add  # used as list reducer\n",
        "from typing import TypedDict, List, Dict\n",
        "from pydantic import BaseModel, Field\n",
        "from IPython.display import Image, display\n",
        "\n",
        "from langchain_core.prompts import ChatPromptTemplate\n",
        "from langchain_core.tools import tool\n",
        "from langchain_openai import ChatOpenAI, OpenAI\n",
        "from langgraph.graph import START, END, StateGraph\n",
        "from langchain_core.messages import HumanMessage\n",
        "from langchain_experimental.agents import create_pandas_dataframe_agent\n",
        "from langgraph.prebuilt import create_react_agent\n",
        "from langchain.agents.agent_types import AgentType\n"
      ]
    },
    {
      "cell_type": "markdown",
      "metadata": {
        "id": "X94zSAGBu1XO"
      },
      "source": [
        "## Importing the Dataset"
      ]
    },
    {
      "cell_type": "code",
      "execution_count": null,
      "metadata": {
        "colab": {
          "base_uri": "https://localhost:8080/",
          "height": 258
        },
        "id": "g2JA6zkPv8Ix",
        "outputId": "f93e7c09-115b-45c8-da08-30f7b4fd50ff"
      },
      "outputs": [
        {
          "data": {
            "text/html": [
              "<div>\n",
              "<style scoped>\n",
              "    .dataframe tbody tr th:only-of-type {\n",
              "        vertical-align: middle;\n",
              "    }\n",
              "\n",
              "    .dataframe tbody tr th {\n",
              "        vertical-align: top;\n",
              "    }\n",
              "\n",
              "    .dataframe thead th {\n",
              "        text-align: right;\n",
              "    }\n",
              "</style>\n",
              "<table border=\"1\" class=\"dataframe\">\n",
              "  <thead>\n",
              "    <tr style=\"text-align: right;\">\n",
              "      <th></th>\n",
              "      <th>PassengerId</th>\n",
              "      <th>Survived</th>\n",
              "      <th>Pclass</th>\n",
              "      <th>Name</th>\n",
              "      <th>Sex</th>\n",
              "      <th>Age</th>\n",
              "      <th>SibSp</th>\n",
              "      <th>Parch</th>\n",
              "      <th>Ticket</th>\n",
              "      <th>Fare</th>\n",
              "      <th>Cabin</th>\n",
              "      <th>Embarked</th>\n",
              "    </tr>\n",
              "  </thead>\n",
              "  <tbody>\n",
              "    <tr>\n",
              "      <th>0</th>\n",
              "      <td>1</td>\n",
              "      <td>0</td>\n",
              "      <td>3</td>\n",
              "      <td>Braund, Mr. Owen Harris</td>\n",
              "      <td>male</td>\n",
              "      <td>22.0</td>\n",
              "      <td>1</td>\n",
              "      <td>0</td>\n",
              "      <td>A/5 21171</td>\n",
              "      <td>7.2500</td>\n",
              "      <td>NaN</td>\n",
              "      <td>S</td>\n",
              "    </tr>\n",
              "    <tr>\n",
              "      <th>1</th>\n",
              "      <td>2</td>\n",
              "      <td>1</td>\n",
              "      <td>1</td>\n",
              "      <td>Cumings, Mrs. John Bradley (Florence Briggs Th...</td>\n",
              "      <td>female</td>\n",
              "      <td>38.0</td>\n",
              "      <td>1</td>\n",
              "      <td>0</td>\n",
              "      <td>PC 17599</td>\n",
              "      <td>71.2833</td>\n",
              "      <td>C85</td>\n",
              "      <td>C</td>\n",
              "    </tr>\n",
              "    <tr>\n",
              "      <th>2</th>\n",
              "      <td>3</td>\n",
              "      <td>1</td>\n",
              "      <td>3</td>\n",
              "      <td>Heikkinen, Miss. Laina</td>\n",
              "      <td>female</td>\n",
              "      <td>26.0</td>\n",
              "      <td>0</td>\n",
              "      <td>0</td>\n",
              "      <td>STON/O2. 3101282</td>\n",
              "      <td>7.9250</td>\n",
              "      <td>NaN</td>\n",
              "      <td>S</td>\n",
              "    </tr>\n",
              "    <tr>\n",
              "      <th>3</th>\n",
              "      <td>4</td>\n",
              "      <td>1</td>\n",
              "      <td>1</td>\n",
              "      <td>Futrelle, Mrs. Jacques Heath (Lily May Peel)</td>\n",
              "      <td>female</td>\n",
              "      <td>35.0</td>\n",
              "      <td>1</td>\n",
              "      <td>0</td>\n",
              "      <td>113803</td>\n",
              "      <td>53.1000</td>\n",
              "      <td>C123</td>\n",
              "      <td>S</td>\n",
              "    </tr>\n",
              "    <tr>\n",
              "      <th>4</th>\n",
              "      <td>5</td>\n",
              "      <td>0</td>\n",
              "      <td>3</td>\n",
              "      <td>Allen, Mr. William Henry</td>\n",
              "      <td>male</td>\n",
              "      <td>35.0</td>\n",
              "      <td>0</td>\n",
              "      <td>0</td>\n",
              "      <td>373450</td>\n",
              "      <td>8.0500</td>\n",
              "      <td>NaN</td>\n",
              "      <td>S</td>\n",
              "    </tr>\n",
              "  </tbody>\n",
              "</table>\n",
              "</div>"
            ],
            "text/plain": [
              "   PassengerId  Survived  Pclass  \\\n",
              "0            1         0       3   \n",
              "1            2         1       1   \n",
              "2            3         1       3   \n",
              "3            4         1       1   \n",
              "4            5         0       3   \n",
              "\n",
              "                                                Name     Sex   Age  SibSp  \\\n",
              "0                            Braund, Mr. Owen Harris    male  22.0      1   \n",
              "1  Cumings, Mrs. John Bradley (Florence Briggs Th...  female  38.0      1   \n",
              "2                             Heikkinen, Miss. Laina  female  26.0      0   \n",
              "3       Futrelle, Mrs. Jacques Heath (Lily May Peel)  female  35.0      1   \n",
              "4                           Allen, Mr. William Henry    male  35.0      0   \n",
              "\n",
              "   Parch            Ticket     Fare Cabin Embarked  \n",
              "0      0         A/5 21171   7.2500   NaN        S  \n",
              "1      0          PC 17599  71.2833   C85        C  \n",
              "2      0  STON/O2. 3101282   7.9250   NaN        S  \n",
              "3      0            113803  53.1000  C123        S  \n",
              "4      0            373450   8.0500   NaN        S  "
            ]
          },
          "execution_count": 4,
          "metadata": {},
          "output_type": "execute_result"
        }
      ],
      "source": [
        "dataset = pd.read_csv(\"https://raw.githubusercontent.com/datasciencedojo/datasets/refs/heads/master/titanic.csv\",\n",
        "                      encoding = 'utf-8')\n",
        "dataset.head()"
      ]
    },
    {
      "cell_type": "markdown",
      "metadata": {
        "id": "jy0m_bs5wEj3"
      },
      "source": [
        "## Estabilishing a Connection With GridDB"
      ]
    },
    {
      "cell_type": "code",
      "execution_count": null,
      "metadata": {
        "colab": {
          "base_uri": "https://localhost:8080/"
        },
        "id": "Ta_-MRXMxnrv",
        "outputId": "09fb8447-3f03-4892-b9f7-8a989b5a3c82"
      },
      "outputs": [
        {
          "name": "stdout",
          "output_type": "stream",
          "text": [
            "200\n",
            "\n"
          ]
        }
      ],
      "source": [
        "username = \"USER_NAME\"\n",
        "password = \"PASSWORD\"\n",
        "base_url = \"GRIDDB_CLOUD_URL\"\n",
        "\n",
        "url = f\"{base_url}/checkConnection\"\n",
        "\n",
        "credentials = f\"{username}:{password}\"\n",
        "encoded_credentials = base64.b64encode(credentials.encode()).decode()\n",
        "\n",
        "headers = {\n",
        "    'Content-Type': 'application/json',  # Added this header to specify JSON content\n",
        "    'Authorization': f'Basic {encoded_credentials}',\n",
        "    'User-Agent': 'PostmanRuntime/7.29.0'\n",
        "}\n",
        "\n",
        "response = requests.get(url, headers=headers)\n",
        "\n",
        "print(response.status_code)\n",
        "print(response.text)"
      ]
    },
    {
      "cell_type": "markdown",
      "metadata": {
        "id": "TSRs5CcS2qo6",
        "outputId": "42217187-4594-4aa5-e6b9-3d272291f0d8"
      },
      "source": [
        "## Creating a Container for Titanic Data in GridDB"
      ]
    },
    {
      "cell_type": "code",
      "execution_count": null,
      "metadata": {
        "id": "nZQalOlu3XGy",
        "outputId": "69e9005d-e9ad-4c08-a3d8-ac272c12761a"
      },
      "outputs": [
        {
          "name": "stdout",
          "output_type": "stream",
          "text": [
            "[{'name': 'SerialNo', 'type': 'LONG'}, {'name': 'PassengerId', 'type': 'LONG'}, {'name': 'Survived', 'type': 'LONG'}, {'name': 'Pclass', 'type': 'LONG'}, {'name': 'Name', 'type': 'STRING'}, {'name': 'Sex', 'type': 'STRING'}, {'name': 'Age', 'type': 'DOUBLE'}, {'name': 'SibSp', 'type': 'LONG'}, {'name': 'Parch', 'type': 'LONG'}, {'name': 'Ticket', 'type': 'STRING'}, {'name': 'Fare', 'type': 'DOUBLE'}, {'name': 'Cabin', 'type': 'STRING'}, {'name': 'Embarked', 'type': 'STRING'}]\n"
          ]
        }
      ],
      "source": [
        "dataset.insert(0, \"SerialNo\", dataset.index + 1)\n",
        "dataset.columns.name = None\n",
        "# Mapping pandas dtypes to GridDB types\n",
        "type_mapping = {\n",
        "    \"int64\":          \"LONG\",\n",
        "    \"float64\":        \"DOUBLE\",\n",
        "    \"bool\":           \"BOOL\",\n",
        "    'datetime64': \"TIMESTAMP\",\n",
        "    \"object\":         \"STRING\",\n",
        "    \"category\":       \"STRING\",\n",
        "}\n",
        "\n",
        "# Generate the columns part of the payload dynamically\n",
        "columns = []\n",
        "for col, dtype in dataset.dtypes.items():\n",
        "    griddb_type = type_mapping.get(str(dtype), \"STRING\")  # Default to STRING if unknown\n",
        "    columns.append({\n",
        "        \"name\": col,\n",
        "        \"type\": griddb_type\n",
        "    })\n",
        "\n",
        "print(columns)"
      ]
    },
    {
      "cell_type": "code",
      "execution_count": null,
      "metadata": {
        "id": "yPtwBHr6l-ky",
        "outputId": "7a5d6a27-0934-430f-cdca-c6acbb02bf1c"
      },
      "outputs": [
        {
          "name": "stdout",
          "output_type": "stream",
          "text": [
            "Status Code: 201\n"
          ]
        }
      ],
      "source": [
        "url = f\"{base_url}/containers\"\n",
        "container_name = \"titanic_db\"\n",
        "# Create the payload for the POST request\n",
        "payload = json.dumps({\n",
        "    \"container_name\": container_name,\n",
        "    \"container_type\": \"COLLECTION\",\n",
        "    \"rowkey\": True,  # Assuming the first column as rowkey\n",
        "    \"columns\": columns\n",
        "})\n",
        "\n",
        "\n",
        "# Make the POST request to create the container\n",
        "response = requests.post(url, headers=headers, data=payload)\n",
        "\n",
        "# Print the response\n",
        "print(f\"Status Code: {response.status_code}\")\n"
      ]
    },
    {
      "cell_type": "markdown",
      "metadata": {
        "id": "OHvUnweml-kz"
      },
      "source": [
        "## Inserting Titanic Dataset in GridDB"
      ]
    },
    {
      "cell_type": "code",
      "execution_count": null,
      "metadata": {
        "id": "fs0WNvCLl-kz",
        "outputId": "04be5e68-7eb1-4f31-e3c8-e15863e226c5"
      },
      "outputs": [
        {
          "name": "stdout",
          "output_type": "stream",
          "text": [
            "Status Code: 200\n",
            "Response Text: {\"count\":891}\n"
          ]
        }
      ],
      "source": [
        "url = f\"{base_url}/containers/{container_name}/rows\"\n",
        "# Convert dataset to list of lists (row-wise) with proper formatting\n",
        "\n",
        "def format_row(row):\n",
        "    formatted = []\n",
        "    for item in row:\n",
        "        if pd.isna(item):\n",
        "            formatted.append(None)  # Convert NaN to None\n",
        "        elif isinstance(item, bool):\n",
        "            formatted.append(str(item).lower())  # Convert True/False to true/false\n",
        "        elif isinstance(item, (int, float)):\n",
        "            formatted.append(item)  # Keep integers and floats as they are\n",
        "        else:\n",
        "            formatted.append(str(item))  # Convert other types to string\n",
        "    return formatted\n",
        "\n",
        "# Prepare rows with correct formatting\n",
        "rows = [format_row(row) for row in dataset.values.tolist()]\n",
        "\n",
        "# Create payload as a JSON string\n",
        "payload = json.dumps(rows)\n",
        "\n",
        "# Make the PUT request to add the rows to the container\n",
        "response = requests.put(url, headers=headers, data=payload)\n",
        "\n",
        "# Print the response\n",
        "print(f\"Status Code: {response.status_code}\")\n",
        "print(f\"Response Text: {response.text}\")\n"
      ]
    },
    {
      "cell_type": "markdown",
      "metadata": {
        "id": "UaA0QnO4l-kz"
      },
      "source": [
        "## Visualizing GridDB Results Using OpenAI API"
      ]
    },
    {
      "cell_type": "code",
      "execution_count": null,
      "metadata": {
        "id": "CkqFlJQnl-kz",
        "outputId": "5d5d4ed6-0796-4ec0-8766-c253aeee04fc"
      },
      "outputs": [
        {
          "name": "stdout",
          "output_type": "stream",
          "text": [
            "Status Code: 200\n",
            "Data retrieved successfully!\n",
            "(891, 13)\n"
          ]
        },
        {
          "data": {
            "text/html": [
              "<div>\n",
              "<style scoped>\n",
              "    .dataframe tbody tr th:only-of-type {\n",
              "        vertical-align: middle;\n",
              "    }\n",
              "\n",
              "    .dataframe tbody tr th {\n",
              "        vertical-align: top;\n",
              "    }\n",
              "\n",
              "    .dataframe thead th {\n",
              "        text-align: right;\n",
              "    }\n",
              "</style>\n",
              "<table border=\"1\" class=\"dataframe\">\n",
              "  <thead>\n",
              "    <tr style=\"text-align: right;\">\n",
              "      <th></th>\n",
              "      <th>SerialNo</th>\n",
              "      <th>PassengerId</th>\n",
              "      <th>Survived</th>\n",
              "      <th>Pclass</th>\n",
              "      <th>Name</th>\n",
              "      <th>Sex</th>\n",
              "      <th>Age</th>\n",
              "      <th>SibSp</th>\n",
              "      <th>Parch</th>\n",
              "      <th>Ticket</th>\n",
              "      <th>Fare</th>\n",
              "      <th>Cabin</th>\n",
              "      <th>Embarked</th>\n",
              "    </tr>\n",
              "  </thead>\n",
              "  <tbody>\n",
              "    <tr>\n",
              "      <th>0</th>\n",
              "      <td>1</td>\n",
              "      <td>1</td>\n",
              "      <td>0</td>\n",
              "      <td>3</td>\n",
              "      <td>Braund, Mr. Owen Harris</td>\n",
              "      <td>male</td>\n",
              "      <td>22.0</td>\n",
              "      <td>1</td>\n",
              "      <td>0</td>\n",
              "      <td>A/5 21171</td>\n",
              "      <td>7.2500</td>\n",
              "      <td>None</td>\n",
              "      <td>S</td>\n",
              "    </tr>\n",
              "    <tr>\n",
              "      <th>1</th>\n",
              "      <td>2</td>\n",
              "      <td>2</td>\n",
              "      <td>1</td>\n",
              "      <td>1</td>\n",
              "      <td>Cumings, Mrs. John Bradley (Florence Briggs Th...</td>\n",
              "      <td>female</td>\n",
              "      <td>38.0</td>\n",
              "      <td>1</td>\n",
              "      <td>0</td>\n",
              "      <td>PC 17599</td>\n",
              "      <td>71.2833</td>\n",
              "      <td>C85</td>\n",
              "      <td>C</td>\n",
              "    </tr>\n",
              "    <tr>\n",
              "      <th>2</th>\n",
              "      <td>3</td>\n",
              "      <td>3</td>\n",
              "      <td>1</td>\n",
              "      <td>3</td>\n",
              "      <td>Heikkinen, Miss. Laina</td>\n",
              "      <td>female</td>\n",
              "      <td>26.0</td>\n",
              "      <td>0</td>\n",
              "      <td>0</td>\n",
              "      <td>STON/O2. 3101282</td>\n",
              "      <td>7.9250</td>\n",
              "      <td>None</td>\n",
              "      <td>S</td>\n",
              "    </tr>\n",
              "    <tr>\n",
              "      <th>3</th>\n",
              "      <td>4</td>\n",
              "      <td>4</td>\n",
              "      <td>1</td>\n",
              "      <td>1</td>\n",
              "      <td>Futrelle, Mrs. Jacques Heath (Lily May Peel)</td>\n",
              "      <td>female</td>\n",
              "      <td>35.0</td>\n",
              "      <td>1</td>\n",
              "      <td>0</td>\n",
              "      <td>113803</td>\n",
              "      <td>53.1000</td>\n",
              "      <td>C123</td>\n",
              "      <td>S</td>\n",
              "    </tr>\n",
              "    <tr>\n",
              "      <th>4</th>\n",
              "      <td>5</td>\n",
              "      <td>5</td>\n",
              "      <td>0</td>\n",
              "      <td>3</td>\n",
              "      <td>Allen, Mr. William Henry</td>\n",
              "      <td>male</td>\n",
              "      <td>35.0</td>\n",
              "      <td>0</td>\n",
              "      <td>0</td>\n",
              "      <td>373450</td>\n",
              "      <td>8.0500</td>\n",
              "      <td>None</td>\n",
              "      <td>S</td>\n",
              "    </tr>\n",
              "  </tbody>\n",
              "</table>\n",
              "</div>"
            ],
            "text/plain": [
              "   SerialNo  PassengerId  Survived  Pclass  \\\n",
              "0         1            1         0       3   \n",
              "1         2            2         1       1   \n",
              "2         3            3         1       3   \n",
              "3         4            4         1       1   \n",
              "4         5            5         0       3   \n",
              "\n",
              "                                                Name     Sex   Age  SibSp  \\\n",
              "0                            Braund, Mr. Owen Harris    male  22.0      1   \n",
              "1  Cumings, Mrs. John Bradley (Florence Briggs Th...  female  38.0      1   \n",
              "2                             Heikkinen, Miss. Laina  female  26.0      0   \n",
              "3       Futrelle, Mrs. Jacques Heath (Lily May Peel)  female  35.0      1   \n",
              "4                           Allen, Mr. William Henry    male  35.0      0   \n",
              "\n",
              "   Parch            Ticket     Fare Cabin Embarked  \n",
              "0      0         A/5 21171   7.2500  None        S  \n",
              "1      0          PC 17599  71.2833   C85        C  \n",
              "2      0  STON/O2. 3101282   7.9250  None        S  \n",
              "3      0            113803  53.1000  C123        S  \n",
              "4      0            373450   8.0500  None        S  "
            ]
          },
          "execution_count": 6,
          "metadata": {},
          "output_type": "execute_result"
        }
      ],
      "source": [
        "container_name = \"titanic_db\"\n",
        "\n",
        "url = f\"{base_url}/containers/{container_name}/rows\"\n",
        "\n",
        "# Define the payload for the query\n",
        "payload = json.dumps({\n",
        "    \"offset\": 0,           # Start from the first row\n",
        "    \"limit\": 10000,         # Limit the number of rows returned\n",
        "    \"condition\": \"\",       # No filtering condition (you can customize it)\n",
        "    \"sort\": \"\"             # No sorting (you can customize it)\n",
        "})\n",
        "\n",
        "# Make the POST request to read data from the container\n",
        "response = requests.post(url, headers=headers, data=payload)\n",
        "\n",
        "# Check response status and print output\n",
        "print(f\"Status Code: {response.status_code}\")\n",
        "if response.status_code == 200:\n",
        "    try:\n",
        "        data = response.json()\n",
        "        print(\"Data retrieved successfully!\")\n",
        "\n",
        "        # Convert the response to a DataFrame\n",
        "        rows = data.get(\"rows\", [])\n",
        "        titanic_dataset = pd.DataFrame(rows, columns=[col for col in dataset.columns])\n",
        "\n",
        "    except json.JSONDecodeError:\n",
        "        print(\"Error: Failed to decode JSON response.\")\n",
        "else:\n",
        "    print(f\"Error: Failed to query data from the container. Response: {response.text}\")\n",
        "\n",
        "print(titanic_dataset.shape)\n",
        "titanic_dataset.head()"
      ]
    },
    {
      "cell_type": "code",
      "execution_count": null,
      "metadata": {
        "id": "PdYp-_p_l-kz",
        "outputId": "5fdc2dd2-a11a-4f75-d1e6-4a38124434e7"
      },
      "outputs": [
        {
          "name": "stdout",
          "output_type": "stream",
          "text": [
            "Survived\n",
            "0    22.12\n",
            "1    48.40\n",
            "Name: Fare, dtype: float64\n"
          ]
        }
      ],
      "source": [
        "avg = titanic_dataset.groupby('Survived')['Fare'].mean().round(2)\n",
        "print(avg)\n"
      ]
    },
    {
      "cell_type": "markdown",
      "metadata": {
        "id": "t_LKCQf7l-kz"
      },
      "source": [
        "### Creating a LangGraph ReAct Agent for Data Visualization"
      ]
    },
    {
      "cell_type": "code",
      "execution_count": null,
      "metadata": {
        "id": "rDfyvnTGl-k0"
      },
      "outputs": [],
      "source": [
        "class State(TypedDict):\n",
        "    question: str\n",
        "    answer: str\n",
        "    plots: Annotated[List[Dict[str, str]], add]\n",
        "\n",
        "\n",
        "api_key = \"YOUR_OPENAI_API_KEY\"\n",
        "\n",
        "llm = ChatOpenAI(model=\"gpt-4o\",\n",
        "                 api_key=api_key,\n",
        "                temperature = 0)\n"
      ]
    },
    {
      "cell_type": "code",
      "execution_count": null,
      "metadata": {
        "id": "oG0qbus4l-k0"
      },
      "outputs": [],
      "source": [
        "df_agent = create_pandas_dataframe_agent(llm,\n",
        "                                      titanic_dataset,\n",
        "                                      verbose=True,\n",
        "                                      agent_type=AgentType.ZERO_SHOT_REACT_DESCRIPTION,\n",
        "                                      allow_dangerous_code=True)\n",
        "\n",
        "\n",
        "_LAST = {\"fig\": None}                # keep a handle to the last real figure\n",
        "\n",
        "@tool(\"df_answer\")\n",
        "def df_answer(question: str) -> str:\n",
        "    \"\"\"\n",
        "    Use the pandas DataFrame agent to compute/plot.\n",
        "    IMPORTANT: do NOT call plt.show() or plt.close() in the generated code.\n",
        "    \"\"\"\n",
        "    res = df_agent.invoke(\n",
        "        question\n",
        "    )\n",
        "\n",
        "    # CAPTURE whichever figure the agent actually created\n",
        "    fig_nums = plt.get_fignums()          # existing figures in this process\n",
        "    if fig_nums:\n",
        "        _LAST[\"fig\"] = plt.figure(fig_nums[-1])   # latest real figure\n",
        "    return res[\"output\"]"
      ]
    },
    {
      "cell_type": "code",
      "execution_count": null,
      "metadata": {
        "id": "VIaCD-wll-k0"
      },
      "outputs": [],
      "source": [
        "\n",
        "@tool(\"save_plot\")\n",
        "def save_plot(filename: str = \"plot.png\", dpi: int = 200, close: bool = True) -> str:\n",
        "    \"\"\"\n",
        "    Save the most recent existing Matplotlib figure (not an empty gcf()).\n",
        "    Returns {\"plot\": {\"name\": ..., \"path\": ...}} or {\"error\": ...}.\n",
        "    \"\"\"\n",
        "    Path(\"plots\").mkdir(exist_ok=True)\n",
        "    fig = _LAST.get(\"fig\")\n",
        "\n",
        "    # Fallback: grab last live figure if we didn't capture yet\n",
        "    if fig is None:\n",
        "        nums = plt.get_fignums()\n",
        "        if not nums:\n",
        "            return json.dumps({\"error\": \"no_figure\", \"message\": \"No active figure to save.\"})\n",
        "        fig = plt.figure(nums[-1])\n",
        "\n",
        "    # Render + save\n",
        "    fig.tight_layout()\n",
        "    try:\n",
        "        fig.canvas.draw()                # ensure render\n",
        "    except Exception:\n",
        "        pass\n",
        "\n",
        "    out = Path(\"plots\") / filename\n",
        "    fig.savefig(out, dpi=dpi, bbox_inches=\"tight\")\n",
        "\n",
        "    if close:\n",
        "        plt.close(fig)                   # avoid accumulating figures\n",
        "\n",
        "    return json.dumps({\"plot\": {\"name\": filename, \"path\": str(out.resolve())}})\n"
      ]
    },
    {
      "cell_type": "code",
      "execution_count": null,
      "metadata": {
        "id": "3vKRRveSl-k0"
      },
      "outputs": [],
      "source": [
        "\n",
        "SYSTEM = \"\"\"\n",
        "You work over a Titanic pandas DataFrame.\n",
        "- To compute answers or create charts, call `df_answer(question=...)`.\n",
        "- If a plot should be saved, call `save_plot(filename=..., dpi=200)`.\n",
        "- Keep text concise. If you saved a plot, you may echo the absolute path.\n",
        "\"\"\"\n",
        "\n",
        "react = create_react_agent(\n",
        "    llm,\n",
        "    tools=[df_answer, save_plot],\n",
        "    prompt=SYSTEM,\n",
        ")\n"
      ]
    },
    {
      "cell_type": "code",
      "execution_count": null,
      "metadata": {
        "id": "hj5qyJ_Dl-k0",
        "outputId": "05878325-177b-4690-d90f-12cb6cbdf55d"
      },
      "outputs": [
        {
          "data": {
            "image/png": "[encoded data removed]",
            "text/plain": [
              "<IPython.core.display.Image object>"
            ]
          },
          "metadata": {},
          "output_type": "display_data"
        }
      ],
      "source": [
        "def run_react(state: State) -> State:\n",
        "    out = react.invoke({\"messages\": [(\"user\", state[\"question\"])]})\n",
        "\n",
        "    msgs = out[\"messages\"]\n",
        "    final_text = msgs[-1].content\n",
        "\n",
        "    new_plots = []\n",
        "    for m in msgs:\n",
        "        # Tool messages include the tool's return in `content`\n",
        "        try:\n",
        "            data = json.loads(getattr(m, \"content\", \"\") or \"{}\")\n",
        "        except Exception:\n",
        "            data = None\n",
        "        if isinstance(data, dict) and \"plot\" in data:\n",
        "            new_plots.append(data[\"plot\"])  # {\"name\": \"...\", \"path\": \"...\"}\n",
        "\n",
        "    return {\"answer\": final_text, \"plots\": new_plots}\n",
        "\n",
        "graph_builder = StateGraph(State)\n",
        "graph_builder.add_node(\"ask_question\", run_react)\n",
        "graph_builder.add_edge(START, \"ask_question\")\n",
        "graph_builder.add_edge(\"ask_question\", END)\n",
        "graph = graph_builder.compile()\n",
        "display(Image(graph.get_graph(xray=True).draw_mermaid_png()))"
      ]
    },
    {
      "cell_type": "markdown",
      "metadata": {
        "id": "-1tvIeFvl-k0"
      },
      "source": [
        "### Testing the Agent and Generating Responses"
      ]
    },
    {
      "cell_type": "code",
      "execution_count": null,
      "metadata": {
        "id": "AeLKSNRzl-k0",
        "outputId": "ba2e31c9-9e25-4ea5-bc44-99eadf6b3164"
      },
      "outputs": [
        {
          "name": "stdout",
          "output_type": "stream",
          "text": [
            "\n",
            "\n",
            "\u001b[1m> Entering new AgentExecutor chain...\u001b[0m\n",
            "\u001b[32;1m\u001b[1;3mThought: To find the average Fare for passengers who survived and those who did not, I need to group the dataframe by the 'Survived' column and then calculate the mean of the 'Fare' column for each group.\n",
            "Action: python_repl_ast\n",
            "Action Input: df.groupby('Survived')['Fare'].mean()\u001b[0m\u001b[36;1m\u001b[1;3mSurvived\n",
            "0    22.117887\n",
            "1    48.395408\n",
            "Name: Fare, dtype: float64\u001b[0m\u001b[32;1m\u001b[1;3mI now know the final answer.\n",
            "\n",
            "Final Answer: The average Fare for passengers who did not survive is 22.12, and for those who survived, it is 48.40.\u001b[0m\n",
            "\n",
            "\u001b[1m> Finished chain.\u001b[0m\n",
            "\n",
            "Final Answer: The average Fare for passengers who did not survive is 22.12, while for those who survived, it is 48.40.\n"
          ]
        }
      ],
      "source": [
        "# A) plain Q&A\n",
        "s = graph.invoke({\"question\": \"What is the average Fare for passengers that survive and those who did not?\"})\n",
        "print(f\"\\nFinal Answer: {s['answer']}\")"
      ]
    },
    {
      "cell_type": "code",
      "execution_count": null,
      "metadata": {
        "id": "QdHxgfrkl-k0",
        "outputId": "f0964a96-98db-445b-9c9f-48ecea74bf83"
      },
      "outputs": [
        {
          "name": "stdout",
          "output_type": "stream",
          "text": [
            "\n",
            "\n",
            "\u001b[1m> Entering new AgentExecutor chain...\u001b[0m\n",
            "\n",
            "\n",
            "\u001b[1m> Entering new AgentExecutor chain...\u001b[0m\n",
            "\n",
            "\n",
            "\u001b[1m> Entering new AgentExecutor chain...\u001b[0m\n",
            "\u001b[32;1m\u001b[1;3mTo create a bar chart showing the average Fare for passengers grouped by their survival status, we can use the `groupby` method to calculate the average fare for each survival status and then plot the results using a bar chart. Let's proceed with these steps.\n",
            "\n",
            "Thought: I will group the dataframe by the 'Survived' column, calculate the average fare for each group, and then plot the results using a bar chart.\n",
            "Action: python_repl_ast\n",
            "Action Input: \n",
            "```python\n",
            "import matplotlib.pyplot as plt\n",
            "\n",
            "# Group by 'Survived' and calculate the average 'Fare'\n",
            "average_fare_by_survival = df.groupby('Survived')['Fare'].mean()\n",
            "\n",
            "# Plotting the bar chart\n",
            "average_fare_by_survival.plot(kind='bar', color=['red', 'green'])\n",
            "plt.title('Average Fare by Survival Status')\n",
            "plt.xlabel('Survived')\n",
            "plt.ylabel('Average Fare')\n",
            "plt.xticks(ticks=[0, 1], labels=['Did Not Survive', 'Survived'], rotation=0)\n",
            "plt.show()\n",
            "```\u001b[0m\u001b[36;1m\u001b[1;3m\u001b[0m"
          ]
        },
        {
          "name": "stderr",
          "output_type": "stream",
          "text": [
            "<string>:1: UserWarning: FigureCanvasAgg is non-interactive, and thus cannot be shown\n"
          ]
        },
        {
          "name": "stdout",
          "output_type": "stream",
          "text": [
            "\u001b[32;1m\u001b[1;3mI now know the final answer.\n",
            "\n",
            "Final Answer: A bar chart has been created showing the average Fare for passengers grouped by their survival status. The chart displays two bars: one for passengers who did not survive and one for those who survived, with the average fare for each group.\u001b[0m\n",
            "\n",
            "\u001b[1m> Finished chain.\u001b[0m\n",
            "\n",
            "Final Answer: The bar chart of average Fare by survival status has been saved. You can view it at the following path: `/home/mani/GridDB Projects/plots/average_fare_by_survival_status.png`.\n",
            "plots so far: [{'name': 'average_fare_by_survival_status.png', 'path': '/home/mani/GridDB Projects/plots/average_fare_by_survival_status.png'}]\n"
          ]
        }
      ],
      "source": [
        "# B) plot + save (the agent will call save_plot internally)\n",
        "s = graph.invoke({\n",
        "    \"question\": (\"Plot a bar chart of average Fare for passengers that survive and those who did not?\"),\n",
        "})\n",
        "print(f\"\\nFinal Answer: {s['answer']}\")\n",
        "print(\"plots so far:\", s[\"plots\"])"
      ]
    },
    {
      "cell_type": "code",
      "execution_count": null,
      "metadata": {
        "id": "R0nQ-lKzl-k0"
      },
      "outputs": [],
      "source": []
    }
  ],
  "metadata": {
    "colab": {
      "provenance": []
    },
    "kernelspec": {
      "display_name": "Python 3 (ipykernel)",
      "language": "python",
      "name": "python3"
    },
    "language_info": {
      "codemirror_mode": {
        "name": "ipython",
        "version": 3
      },
      "file_extension": ".py",
      "mimetype": "text/x-python",
      "name": "python",
      "nbconvert_exporter": "python",
      "pygments_lexer": "ipython3",
      "version": "3.10.12"
    }
  },
  "nbformat": 4,
  "nbformat_minor": 0
}