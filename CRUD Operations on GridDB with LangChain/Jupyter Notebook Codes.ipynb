{
 "cells": [
  {
   "cell_type": "markdown",
   "id": "7f51f598-f4bb-4c4b-8429-a559031f6698",
   "metadata": {},
   "source": [
    "## Prerequisites"
   ]
  },
  {
   "cell_type": "markdown",
   "id": "eaac714f-f7cc-4626-904b-75b83d49e651",
   "metadata": {},
   "source": [
    "To run the codes in this notebook, you need to install:\n",
    "\n",
    "1. GridDB C Client\n",
    "2. GridDB Python client\n",
    "\n",
    "Follow the instructions on the [GridDB Python Package Index (Pypi)](https://pypi.org/project/griddb-python/) page to install these clients.\n",
    "\n",
    "You will also need to install LangChain, Numpy, Pandas and Seaborn libraries.\n",
    "\n",
    "The script below imports the libraries you will need to run the code in this blog."
   ]
  },
  {
   "cell_type": "code",
   "execution_count": null,
   "id": "26c6a58c-0f60-45b8-afdd-1277b0d517dd",
   "metadata": {},
   "outputs": [],
   "source": [
    "!pip install langchain\n",
    "!pip install langchain-core\n",
    "!pip install langchain-openai"
   ]
  },
  {
   "cell_type": "code",
   "execution_count": 1,
   "id": "01684475-320d-4527-9cc3-9c7710a44412",
   "metadata": {},
   "outputs": [],
   "source": [
    "import griddb_python as griddb\n",
    "import pandas as pd\n",
    "from langchain_openai import ChatOpenAI\n",
    "from langchain_core.prompts import ChatPromptTemplate\n",
    "from langchain_core.pydantic_v1 import BaseModel, Field\n",
    "from typing import List, Dict"
   ]
  },
  {
   "cell_type": "markdown",
   "id": "00dba442-3800-46f7-a023-32c3a05c92af",
   "metadata": {},
   "source": [
    "## Creating a Connection With GridDB"
   ]
  },
  {
   "cell_type": "code",
   "execution_count": 2,
   "id": "8e664237-bef1-493f-9ccf-81fbf54266e0",
   "metadata": {},
   "outputs": [
    {
     "name": "stdout",
     "output_type": "stream",
     "text": [
      "Container does not exist\n",
      "Successfully connected to GridDB\n"
     ]
    }
   ],
   "source": [
    "factory = griddb.StoreFactory.get_instance()\n",
    "\n",
    "DB_HOST = \"127.0.0.1:10001\"\n",
    "DB_CLUSTER = \"myCluster\"\n",
    "DB_USER = \"admin\"\n",
    "DB_PASS = \"admin\"\n",
    "\n",
    "try:\n",
    "    gridstore = factory.get_store(\n",
    "        notification_member = DB_HOST,\n",
    "        cluster_name = DB_CLUSTER,\n",
    "        username = DB_USER,\n",
    "        password = DB_PASS\n",
    "    )\n",
    "\n",
    "    container1 = gridstore.get_container(\"container1\")\n",
    "    if container1 == None:\n",
    "        print(\"Container does not exist\")\n",
    "    print(\"Successfully connected to GridDB\")\n",
    "\n",
    "except griddb.GSException as e:\n",
    "    for i in range(e.get_error_stack_size()):\n",
    "        print(\"[\", i, \"]\")\n",
    "        print(e.get_error_code(i))\n",
    "        print(e.get_location(i))\n",
    "        print(e.get_message(i))\n"
   ]
  },
  {
   "cell_type": "markdown",
   "id": "b3ac4b9e-2549-449b-8e85-3b8da1b7d142",
   "metadata": {},
   "source": [
    "## Inserting Data with Natural Language Commands Using LangChain"
   ]
  },
  {
   "cell_type": "code",
   "execution_count": 3,
   "id": "844318ad-937f-4e8a-84c9-36b34b6387c9",
   "metadata": {},
   "outputs": [],
   "source": [
    "llm = ChatOpenAI(api_key=\"YOUR_OPENAI_API_KEY\",\n",
    "                 temperature = 0,\n",
    "                model_name = \"gpt-4o\")"
   ]
  },
  {
   "cell_type": "code",
   "execution_count": 4,
   "id": "7c06b8c6-33e0-4645-9096-6084ad926571",
   "metadata": {},
   "outputs": [],
   "source": [
    "class InsertData(BaseModel):\n",
    "    column_names: List[str]= Field(description=\"All the column names from the structured data\")\n",
    "    column_types: List[str] = Field(description=\"All the column types from the structured data\")\n",
    "    column_values: List[List[str]] = Field(description=\"All the column values from the structured data\")\n",
    "    container_name: str = Field(description=\"Name of container extracted from the user query\")"
   ]
  },
  {
   "cell_type": "code",
   "execution_count": 5,
   "id": "4ace52fa-1abf-4ecc-a975-c7432de1726e",
   "metadata": {},
   "outputs": [],
   "source": [
    "\n",
    "system_command = \"\"\" You are an expert who extracts structure from natural language queries that must be converted to database queries.\n",
    "Parse the user input query and extract the container name and column names along with their types from the user query and the user records.\n",
    "The types should be parsed as STRING, LONG, FLOAT, INTEGER\n",
    "\"\"\"\n",
    "\n",
    "user_prompt = ChatPromptTemplate.from_messages([\n",
    "    (\"system\", system_command ),\n",
    "    (\"user\", \"{input}\")\n",
    "])\n",
    "\n",
    "insert_chain = user_prompt | llm.with_structured_output(InsertData)"
   ]
  },
  {
   "cell_type": "code",
   "execution_count": 6,
   "id": "fefdbce5-d6c2-49e9-84ab-13dffad3d816",
   "metadata": {},
   "outputs": [
    {
     "name": "stdout",
     "output_type": "stream",
     "text": [
      "['Name', 'Age', 'Gender', 'Grade']\n",
      "['STRING', 'INTEGER', 'STRING', 'STRING']\n",
      "[['Michael', '10', 'Male', 'A'], ['Sara', '11', 'Female', 'C'], ['Nick', '9', 'Male', 'B']]\n",
      "student_data\n"
     ]
    }
   ],
   "source": [
    "user_query = \"\"\"\n",
    "\n",
    "Insert the following student records into the student_data container.\n",
    "\n",
    "Name = Michael\n",
    "Age = 10\n",
    "Gender = Male\n",
    "Grade = A\n",
    "\n",
    "\n",
    "Name = Sara\n",
    "Age = 11\n",
    "Gender = Female\n",
    "Grade = C\n",
    "\n",
    "Name = Nick\n",
    "Age = 9\n",
    "Gender = Male\n",
    "Grade = B\n",
    "\n",
    "\"\"\"\n",
    "user_data = insert_chain.invoke({\"input\": user_query})\n",
    "\n",
    "print(user_data.column_names)\n",
    "print(user_data.column_types)\n",
    "print(user_data.column_values)\n",
    "print(user_data.container_name)\n"
   ]
  },
  {
   "cell_type": "code",
   "execution_count": 7,
   "id": "1cfb4cf7-92ab-4e5a-a9d1-96cbb0a4d1b7",
   "metadata": {},
   "outputs": [],
   "source": [
    "str_to_griddb_type = {\n",
    "    \"LONG\": griddb.Type.LONG,\n",
    "    \"INTEGER\": griddb.Type.INTEGER,\n",
    "    \"STRING\": griddb.Type.STRING,\n",
    "    \"FLOAT\": griddb.Type.FLOAT,\n",
    "    # Add other types as needed\n",
    "}\n",
    "\n",
    "# Function to convert a list of string types to GridDB types\n",
    "def convert_list_of_types(type_list):\n",
    "    try:\n",
    "        return [str_to_griddb_type[type_str] for type_str in type_list]\n",
    "    except KeyError as e:\n",
    "        raise ValueError(f\"Unsupported type string: {e.args[0]}\")\n",
    "\n",
    "def try_convert_to_int(value):\n",
    "    try:\n",
    "        return int(value)\n",
    "    except ValueError:\n",
    "        return value\n",
    "\n",
    "\n",
    "def insert_records(query):\n",
    "    user_data = insert_chain.invoke({\"input\": query})\n",
    "\n",
    "    container_name = user_data.container_name\n",
    "    column_names = user_data.column_names\n",
    "    \n",
    "    column_values = user_data.column_values\n",
    "    column_values  = [[try_convert_to_int(item) for item in sublist] for sublist in column_values]\n",
    "\n",
    "    column_types = user_data.column_types\n",
    "    griddb_type = convert_list_of_types(column_types)\n",
    "\n",
    "    container_columns = []\n",
    "    for column_name, dtype in zip(column_names, griddb_type):\n",
    "        container_columns.append([column_name, dtype])\n",
    "\n",
    "    container_info = griddb.ContainerInfo(container_name,\n",
    "                                          container_columns,\n",
    "                                          griddb.ContainerType.COLLECTION, True)\n",
    "\n",
    "    try:\n",
    "        cont = gridstore.put_container(container_info)\n",
    "        for row in column_values:\n",
    "            cont.put(row)\n",
    "        print(\"All rows have been successfully stored in the GridDB container.\")\n",
    "    \n",
    "    except griddb.GSException as e:\n",
    "        for i in range(e.get_error_stack_size()):\n",
    "            print(\"[\", i, \"]\")\n",
    "            print(e.get_error_code(i))\n",
    "            print(e.get_location(i))\n",
    "            print(e.get_message(i))\n"
   ]
  },
  {
   "cell_type": "code",
   "execution_count": 13,
   "id": "a2cc115a-6d02-412d-8dc4-7fb4297afdf0",
   "metadata": {},
   "outputs": [
    {
     "name": "stdout",
     "output_type": "stream",
     "text": [
      "All rows have been successfully stored in the GridDB container.\n"
     ]
    }
   ],
   "source": [
    "insert_records(user_query)"
   ]
  },
  {
   "cell_type": "markdown",
   "id": "04cc823e-42a5-4b85-a14a-186917afd796",
   "metadata": {},
   "source": [
    "## Selecting Data"
   ]
  },
  {
   "cell_type": "code",
   "execution_count": 9,
   "id": "df1ece61-547c-4d09-ad54-7eccb8ab4afe",
   "metadata": {},
   "outputs": [],
   "source": [
    "class SelectData(BaseModel):\n",
    "    container_name: str = Field(description=\"the container name from the user query\")\n",
    "    query:str = Field(description=\"natural language converted to SELECT query\")\n",
    "\n",
    "\n",
    "\n",
    "system_command = \"\"\" \n",
    "Convert user commands into SQL queries for Griddb.\n",
    "\"\"\"\n",
    "\n",
    "user_prompt = ChatPromptTemplate.from_messages([\n",
    "    (\"system\", system_command),\n",
    "    (\"user\", \"{input}\")\n",
    "])\n",
    "\n",
    "select_chain = user_prompt | llm.with_structured_output(SelectData)\n"
   ]
  },
  {
   "cell_type": "code",
   "execution_count": 14,
   "id": "8cbb475f-cafb-49d5-b02d-74a7b9cc854b",
   "metadata": {},
   "outputs": [
    {
     "data": {
      "text/html": [
       "<div>\n",
       "<style scoped>\n",
       "    .dataframe tbody tr th:only-of-type {\n",
       "        vertical-align: middle;\n",
       "    }\n",
       "\n",
       "    .dataframe tbody tr th {\n",
       "        vertical-align: top;\n",
       "    }\n",
       "\n",
       "    .dataframe thead th {\n",
       "        text-align: right;\n",
       "    }\n",
       "</style>\n",
       "<table border=\"1\" class=\"dataframe\">\n",
       "  <thead>\n",
       "    <tr style=\"text-align: right;\">\n",
       "      <th></th>\n",
       "      <th>Name</th>\n",
       "      <th>Age</th>\n",
       "      <th>Gender</th>\n",
       "      <th>Grade</th>\n",
       "    </tr>\n",
       "  </thead>\n",
       "  <tbody>\n",
       "    <tr>\n",
       "      <th>0</th>\n",
       "      <td>Michael</td>\n",
       "      <td>10</td>\n",
       "      <td>Male</td>\n",
       "      <td>A</td>\n",
       "    </tr>\n",
       "    <tr>\n",
       "      <th>1</th>\n",
       "      <td>Sara</td>\n",
       "      <td>11</td>\n",
       "      <td>Female</td>\n",
       "      <td>C</td>\n",
       "    </tr>\n",
       "  </tbody>\n",
       "</table>\n",
       "</div>"
      ],
      "text/plain": [
       "      Name  Age  Gender Grade\n",
       "0  Michael   10    Male     A\n",
       "1     Sara   11  Female     C"
      ]
     },
     "execution_count": 14,
     "metadata": {},
     "output_type": "execute_result"
    }
   ],
   "source": [
    "def select_records(query):\n",
    "\n",
    "    select_data = select_chain.invoke(query)\n",
    "    container_name = select_data.container_name\n",
    "    select_query = select_data.query\n",
    "    \n",
    "    result_container = gridstore.get_container(container_name)\n",
    "    query = result_container.query(select_query)\n",
    "    rs = query.fetch()\n",
    "    result_data = rs.fetch_rows()\n",
    "    return result_data\n",
    "\n",
    "\n",
    "select_records(\"Give me student records from student_data container where Age is greater than or equal to 10\")"
   ]
  },
  {
   "cell_type": "markdown",
   "id": "df46281a-e66a-4f80-afa3-03cf137ce718",
   "metadata": {},
   "source": [
    "## Update Data"
   ]
  },
  {
   "cell_type": "code",
   "execution_count": 20,
   "id": "c4eec078-81b8-4d8a-a736-0e245f7385c7",
   "metadata": {},
   "outputs": [
    {
     "name": "stdout",
     "output_type": "stream",
     "text": [
      "container_name='student_data' select_query='SELECT * FROM student_data WHERE Age >= 10;' column_name='Age' column_value='11'\n"
     ]
    }
   ],
   "source": [
    "class UpdateData(BaseModel):\n",
    "    container_name: str = Field(description=\"the container name from the user query\")\n",
    "    select_query:str = Field(description=\"natural language converted to SELECT query\")\n",
    "    column_name: str = Field(description=\"name of the column to be updated\")\n",
    "    column_value: str = Field(description=\"Column value to be updated\")\n",
    "\n",
    "\n",
    "system_command = \"\"\" \n",
    "Convert user commands into SQL query as follows. If the user enters an Update query, return the following:\n",
    "1. The name of the container\n",
    "2. A SELECT query to query records in the update statement.\n",
    "3. The name of the column to be updated. \n",
    "4. The new value for the column. \n",
    "\"\"\"\n",
    "\n",
    "user_prompt = ChatPromptTemplate.from_messages([\n",
    "    (\"system\", system_command),\n",
    "    (\"user\", \"{input}\")\n",
    "])\n",
    "\n",
    "update_chain = user_prompt | llm.with_structured_output(UpdateData)\n"
   ]
  },
  {
   "cell_type": "code",
   "execution_count": 16,
   "id": "e15c1c9b-216f-4782-8427-04d16a259e7c",
   "metadata": {},
   "outputs": [
    {
     "name": "stdout",
     "output_type": "stream",
     "text": [
      "record updated successfully.\n"
     ]
    }
   ],
   "source": [
    "def update_records(query):\n",
    "\n",
    "    update_data = update_chain.invoke(query)\n",
    "\n",
    "    result_container = gridstore.get_container(update_data.container_name)\n",
    "    result_container.set_auto_commit(False)\n",
    "    query = result_container.query(update_data.select_query)\n",
    "    rs = query.fetch(True)\n",
    "\n",
    "    select_data = select_records(f\"Select all records from {update_data.container_name}\")\n",
    "    \n",
    "    if rs.has_next():\n",
    "        data = rs.next()\n",
    "        column_index = select_data.columns.get_loc(update_data.column_name)\n",
    "    \n",
    "        data[column_index] = int(update_data.column_value)\n",
    "        rs.update(data)\n",
    "    \n",
    "    result_container.commit()\n",
    "    print(\"record updated successfully.\")\n",
    "\n",
    "\n",
    "update_records(\"Update the age of the students in the student_data container to 11 where Age is greater than or equal to 10\")"
   ]
  },
  {
   "cell_type": "code",
   "execution_count": 18,
   "id": "b6d5e4cb-d53c-48a3-9609-70f56d8bfba4",
   "metadata": {},
   "outputs": [
    {
     "data": {
      "text/html": [
       "<div>\n",
       "<style scoped>\n",
       "    .dataframe tbody tr th:only-of-type {\n",
       "        vertical-align: middle;\n",
       "    }\n",
       "\n",
       "    .dataframe tbody tr th {\n",
       "        vertical-align: top;\n",
       "    }\n",
       "\n",
       "    .dataframe thead th {\n",
       "        text-align: right;\n",
       "    }\n",
       "</style>\n",
       "<table border=\"1\" class=\"dataframe\">\n",
       "  <thead>\n",
       "    <tr style=\"text-align: right;\">\n",
       "      <th></th>\n",
       "      <th>Name</th>\n",
       "      <th>Age</th>\n",
       "      <th>Gender</th>\n",
       "      <th>Grade</th>\n",
       "    </tr>\n",
       "  </thead>\n",
       "  <tbody>\n",
       "    <tr>\n",
       "      <th>0</th>\n",
       "      <td>Michael</td>\n",
       "      <td>11</td>\n",
       "      <td>Male</td>\n",
       "      <td>A</td>\n",
       "    </tr>\n",
       "    <tr>\n",
       "      <th>1</th>\n",
       "      <td>Sara</td>\n",
       "      <td>11</td>\n",
       "      <td>Female</td>\n",
       "      <td>C</td>\n",
       "    </tr>\n",
       "    <tr>\n",
       "      <th>2</th>\n",
       "      <td>Nick</td>\n",
       "      <td>9</td>\n",
       "      <td>Male</td>\n",
       "      <td>B</td>\n",
       "    </tr>\n",
       "  </tbody>\n",
       "</table>\n",
       "</div>"
      ],
      "text/plain": [
       "      Name  Age  Gender Grade\n",
       "0  Michael   11    Male     A\n",
       "1     Sara   11  Female     C\n",
       "2     Nick    9    Male     B"
      ]
     },
     "execution_count": 18,
     "metadata": {},
     "output_type": "execute_result"
    }
   ],
   "source": [
    "select_records(f\"Select all records from student_data container\")"
   ]
  },
  {
   "cell_type": "markdown",
   "id": "ba723bc1-7e7d-4f32-826f-4f4920de47e6",
   "metadata": {},
   "source": [
    "## Delete Data"
   ]
  },
  {
   "cell_type": "code",
   "execution_count": 30,
   "id": "39c5bba0-140c-455a-8471-79ebdd93e616",
   "metadata": {},
   "outputs": [
    {
     "name": "stdout",
     "output_type": "stream",
     "text": [
      "select_query='SELECT * FROM student_data WHERE Age > 10' container_name='student_data'\n"
     ]
    }
   ],
   "source": [
    "class DeleteData(BaseModel):\n",
    "    select_query:str = Field(description=\"natural language converted to SELECT query\")\n",
    "    container_name: str = Field(description=\"the container name from the user query\")\n",
    "\n",
    "\n",
    "system_command = \"\"\" \n",
    "Given a user natural language query, return an SQL select statement which selects the records that user wants to delete\n",
    "\"\"\"\n",
    "\n",
    "user_prompt = ChatPromptTemplate.from_messages([\n",
    "    (\"system\", system_command),\n",
    "    (\"user\", \"{input}\")\n",
    "])\n",
    "\n",
    "delete_chain = user_prompt | llm.with_structured_output(DeleteData)\n",
    "\n",
    "result_chain = delete_chain.invoke(\"Delete all records from student_data container whose Age is greater than 10\")\n",
    "print(result_chain)\n"
   ]
  },
  {
   "cell_type": "code",
   "execution_count": 31,
   "id": "6541ca3f-2307-44bf-9749-6062b0a70247",
   "metadata": {},
   "outputs": [
    {
     "name": "stdout",
     "output_type": "stream",
     "text": [
      "Records deleted successfully\n"
     ]
    }
   ],
   "source": [
    "def delete_records(query):\n",
    "\n",
    "    update_data = update_chain.invoke(query)\n",
    "\n",
    "    result_container = gridstore.get_container(update_data.container_name)\n",
    "\n",
    "    result_container.set_auto_commit(False)\n",
    "\n",
    "    query = result_container.query(update_data.select_query)\n",
    "    \n",
    "    rs = query.fetch(True)\n",
    "    \n",
    "    while rs.has_next():\n",
    "        data = rs.next()\n",
    "        rs.remove()\n",
    "    \n",
    "    \n",
    "    result_container.commit()\n",
    "    print(\"Records deleted successfully\")\n",
    "\n",
    "delete_records(\"Delete all records from student_data container whose Age is greater than 10\")"
   ]
  },
  {
   "cell_type": "code",
   "execution_count": 32,
   "id": "c601d49f-3742-4b70-a0d6-0b59e5002cb2",
   "metadata": {},
   "outputs": [
    {
     "data": {
      "text/html": [
       "<div>\n",
       "<style scoped>\n",
       "    .dataframe tbody tr th:only-of-type {\n",
       "        vertical-align: middle;\n",
       "    }\n",
       "\n",
       "    .dataframe tbody tr th {\n",
       "        vertical-align: top;\n",
       "    }\n",
       "\n",
       "    .dataframe thead th {\n",
       "        text-align: right;\n",
       "    }\n",
       "</style>\n",
       "<table border=\"1\" class=\"dataframe\">\n",
       "  <thead>\n",
       "    <tr style=\"text-align: right;\">\n",
       "      <th></th>\n",
       "      <th>Name</th>\n",
       "      <th>Age</th>\n",
       "      <th>Gender</th>\n",
       "      <th>Grade</th>\n",
       "    </tr>\n",
       "  </thead>\n",
       "  <tbody>\n",
       "    <tr>\n",
       "      <th>0</th>\n",
       "      <td>Nick</td>\n",
       "      <td>9</td>\n",
       "      <td>Male</td>\n",
       "      <td>B</td>\n",
       "    </tr>\n",
       "  </tbody>\n",
       "</table>\n",
       "</div>"
      ],
      "text/plain": [
       "   Name  Age Gender Grade\n",
       "0  Nick    9   Male     B"
      ]
     },
     "execution_count": 32,
     "metadata": {},
     "output_type": "execute_result"
    }
   ],
   "source": [
    "select_records(f\"Select all records from student_data container\")"
   ]
  },
  {
   "cell_type": "code",
   "execution_count": null,
   "id": "d7ec5446-a951-46d3-ab65-917d2553e0cb",
   "metadata": {},
   "outputs": [],
   "source": []
  }
 ],
 "metadata": {
  "kernelspec": {
   "display_name": "Python 3 (ipykernel)",
   "language": "python",
   "name": "python3"
  },
  "language_info": {
   "codemirror_mode": {
    "name": "ipython",
    "version": 3
   },
   "file_extension": ".py",
   "mimetype": "text/x-python",
   "name": "python",
   "nbconvert_exporter": "python",
   "pygments_lexer": "ipython3",
   "version": "3.10.12"
  }
 },
 "nbformat": 4,
 "nbformat_minor": 5
}
