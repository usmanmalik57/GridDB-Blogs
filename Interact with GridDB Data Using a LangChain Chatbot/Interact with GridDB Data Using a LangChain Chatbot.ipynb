{
 "cells": [
  {
   "cell_type": "markdown",
   "id": "26ab08ee-0897-47fe-ac69-0879138f77b5",
   "metadata": {},
   "source": [
    "## Prerequisites\n",
    "\n",
    "You need to install the following libraries to run codes in this article:\n",
    "\n",
    "1. GridDB C Client\n",
    "2. GridDB Python client\n",
    "\n",
    "Follow the instructions on the GridDB Python Package Index (Pypi) page to install these clients.\n",
    "\n",
    "You must also install LangChain, Numpy, Pandas, and Seaborn libraries.\n",
    "\n",
    "The scripts below install and import the libraries you will need to run the code in this blog."
   ]
  },
  {
   "cell_type": "code",
   "execution_count": 1,
   "id": "821d83ad-a19b-425c-afea-8dcdb3142579",
   "metadata": {},
   "outputs": [
    {
     "name": "stdout",
     "output_type": "stream",
     "text": [
      "Defaulting to user installation because normal site-packages is not writeable\n",
      "Requirement already satisfied: langchain in /home/mani/.local/lib/python3.10/site-packages (0.2.10)\n",
      "Requirement already satisfied: aiohttp<4.0.0,>=3.8.3 in /home/mani/.local/lib/python3.10/site-packages (from langchain) (3.9.5)\n",
      "Requirement already satisfied: async-timeout<5.0.0,>=4.0.0 in /home/mani/.local/lib/python3.10/site-packages (from langchain) (4.0.3)\n",
      "Requirement already satisfied: pydantic<3,>=1 in /home/mani/.local/lib/python3.10/site-packages (from langchain) (2.8.2)\n",
      "Requirement already satisfied: PyYAML>=5.3 in /usr/lib/python3/dist-packages (from langchain) (5.4.1)\n",
      "Requirement already satisfied: langchain-text-splitters<0.3.0,>=0.2.0 in /home/mani/.local/lib/python3.10/site-packages (from langchain) (0.2.2)\n",
      "Requirement already satisfied: SQLAlchemy<3,>=1.4 in /home/mani/.local/lib/python3.10/site-packages (from langchain) (2.0.31)\n",
      "Requirement already satisfied: langchain-core<0.3.0,>=0.2.22 in /home/mani/.local/lib/python3.10/site-packages (from langchain) (0.2.22)\n",
      "Requirement already satisfied: numpy<2,>=1 in /home/mani/.local/lib/python3.10/site-packages (from langchain) (1.26.4)\n",
      "Requirement already satisfied: langsmith<0.2.0,>=0.1.17 in /home/mani/.local/lib/python3.10/site-packages (from langchain) (0.1.93)\n",
      "Requirement already satisfied: requests<3,>=2 in /home/mani/.local/lib/python3.10/site-packages (from langchain) (2.31.0)\n",
      "Requirement already satisfied: tenacity!=8.4.0,<9.0.0,>=8.1.0 in /home/mani/.local/lib/python3.10/site-packages (from langchain) (8.5.0)\n",
      "Requirement already satisfied: attrs>=17.3.0 in /home/mani/.local/lib/python3.10/site-packages (from aiohttp<4.0.0,>=3.8.3->langchain) (23.2.0)\n",
      "Requirement already satisfied: frozenlist>=1.1.1 in /home/mani/.local/lib/python3.10/site-packages (from aiohttp<4.0.0,>=3.8.3->langchain) (1.4.1)\n",
      "Requirement already satisfied: yarl<2.0,>=1.0 in /home/mani/.local/lib/python3.10/site-packages (from aiohttp<4.0.0,>=3.8.3->langchain) (1.9.4)\n",
      "Requirement already satisfied: multidict<7.0,>=4.5 in /home/mani/.local/lib/python3.10/site-packages (from aiohttp<4.0.0,>=3.8.3->langchain) (6.0.5)\n",
      "Requirement already satisfied: aiosignal>=1.1.2 in /home/mani/.local/lib/python3.10/site-packages (from aiohttp<4.0.0,>=3.8.3->langchain) (1.3.1)\n",
      "Requirement already satisfied: jsonpatch<2.0,>=1.33 in /home/mani/.local/lib/python3.10/site-packages (from langchain-core<0.3.0,>=0.2.22->langchain) (1.33)\n",
      "Requirement already satisfied: packaging<25,>=23.2 in /home/mani/.local/lib/python3.10/site-packages (from langchain-core<0.3.0,>=0.2.22->langchain) (24.0)\n",
      "Requirement already satisfied: orjson<4.0.0,>=3.9.14 in /home/mani/.local/lib/python3.10/site-packages (from langsmith<0.2.0,>=0.1.17->langchain) (3.10.6)\n",
      "Requirement already satisfied: typing-extensions>=4.6.1 in /home/mani/.local/lib/python3.10/site-packages (from pydantic<3,>=1->langchain) (4.10.0)\n",
      "Requirement already satisfied: pydantic-core==2.20.1 in /home/mani/.local/lib/python3.10/site-packages (from pydantic<3,>=1->langchain) (2.20.1)\n",
      "Requirement already satisfied: annotated-types>=0.4.0 in /home/mani/.local/lib/python3.10/site-packages (from pydantic<3,>=1->langchain) (0.7.0)\n",
      "Requirement already satisfied: charset-normalizer<4,>=2 in /home/mani/.local/lib/python3.10/site-packages (from requests<3,>=2->langchain) (3.3.2)\n",
      "Requirement already satisfied: urllib3<3,>=1.21.1 in /usr/lib/python3/dist-packages (from requests<3,>=2->langchain) (1.26.5)\n",
      "Requirement already satisfied: idna<4,>=2.5 in /usr/lib/python3/dist-packages (from requests<3,>=2->langchain) (3.3)\n",
      "Requirement already satisfied: certifi>=2017.4.17 in /usr/lib/python3/dist-packages (from requests<3,>=2->langchain) (2020.6.20)\n",
      "Requirement already satisfied: greenlet!=0.4.17 in /home/mani/.local/lib/python3.10/site-packages (from SQLAlchemy<3,>=1.4->langchain) (3.0.3)\n",
      "Requirement already satisfied: jsonpointer>=1.9 in /home/mani/.local/lib/python3.10/site-packages (from jsonpatch<2.0,>=1.33->langchain-core<0.3.0,>=0.2.22->langchain) (2.4)\n",
      "Defaulting to user installation because normal site-packages is not writeable\n",
      "Requirement already satisfied: langchain-core in /home/mani/.local/lib/python3.10/site-packages (0.2.22)\n",
      "Requirement already satisfied: langsmith<0.2.0,>=0.1.75 in /home/mani/.local/lib/python3.10/site-packages (from langchain-core) (0.1.93)\n",
      "Requirement already satisfied: packaging<25,>=23.2 in /home/mani/.local/lib/python3.10/site-packages (from langchain-core) (24.0)\n",
      "Requirement already satisfied: tenacity!=8.4.0,<9.0.0,>=8.1.0 in /home/mani/.local/lib/python3.10/site-packages (from langchain-core) (8.5.0)\n",
      "Requirement already satisfied: pydantic<3,>=1 in /home/mani/.local/lib/python3.10/site-packages (from langchain-core) (2.8.2)\n",
      "Requirement already satisfied: PyYAML>=5.3 in /usr/lib/python3/dist-packages (from langchain-core) (5.4.1)\n",
      "Requirement already satisfied: jsonpatch<2.0,>=1.33 in /home/mani/.local/lib/python3.10/site-packages (from langchain-core) (1.33)\n",
      "Requirement already satisfied: jsonpointer>=1.9 in /home/mani/.local/lib/python3.10/site-packages (from jsonpatch<2.0,>=1.33->langchain-core) (2.4)\n",
      "Requirement already satisfied: orjson<4.0.0,>=3.9.14 in /home/mani/.local/lib/python3.10/site-packages (from langsmith<0.2.0,>=0.1.75->langchain-core) (3.10.6)\n",
      "Requirement already satisfied: requests<3,>=2 in /home/mani/.local/lib/python3.10/site-packages (from langsmith<0.2.0,>=0.1.75->langchain-core) (2.31.0)\n",
      "Requirement already satisfied: pydantic-core==2.20.1 in /home/mani/.local/lib/python3.10/site-packages (from pydantic<3,>=1->langchain-core) (2.20.1)\n",
      "Requirement already satisfied: annotated-types>=0.4.0 in /home/mani/.local/lib/python3.10/site-packages (from pydantic<3,>=1->langchain-core) (0.7.0)\n",
      "Requirement already satisfied: typing-extensions>=4.6.1 in /home/mani/.local/lib/python3.10/site-packages (from pydantic<3,>=1->langchain-core) (4.10.0)\n",
      "Requirement already satisfied: urllib3<3,>=1.21.1 in /usr/lib/python3/dist-packages (from requests<3,>=2->langsmith<0.2.0,>=0.1.75->langchain-core) (1.26.5)\n",
      "Requirement already satisfied: certifi>=2017.4.17 in /usr/lib/python3/dist-packages (from requests<3,>=2->langsmith<0.2.0,>=0.1.75->langchain-core) (2020.6.20)\n",
      "Requirement already satisfied: charset-normalizer<4,>=2 in /home/mani/.local/lib/python3.10/site-packages (from requests<3,>=2->langsmith<0.2.0,>=0.1.75->langchain-core) (3.3.2)\n",
      "Requirement already satisfied: idna<4,>=2.5 in /usr/lib/python3/dist-packages (from requests<3,>=2->langsmith<0.2.0,>=0.1.75->langchain-core) (3.3)\n",
      "Defaulting to user installation because normal site-packages is not writeable\n",
      "Requirement already satisfied: langchain-openai in /home/mani/.local/lib/python3.10/site-packages (0.1.17)\n",
      "Requirement already satisfied: openai<2.0.0,>=1.32.0 in /home/mani/.local/lib/python3.10/site-packages (from langchain-openai) (1.36.0)\n",
      "Requirement already satisfied: langchain-core<0.3.0,>=0.2.20 in /home/mani/.local/lib/python3.10/site-packages (from langchain-openai) (0.2.22)\n",
      "Requirement already satisfied: tiktoken<1,>=0.7 in /home/mani/.local/lib/python3.10/site-packages (from langchain-openai) (0.7.0)\n",
      "Requirement already satisfied: packaging<25,>=23.2 in /home/mani/.local/lib/python3.10/site-packages (from langchain-core<0.3.0,>=0.2.20->langchain-openai) (24.0)\n",
      "Requirement already satisfied: jsonpatch<2.0,>=1.33 in /home/mani/.local/lib/python3.10/site-packages (from langchain-core<0.3.0,>=0.2.20->langchain-openai) (1.33)\n",
      "Requirement already satisfied: tenacity!=8.4.0,<9.0.0,>=8.1.0 in /home/mani/.local/lib/python3.10/site-packages (from langchain-core<0.3.0,>=0.2.20->langchain-openai) (8.5.0)\n",
      "Requirement already satisfied: pydantic<3,>=1 in /home/mani/.local/lib/python3.10/site-packages (from langchain-core<0.3.0,>=0.2.20->langchain-openai) (2.8.2)\n",
      "Requirement already satisfied: langsmith<0.2.0,>=0.1.75 in /home/mani/.local/lib/python3.10/site-packages (from langchain-core<0.3.0,>=0.2.20->langchain-openai) (0.1.93)\n",
      "Requirement already satisfied: PyYAML>=5.3 in /usr/lib/python3/dist-packages (from langchain-core<0.3.0,>=0.2.20->langchain-openai) (5.4.1)\n",
      "Requirement already satisfied: httpx<1,>=0.23.0 in /home/mani/.local/lib/python3.10/site-packages (from openai<2.0.0,>=1.32.0->langchain-openai) (0.27.0)\n",
      "Requirement already satisfied: typing-extensions<5,>=4.7 in /home/mani/.local/lib/python3.10/site-packages (from openai<2.0.0,>=1.32.0->langchain-openai) (4.10.0)\n",
      "Requirement already satisfied: tqdm>4 in /home/mani/.local/lib/python3.10/site-packages (from openai<2.0.0,>=1.32.0->langchain-openai) (4.66.4)\n",
      "Requirement already satisfied: distro<2,>=1.7.0 in /usr/lib/python3/dist-packages (from openai<2.0.0,>=1.32.0->langchain-openai) (1.7.0)\n",
      "Requirement already satisfied: sniffio in /home/mani/.local/lib/python3.10/site-packages (from openai<2.0.0,>=1.32.0->langchain-openai) (1.3.1)\n",
      "Requirement already satisfied: anyio<5,>=3.5.0 in /home/mani/.local/lib/python3.10/site-packages (from openai<2.0.0,>=1.32.0->langchain-openai) (4.3.0)\n",
      "Requirement already satisfied: requests>=2.26.0 in /home/mani/.local/lib/python3.10/site-packages (from tiktoken<1,>=0.7->langchain-openai) (2.31.0)\n",
      "Requirement already satisfied: regex>=2022.1.18 in /home/mani/.local/lib/python3.10/site-packages (from tiktoken<1,>=0.7->langchain-openai) (2024.5.15)\n",
      "Requirement already satisfied: idna>=2.8 in /usr/lib/python3/dist-packages (from anyio<5,>=3.5.0->openai<2.0.0,>=1.32.0->langchain-openai) (3.3)\n",
      "Requirement already satisfied: exceptiongroup>=1.0.2 in /home/mani/.local/lib/python3.10/site-packages (from anyio<5,>=3.5.0->openai<2.0.0,>=1.32.0->langchain-openai) (1.2.0)\n",
      "Requirement already satisfied: httpcore==1.* in /home/mani/.local/lib/python3.10/site-packages (from httpx<1,>=0.23.0->openai<2.0.0,>=1.32.0->langchain-openai) (1.0.4)\n",
      "Requirement already satisfied: certifi in /usr/lib/python3/dist-packages (from httpx<1,>=0.23.0->openai<2.0.0,>=1.32.0->langchain-openai) (2020.6.20)\n",
      "Requirement already satisfied: h11<0.15,>=0.13 in /home/mani/.local/lib/python3.10/site-packages (from httpcore==1.*->httpx<1,>=0.23.0->openai<2.0.0,>=1.32.0->langchain-openai) (0.14.0)\n",
      "Requirement already satisfied: jsonpointer>=1.9 in /home/mani/.local/lib/python3.10/site-packages (from jsonpatch<2.0,>=1.33->langchain-core<0.3.0,>=0.2.20->langchain-openai) (2.4)\n",
      "Requirement already satisfied: orjson<4.0.0,>=3.9.14 in /home/mani/.local/lib/python3.10/site-packages (from langsmith<0.2.0,>=0.1.75->langchain-core<0.3.0,>=0.2.20->langchain-openai) (3.10.6)\n",
      "Requirement already satisfied: annotated-types>=0.4.0 in /home/mani/.local/lib/python3.10/site-packages (from pydantic<3,>=1->langchain-core<0.3.0,>=0.2.20->langchain-openai) (0.7.0)\n",
      "Requirement already satisfied: pydantic-core==2.20.1 in /home/mani/.local/lib/python3.10/site-packages (from pydantic<3,>=1->langchain-core<0.3.0,>=0.2.20->langchain-openai) (2.20.1)\n",
      "Requirement already satisfied: urllib3<3,>=1.21.1 in /usr/lib/python3/dist-packages (from requests>=2.26.0->tiktoken<1,>=0.7->langchain-openai) (1.26.5)\n",
      "Requirement already satisfied: charset-normalizer<4,>=2 in /home/mani/.local/lib/python3.10/site-packages (from requests>=2.26.0->tiktoken<1,>=0.7->langchain-openai) (3.3.2)\n",
      "Defaulting to user installation because normal site-packages is not writeable\n",
      "Requirement already satisfied: langchain-experimental in /home/mani/.local/lib/python3.10/site-packages (0.0.62)\n",
      "Requirement already satisfied: langchain-core<0.3.0,>=0.2.10 in /home/mani/.local/lib/python3.10/site-packages (from langchain-experimental) (0.2.22)\n",
      "Requirement already satisfied: langchain-community<0.3.0,>=0.2.6 in /home/mani/.local/lib/python3.10/site-packages (from langchain-experimental) (0.2.9)\n",
      "Requirement already satisfied: PyYAML>=5.3 in /usr/lib/python3/dist-packages (from langchain-community<0.3.0,>=0.2.6->langchain-experimental) (5.4.1)\n",
      "Requirement already satisfied: SQLAlchemy<3,>=1.4 in /home/mani/.local/lib/python3.10/site-packages (from langchain-community<0.3.0,>=0.2.6->langchain-experimental) (2.0.31)\n",
      "Requirement already satisfied: aiohttp<4.0.0,>=3.8.3 in /home/mani/.local/lib/python3.10/site-packages (from langchain-community<0.3.0,>=0.2.6->langchain-experimental) (3.9.5)\n",
      "Requirement already satisfied: langchain<0.3.0,>=0.2.9 in /home/mani/.local/lib/python3.10/site-packages (from langchain-community<0.3.0,>=0.2.6->langchain-experimental) (0.2.10)\n",
      "Requirement already satisfied: langsmith<0.2.0,>=0.1.0 in /home/mani/.local/lib/python3.10/site-packages (from langchain-community<0.3.0,>=0.2.6->langchain-experimental) (0.1.93)\n",
      "Requirement already satisfied: requests<3,>=2 in /home/mani/.local/lib/python3.10/site-packages (from langchain-community<0.3.0,>=0.2.6->langchain-experimental) (2.31.0)\n",
      "Requirement already satisfied: numpy<2,>=1 in /home/mani/.local/lib/python3.10/site-packages (from langchain-community<0.3.0,>=0.2.6->langchain-experimental) (1.26.4)\n",
      "Requirement already satisfied: tenacity!=8.4.0,<9.0.0,>=8.1.0 in /home/mani/.local/lib/python3.10/site-packages (from langchain-community<0.3.0,>=0.2.6->langchain-experimental) (8.5.0)\n",
      "Requirement already satisfied: dataclasses-json<0.7,>=0.5.7 in /home/mani/.local/lib/python3.10/site-packages (from langchain-community<0.3.0,>=0.2.6->langchain-experimental) (0.6.7)\n",
      "Requirement already satisfied: packaging<25,>=23.2 in /home/mani/.local/lib/python3.10/site-packages (from langchain-core<0.3.0,>=0.2.10->langchain-experimental) (24.0)\n",
      "Requirement already satisfied: pydantic<3,>=1 in /home/mani/.local/lib/python3.10/site-packages (from langchain-core<0.3.0,>=0.2.10->langchain-experimental) (2.8.2)\n",
      "Requirement already satisfied: jsonpatch<2.0,>=1.33 in /home/mani/.local/lib/python3.10/site-packages (from langchain-core<0.3.0,>=0.2.10->langchain-experimental) (1.33)\n",
      "Requirement already satisfied: frozenlist>=1.1.1 in /home/mani/.local/lib/python3.10/site-packages (from aiohttp<4.0.0,>=3.8.3->langchain-community<0.3.0,>=0.2.6->langchain-experimental) (1.4.1)\n",
      "Requirement already satisfied: multidict<7.0,>=4.5 in /home/mani/.local/lib/python3.10/site-packages (from aiohttp<4.0.0,>=3.8.3->langchain-community<0.3.0,>=0.2.6->langchain-experimental) (6.0.5)\n",
      "Requirement already satisfied: yarl<2.0,>=1.0 in /home/mani/.local/lib/python3.10/site-packages (from aiohttp<4.0.0,>=3.8.3->langchain-community<0.3.0,>=0.2.6->langchain-experimental) (1.9.4)\n",
      "Requirement already satisfied: async-timeout<5.0,>=4.0 in /home/mani/.local/lib/python3.10/site-packages (from aiohttp<4.0.0,>=3.8.3->langchain-community<0.3.0,>=0.2.6->langchain-experimental) (4.0.3)\n",
      "Requirement already satisfied: aiosignal>=1.1.2 in /home/mani/.local/lib/python3.10/site-packages (from aiohttp<4.0.0,>=3.8.3->langchain-community<0.3.0,>=0.2.6->langchain-experimental) (1.3.1)\n",
      "Requirement already satisfied: attrs>=17.3.0 in /home/mani/.local/lib/python3.10/site-packages (from aiohttp<4.0.0,>=3.8.3->langchain-community<0.3.0,>=0.2.6->langchain-experimental) (23.2.0)\n",
      "Requirement already satisfied: marshmallow<4.0.0,>=3.18.0 in /home/mani/.local/lib/python3.10/site-packages (from dataclasses-json<0.7,>=0.5.7->langchain-community<0.3.0,>=0.2.6->langchain-experimental) (3.21.3)\n",
      "Requirement already satisfied: typing-inspect<1,>=0.4.0 in /home/mani/.local/lib/python3.10/site-packages (from dataclasses-json<0.7,>=0.5.7->langchain-community<0.3.0,>=0.2.6->langchain-experimental) (0.9.0)\n",
      "Requirement already satisfied: jsonpointer>=1.9 in /home/mani/.local/lib/python3.10/site-packages (from jsonpatch<2.0,>=1.33->langchain-core<0.3.0,>=0.2.10->langchain-experimental) (2.4)\n",
      "Requirement already satisfied: langchain-text-splitters<0.3.0,>=0.2.0 in /home/mani/.local/lib/python3.10/site-packages (from langchain<0.3.0,>=0.2.9->langchain-community<0.3.0,>=0.2.6->langchain-experimental) (0.2.2)\n",
      "Requirement already satisfied: orjson<4.0.0,>=3.9.14 in /home/mani/.local/lib/python3.10/site-packages (from langsmith<0.2.0,>=0.1.0->langchain-community<0.3.0,>=0.2.6->langchain-experimental) (3.10.6)\n",
      "Requirement already satisfied: typing-extensions>=4.6.1 in /home/mani/.local/lib/python3.10/site-packages (from pydantic<3,>=1->langchain-core<0.3.0,>=0.2.10->langchain-experimental) (4.10.0)\n",
      "Requirement already satisfied: pydantic-core==2.20.1 in /home/mani/.local/lib/python3.10/site-packages (from pydantic<3,>=1->langchain-core<0.3.0,>=0.2.10->langchain-experimental) (2.20.1)\n",
      "Requirement already satisfied: annotated-types>=0.4.0 in /home/mani/.local/lib/python3.10/site-packages (from pydantic<3,>=1->langchain-core<0.3.0,>=0.2.10->langchain-experimental) (0.7.0)\n",
      "Requirement already satisfied: charset-normalizer<4,>=2 in /home/mani/.local/lib/python3.10/site-packages (from requests<3,>=2->langchain-community<0.3.0,>=0.2.6->langchain-experimental) (3.3.2)\n",
      "Requirement already satisfied: idna<4,>=2.5 in /usr/lib/python3/dist-packages (from requests<3,>=2->langchain-community<0.3.0,>=0.2.6->langchain-experimental) (3.3)\n",
      "Requirement already satisfied: certifi>=2017.4.17 in /usr/lib/python3/dist-packages (from requests<3,>=2->langchain-community<0.3.0,>=0.2.6->langchain-experimental) (2020.6.20)\n",
      "Requirement already satisfied: urllib3<3,>=1.21.1 in /usr/lib/python3/dist-packages (from requests<3,>=2->langchain-community<0.3.0,>=0.2.6->langchain-experimental) (1.26.5)\n",
      "Requirement already satisfied: greenlet!=0.4.17 in /home/mani/.local/lib/python3.10/site-packages (from SQLAlchemy<3,>=1.4->langchain-community<0.3.0,>=0.2.6->langchain-experimental) (3.0.3)\n",
      "Requirement already satisfied: mypy-extensions>=0.3.0 in /home/mani/.local/lib/python3.10/site-packages (from typing-inspect<1,>=0.4.0->dataclasses-json<0.7,>=0.5.7->langchain-community<0.3.0,>=0.2.6->langchain-experimental) (1.0.0)\n",
      "Defaulting to user installation because normal site-packages is not writeable\n",
      "Requirement already satisfied: tabulate in /home/mani/.local/lib/python3.10/site-packages (0.9.0)\n"
     ]
    }
   ],
   "source": [
    "!pip install langchain\n",
    "!pip install langchain-core\n",
    "!pip install langchain-openai\n",
    "!pip install langchain-experimental\n",
    "!pip install tabulate"
   ]
  },
  {
   "cell_type": "code",
   "execution_count": 24,
   "id": "65ac9712-6db6-4331-b3f8-0bc3f5e0fd0c",
   "metadata": {},
   "outputs": [],
   "source": [
    "\n",
    "import griddb_python as griddb\n",
    "import pandas as pd\n",
    "from langchain_openai import OpenAI\n",
    "from langchain_openai import ChatOpenAI\n",
    "from langchain_core.prompts import ChatPromptTemplate\n",
    "from langchain_core.pydantic_v1 import BaseModel, Field\n",
    "from langchain.agents.agent_types import AgentType\n",
    "from langchain_experimental.agents.agent_toolkits import create_pandas_dataframe_agent\n",
    "from langchain.agents import AgentExecutor, Tool\n",
    "from langchain.memory import ChatMessageHistory\n",
    "from langchain_core.runnables.history import RunnableWithMessageHistory\n",
    "from typing import List, Dict"
   ]
  },
  {
   "cell_type": "markdown",
   "id": "c065a586-c121-46b5-afb5-0f4199cab4fc",
   "metadata": {},
   "source": [
    "## Creating a Connection With GridDB"
   ]
  },
  {
   "cell_type": "code",
   "execution_count": 3,
   "id": "a66e60f1-bc3b-4aa5-abe6-213740d97e2b",
   "metadata": {},
   "outputs": [
    {
     "name": "stdout",
     "output_type": "stream",
     "text": [
      "Container does not exist\n",
      "Successfully connected to GridDB\n"
     ]
    }
   ],
   "source": [
    "factory = griddb.StoreFactory.get_instance()\n",
    "\n",
    "DB_HOST = \"127.0.0.1:10001\"\n",
    "DB_CLUSTER = \"myCluster\"\n",
    "DB_USER = \"admin\"\n",
    "DB_PASS = \"admin\"\n",
    "\n",
    "try:\n",
    "    gridstore = factory.get_store(\n",
    "        notification_member = DB_HOST,\n",
    "        cluster_name = DB_CLUSTER,\n",
    "        username = DB_USER,\n",
    "        password = DB_PASS\n",
    "    )\n",
    "\n",
    "    container1 = gridstore.get_container(\"container1\")\n",
    "    if container1 == None:\n",
    "        print(\"Container does not exist\")\n",
    "    print(\"Successfully connected to GridDB\")\n",
    "\n",
    "except griddb.GSException as e:\n",
    "    for i in range(e.get_error_stack_size()):\n",
    "        print(\"[\", i, \"]\")\n",
    "        print(e.get_error_code(i))\n",
    "        print(e.get_location(i))\n",
    "        print(e.get_message(i))"
   ]
  },
  {
   "cell_type": "markdown",
   "id": "da5b26f0-4721-454c-9b96-b4dd107235c8",
   "metadata": {},
   "source": [
    "## Inserting Sample Data into GridDB"
   ]
  },
  {
   "cell_type": "code",
   "execution_count": 4,
   "id": "9757daf2-612d-40f2-90de-305599315ecd",
   "metadata": {},
   "outputs": [
    {
     "name": "stdout",
     "output_type": "stream",
     "text": [
      "(234, 17)\n"
     ]
    },
    {
     "data": {
      "text/html": [
       "<div>\n",
       "<style scoped>\n",
       "    .dataframe tbody tr th:only-of-type {\n",
       "        vertical-align: middle;\n",
       "    }\n",
       "\n",
       "    .dataframe tbody tr th {\n",
       "        vertical-align: top;\n",
       "    }\n",
       "\n",
       "    .dataframe thead th {\n",
       "        text-align: right;\n",
       "    }\n",
       "</style>\n",
       "<table border=\"1\" class=\"dataframe\">\n",
       "  <thead>\n",
       "    <tr style=\"text-align: right;\">\n",
       "      <th></th>\n",
       "      <th>Rank</th>\n",
       "      <th>CCA3</th>\n",
       "      <th>Country/Territory</th>\n",
       "      <th>Capital</th>\n",
       "      <th>Continent</th>\n",
       "      <th>2022 Population</th>\n",
       "      <th>2020 Population</th>\n",
       "      <th>2015 Population</th>\n",
       "      <th>2010 Population</th>\n",
       "      <th>2000 Population</th>\n",
       "      <th>1990 Population</th>\n",
       "      <th>1980 Population</th>\n",
       "      <th>1970 Population</th>\n",
       "      <th>Area (km²)</th>\n",
       "      <th>Density (per km²)</th>\n",
       "      <th>Growth Rate</th>\n",
       "      <th>World Population Percentage</th>\n",
       "    </tr>\n",
       "  </thead>\n",
       "  <tbody>\n",
       "    <tr>\n",
       "      <th>0</th>\n",
       "      <td>36</td>\n",
       "      <td>AFG</td>\n",
       "      <td>Afghanistan</td>\n",
       "      <td>Kabul</td>\n",
       "      <td>Asia</td>\n",
       "      <td>41128771</td>\n",
       "      <td>38972230</td>\n",
       "      <td>33753499</td>\n",
       "      <td>28189672</td>\n",
       "      <td>19542982</td>\n",
       "      <td>10694796</td>\n",
       "      <td>12486631</td>\n",
       "      <td>10752971</td>\n",
       "      <td>652230</td>\n",
       "      <td>63.0587</td>\n",
       "      <td>1.0257</td>\n",
       "      <td>0.52</td>\n",
       "    </tr>\n",
       "    <tr>\n",
       "      <th>1</th>\n",
       "      <td>138</td>\n",
       "      <td>ALB</td>\n",
       "      <td>Albania</td>\n",
       "      <td>Tirana</td>\n",
       "      <td>Europe</td>\n",
       "      <td>2842321</td>\n",
       "      <td>2866849</td>\n",
       "      <td>2882481</td>\n",
       "      <td>2913399</td>\n",
       "      <td>3182021</td>\n",
       "      <td>3295066</td>\n",
       "      <td>2941651</td>\n",
       "      <td>2324731</td>\n",
       "      <td>28748</td>\n",
       "      <td>98.8702</td>\n",
       "      <td>0.9957</td>\n",
       "      <td>0.04</td>\n",
       "    </tr>\n",
       "    <tr>\n",
       "      <th>2</th>\n",
       "      <td>34</td>\n",
       "      <td>DZA</td>\n",
       "      <td>Algeria</td>\n",
       "      <td>Algiers</td>\n",
       "      <td>Africa</td>\n",
       "      <td>44903225</td>\n",
       "      <td>43451666</td>\n",
       "      <td>39543154</td>\n",
       "      <td>35856344</td>\n",
       "      <td>30774621</td>\n",
       "      <td>25518074</td>\n",
       "      <td>18739378</td>\n",
       "      <td>13795915</td>\n",
       "      <td>2381741</td>\n",
       "      <td>18.8531</td>\n",
       "      <td>1.0164</td>\n",
       "      <td>0.56</td>\n",
       "    </tr>\n",
       "    <tr>\n",
       "      <th>3</th>\n",
       "      <td>213</td>\n",
       "      <td>ASM</td>\n",
       "      <td>American Samoa</td>\n",
       "      <td>Pago Pago</td>\n",
       "      <td>Oceania</td>\n",
       "      <td>44273</td>\n",
       "      <td>46189</td>\n",
       "      <td>51368</td>\n",
       "      <td>54849</td>\n",
       "      <td>58230</td>\n",
       "      <td>47818</td>\n",
       "      <td>32886</td>\n",
       "      <td>27075</td>\n",
       "      <td>199</td>\n",
       "      <td>222.4774</td>\n",
       "      <td>0.9831</td>\n",
       "      <td>0.00</td>\n",
       "    </tr>\n",
       "    <tr>\n",
       "      <th>4</th>\n",
       "      <td>203</td>\n",
       "      <td>AND</td>\n",
       "      <td>Andorra</td>\n",
       "      <td>Andorra la Vella</td>\n",
       "      <td>Europe</td>\n",
       "      <td>79824</td>\n",
       "      <td>77700</td>\n",
       "      <td>71746</td>\n",
       "      <td>71519</td>\n",
       "      <td>66097</td>\n",
       "      <td>53569</td>\n",
       "      <td>35611</td>\n",
       "      <td>19860</td>\n",
       "      <td>468</td>\n",
       "      <td>170.5641</td>\n",
       "      <td>1.0100</td>\n",
       "      <td>0.00</td>\n",
       "    </tr>\n",
       "  </tbody>\n",
       "</table>\n",
       "</div>"
      ],
      "text/plain": [
       "   Rank CCA3 Country/Territory           Capital Continent  2022 Population  \\\n",
       "0    36  AFG       Afghanistan             Kabul      Asia         41128771   \n",
       "1   138  ALB           Albania            Tirana    Europe          2842321   \n",
       "2    34  DZA           Algeria           Algiers    Africa         44903225   \n",
       "3   213  ASM    American Samoa         Pago Pago   Oceania            44273   \n",
       "4   203  AND           Andorra  Andorra la Vella    Europe            79824   \n",
       "\n",
       "   2020 Population  2015 Population  2010 Population  2000 Population  \\\n",
       "0         38972230         33753499         28189672         19542982   \n",
       "1          2866849          2882481          2913399          3182021   \n",
       "2         43451666         39543154         35856344         30774621   \n",
       "3            46189            51368            54849            58230   \n",
       "4            77700            71746            71519            66097   \n",
       "\n",
       "   1990 Population  1980 Population  1970 Population  Area (km²)  \\\n",
       "0         10694796         12486631         10752971      652230   \n",
       "1          3295066          2941651          2324731       28748   \n",
       "2         25518074         18739378         13795915     2381741   \n",
       "3            47818            32886            27075         199   \n",
       "4            53569            35611            19860         468   \n",
       "\n",
       "   Density (per km²)  Growth Rate  World Population Percentage  \n",
       "0            63.0587       1.0257                         0.52  \n",
       "1            98.8702       0.9957                         0.04  \n",
       "2            18.8531       1.0164                         0.56  \n",
       "3           222.4774       0.9831                         0.00  \n",
       "4           170.5641       1.0100                         0.00  "
      ]
     },
     "execution_count": 4,
     "metadata": {},
     "output_type": "execute_result"
    }
   ],
   "source": [
    "## Dataset link: https://www.kaggle.com/datasets/iamsouravbanerjee/world-population-dataset\n",
    "\n",
    "dataset = pd.read_csv(r\"/home/mani/GridDB Projects/world_population.csv\")\n",
    "print(dataset.shape)\n",
    "dataset.head()\n"
   ]
  },
  {
   "cell_type": "code",
   "execution_count": 5,
   "id": "4b059bbb-1125-4730-9f62-d92ba8573acf",
   "metadata": {},
   "outputs": [
    {
     "data": {
      "text/plain": [
       "Rank                             int64\n",
       "CCA3                            object\n",
       "Country_Territory               object\n",
       "Capital                         object\n",
       "Continent                       object\n",
       "2022_Population                  int64\n",
       "2020_Population                  int64\n",
       "2015_Population                  int64\n",
       "2010_Population                  int64\n",
       "2000_Population                  int64\n",
       "1990_Population                  int64\n",
       "1980_Population                  int64\n",
       "1970_Population                  int64\n",
       "Area__km__                       int64\n",
       "Density__per_km__              float64\n",
       "Growth_Rate                    float64\n",
       "World_Population_Percentage    float64\n",
       "dtype: object"
      ]
     },
     "execution_count": 5,
     "metadata": {},
     "output_type": "execute_result"
    }
   ],
   "source": [
    "dataset.columns = dataset.columns.str.replace('[^a-zA-Z0-9]', '_', regex=True)\n",
    "dataset.dtypes"
   ]
  },
  {
   "cell_type": "code",
   "execution_count": 6,
   "id": "8481e29b-81c8-4ac1-a598-8f17dfd2d49b",
   "metadata": {},
   "outputs": [
    {
     "name": "stdout",
     "output_type": "stream",
     "text": [
      "All rows have been successfully stored in the GridDB container.\n"
     ]
    }
   ],
   "source": [
    "# see all GridDB data types: https://docs.griddb.net/architecture/data-model/#data-type\n",
    "\n",
    "def map_pandas_dtype_to_griddb(dtype):\n",
    "    if dtype == 'int64':\n",
    "        return griddb.Type.LONG\n",
    "    elif dtype == 'float64':\n",
    "        return griddb.Type.FLOAT\n",
    "    elif dtype == 'object':\n",
    "        return griddb.Type.STRING\n",
    "    # Add more column types if you want\n",
    "    else:\n",
    "        raise ValueError(f'Unsupported pandas type: {dtype}')\n",
    "\n",
    "container_columns = []\n",
    "for column_name, dtype in dataset.dtypes.items():\n",
    "    griddb_dtype = map_pandas_dtype_to_griddb(str(dtype))\n",
    "    container_columns.append([column_name, griddb_dtype])\n",
    "\n",
    "container_info = griddb.ContainerInfo(\"PopulationStats\",\n",
    "                                      container_columns,\n",
    "                                      griddb.ContainerType.COLLECTION, True)\n",
    "\n",
    "\n",
    "try:\n",
    "    cont = gridstore.put_container(container_info)\n",
    "    for index, row in dataset.iterrows():\n",
    "        cont.put(row.tolist())\n",
    "    print(\"All rows have been successfully stored in the GridDB container.\")\n",
    "\n",
    "except griddb.GSException as e:\n",
    "    for i in range(e.get_error_stack_size()):\n",
    "        print(\"[\", i, \"]\")\n",
    "        print(e.get_error_code(i))\n",
    "        print(e.get_location(i))\n",
    "        print(e.get_message(i))\n"
   ]
  },
  {
   "cell_type": "markdown",
   "id": "0eda7631-e7c7-4dbb-b869-78c85aea1e17",
   "metadata": {},
   "source": [
    "## Creating a LangChain Chatbot to Interact with GridDB Data"
   ]
  },
  {
   "cell_type": "code",
   "execution_count": 7,
   "id": "7cc275bd-b0ae-48ef-9f01-3860d7f6e0f7",
   "metadata": {},
   "outputs": [],
   "source": [
    "OPENAI_API_KEY = \"YOUR_OPENAI_API_KEY\"\n",
    "llm = ChatOpenAI(api_key = OPENAI_API_KEY ,\n",
    "                 temperature = 0,\n",
    "                model_name = \"gpt-4o\")"
   ]
  },
  {
   "cell_type": "markdown",
   "id": "82734447-58b0-438d-ab94-5be1b63764d3",
   "metadata": {},
   "source": [
    "### Problem with LangChain Chains for Creating a Chatbot for Tabular Data"
   ]
  },
  {
   "cell_type": "code",
   "execution_count": 8,
   "id": "886be39e-9a60-41f6-bb7b-73630f2ac2bb",
   "metadata": {},
   "outputs": [
    {
     "name": "stdout",
     "output_type": "stream",
     "text": [
      "SELECT country, population FROM PopulationStats WHERE year = 2020 ORDER BY population DESC LIMIT 3\n"
     ]
    },
    {
     "ename": "GSException",
     "evalue": "",
     "output_type": "error",
     "traceback": [
      "\u001b[0;31m---------------------------------------------------------------------------\u001b[0m",
      "\u001b[0;31mGSException\u001b[0m                               Traceback (most recent call last)",
      "Cell \u001b[0;32mIn[8], line 33\u001b[0m\n\u001b[1;32m     29\u001b[0m     result_data \u001b[38;5;241m=\u001b[39m rs\u001b[38;5;241m.\u001b[39mfetch_rows()\n\u001b[1;32m     30\u001b[0m     \u001b[38;5;28;01mreturn\u001b[39;00m result_data\n\u001b[0;32m---> 33\u001b[0m \u001b[43mselect_records\u001b[49m\u001b[43m(\u001b[49m\u001b[38;5;124;43m\"\u001b[39;49m\u001b[38;5;124;43mFrom the PopulationStats container, return the top 3 countries with the highest population in 2020\u001b[39;49m\u001b[38;5;124;43m\"\u001b[39;49m\u001b[43m)\u001b[49m\n",
      "Cell \u001b[0;32mIn[8], line 28\u001b[0m, in \u001b[0;36mselect_records\u001b[0;34m(query)\u001b[0m\n\u001b[1;32m     26\u001b[0m result_container \u001b[38;5;241m=\u001b[39m gridstore\u001b[38;5;241m.\u001b[39mget_container(container_name)\n\u001b[1;32m     27\u001b[0m query \u001b[38;5;241m=\u001b[39m result_container\u001b[38;5;241m.\u001b[39mquery(select_query)\n\u001b[0;32m---> 28\u001b[0m rs \u001b[38;5;241m=\u001b[39m \u001b[43mquery\u001b[49m\u001b[38;5;241;43m.\u001b[39;49m\u001b[43mfetch\u001b[49m\u001b[43m(\u001b[49m\u001b[43m)\u001b[49m\n\u001b[1;32m     29\u001b[0m result_data \u001b[38;5;241m=\u001b[39m rs\u001b[38;5;241m.\u001b[39mfetch_rows()\n\u001b[1;32m     30\u001b[0m \u001b[38;5;28;01mreturn\u001b[39;00m result_data\n",
      "File \u001b[0;32m~/.local/lib/python3.10/site-packages/griddb_python.py:564\u001b[0m, in \u001b[0;36mQuery.fetch\u001b[0;34m(self, for_update)\u001b[0m\n\u001b[1;32m    562\u001b[0m \u001b[38;5;28;01mdef\u001b[39;00m \u001b[38;5;21mfetch\u001b[39m(\u001b[38;5;28mself\u001b[39m, for_update\u001b[38;5;241m=\u001b[39m\u001b[38;5;28;01mFalse\u001b[39;00m):\n\u001b[1;32m    563\u001b[0m \u001b[38;5;250m    \u001b[39m\u001b[38;5;124mr\u001b[39m\u001b[38;5;124;03m\"\"\"fetch(self, for_update=False) -> RowSet\"\"\"\u001b[39;00m\n\u001b[0;32m--> 564\u001b[0m     \u001b[38;5;28;01mreturn\u001b[39;00m \u001b[43m_griddb_python\u001b[49m\u001b[38;5;241;43m.\u001b[39;49m\u001b[43mQuery_fetch\u001b[49m\u001b[43m(\u001b[49m\u001b[38;5;28;43mself\u001b[39;49m\u001b[43m,\u001b[49m\u001b[43m \u001b[49m\u001b[43mfor_update\u001b[49m\u001b[43m)\u001b[49m\n",
      "\u001b[0;31mGSException\u001b[0m: "
     ]
    }
   ],
   "source": [
    "class SelectData(BaseModel):\n",
    "    container_name: str = Field(description=\"the container name from the user query\")\n",
    "    query:str = Field(description=\"natural language converted to SELECT query\")\n",
    "\n",
    "\n",
    "\n",
    "system_command = \"\"\" \n",
    "Convert user commands into SQL queries for Griddb.\n",
    "\"\"\"\n",
    "\n",
    "user_prompt = ChatPromptTemplate.from_messages([\n",
    "    (\"system\", system_command),\n",
    "    (\"user\", \"{input}\")\n",
    "])\n",
    "\n",
    "select_chain = user_prompt | llm.with_structured_output(SelectData)\n",
    "\n",
    "def select_records(query):\n",
    "\n",
    "    select_data = select_chain.invoke(query)\n",
    "    container_name = select_data.container_name\n",
    "    select_query = select_data.query\n",
    "\n",
    "    print(select_query)\n",
    "    \n",
    "    result_container = gridstore.get_container(container_name)\n",
    "    query = result_container.query(select_query)\n",
    "    rs = query.fetch()\n",
    "    result_data = rs.fetch_rows()\n",
    "    return result_data\n",
    "\n",
    "\n",
    "select_records(\"From the PopulationStats container, return the top 3 countries with the highest population in 2020\")"
   ]
  },
  {
   "cell_type": "markdown",
   "id": "1e33a382-a7e2-4384-b90c-79160cadfa39",
   "metadata": {},
   "source": [
    "### LangChain Agents for Interacting with Tabular Data"
   ]
  },
  {
   "cell_type": "code",
   "execution_count": 9,
   "id": "40f95ae8-7844-4e89-a253-0cc80c8358c6",
   "metadata": {},
   "outputs": [],
   "source": [
    "class SelectData(BaseModel):\n",
    "    container_name: str = Field(description=\"the container name from the user query\")\n",
    "    natural_query:str = Field(description = \"user query string to retrieve additional information from result returned by the SELECT query\")\n",
    "\n",
    "system_command = \"\"\" \n",
    "Convert user commands into SQL queries for Griddb.\n",
    "\"\"\"\n",
    "\n",
    "user_prompt = ChatPromptTemplate.from_messages([\n",
    "    (\"system\", system_command),\n",
    "    (\"user\", \"{input}\")\n",
    "])\n",
    "\n",
    "select_chain = user_prompt | llm.with_structured_output(SelectData)"
   ]
  },
  {
   "cell_type": "code",
   "execution_count": 10,
   "id": "b7978b91-f788-4343-88c3-1d9e1d1a0750",
   "metadata": {},
   "outputs": [],
   "source": [
    "def select_records(query):\n",
    "\n",
    "    select_data = select_chain.invoke(query)\n",
    "    container_name = select_data.container_name\n",
    "    select_query = f\"SELECT * FROM {container_name}\"\n",
    "    natural_query = select_data. natural_query\n",
    "\n",
    "    print(f\"Select query: {select_query}\")\n",
    "    print(f\"Additional query: {natural_query}\")\n",
    " \n",
    "    result_container = gridstore.get_container(container_name)\n",
    "    query = result_container.query(select_query)\n",
    "    rs = query.fetch()\n",
    "    result_data = rs.fetch_rows()\n",
    "\n",
    "    agent = create_pandas_dataframe_agent(\n",
    "            ChatOpenAI(\n",
    "                api_key = OPENAI_API_KEY,\n",
    "                temperature=0, \n",
    "                model=\"gpt-4o\"),\n",
    "                result_data,\n",
    "                verbose=True,\n",
    "                agent_type=AgentType.OPENAI_FUNCTIONS,\n",
    "                allow_dangerous_code = True\n",
    "            )\n",
    "\n",
    "    response = agent.invoke(f\"Return the following information: {natural_query}\")\n",
    "    return response"
   ]
  },
  {
   "cell_type": "code",
   "execution_count": 11,
   "id": "58433a75-a4d9-42e9-9307-91bf70f51ec3",
   "metadata": {},
   "outputs": [
    {
     "name": "stdout",
     "output_type": "stream",
     "text": [
      "Select query: SELECT * FROM PopulationStats\n",
      "Additional query: top 3 countries with the highest population in 2020\n",
      "\n",
      "\n",
      "\u001b[1m> Entering new AgentExecutor chain...\u001b[0m\n",
      "\u001b[32;1m\u001b[1;3m\n",
      "Invoking: `python_repl_ast` with `{'query': \"df.nlargest(3, '2020_Population')[['Country_Territory', '2020_Population']]\"}`\n",
      "\n",
      "\n",
      "\u001b[0m\u001b[36;1m\u001b[1;3m    Country_Territory  2020_Population\n",
      "34              China       1424929781\n",
      "71              India       1396387127\n",
      "172     United States        335942003\u001b[0m\u001b[32;1m\u001b[1;3mThe top 3 countries with the highest population in 2020 are:\n",
      "\n",
      "1. **China** with a population of 1,424,929,781\n",
      "2. **India** with a population of 1,396,387,127\n",
      "3. **United States** with a population of 335,942,003\u001b[0m\n",
      "\n",
      "\u001b[1m> Finished chain.\u001b[0m\n"
     ]
    },
    {
     "data": {
      "text/plain": [
       "{'input': 'Return the following information: top 3 countries with the highest population in 2020',\n",
       " 'output': 'The top 3 countries with the highest population in 2020 are:\\n\\n1. **China** with a population of 1,424,929,781\\n2. **India** with a population of 1,396,387,127\\n3. **United States** with a population of 335,942,003'}"
      ]
     },
     "execution_count": 11,
     "metadata": {},
     "output_type": "execute_result"
    }
   ],
   "source": [
    "select_records(\"From the PopulationStats container, return the top 3 countries with the highest population in 2020\")"
   ]
  },
  {
   "cell_type": "markdown",
   "id": "408da5b6-ed8a-4b36-bdab-5f890102c838",
   "metadata": {},
   "source": [
    "### Creating a LangChain Chatbot Interaction with GridDB Data"
   ]
  },
  {
   "cell_type": "code",
   "execution_count": 32,
   "id": "d2d2a073-beb7-42ea-9d3c-4ac10dcaa715",
   "metadata": {},
   "outputs": [],
   "source": [
    "class SelectData(BaseModel):\n",
    "    container_name: str = Field(description=\"the container name from the user query\")\n",
    "    query:str = Field(description=\"natural language converted to SELECT query\")\n",
    "\n",
    "\n",
    "\n",
    "system_command = \"\"\" \n",
    "Convert user commands into SQL queries for Griddb.\n",
    "\"\"\"\n",
    "\n",
    "user_prompt = ChatPromptTemplate.from_messages([\n",
    "    (\"system\", system_command),\n",
    "    (\"user\", \"{input}\")\n",
    "])\n",
    "\n",
    "select_chain = user_prompt | llm.with_structured_output(SelectData)\n",
    "\n",
    "def select_records(query):\n",
    "\n",
    "    select_data = select_chain.invoke(query)\n",
    "    container_name = select_data.container_name\n",
    "    select_query = select_data.query\n",
    "    \n",
    "    result_container = gridstore.get_container(container_name)\n",
    "    query = result_container.query(select_query)\n",
    "    rs = query.fetch()\n",
    "    result_data = rs.fetch_rows()\n",
    "    return result_data\n",
    "\n",
    "\n",
    "result_data = select_records(\"SELECT all records from PopulationStats container\")"
   ]
  },
  {
   "cell_type": "code",
   "execution_count": 33,
   "id": "54e0ad14-471d-451f-af9b-dda62d2dfef9",
   "metadata": {},
   "outputs": [
    {
     "name": "stdin",
     "output_type": "stream",
     "text": [
      "You:  What are the top 3 countries wth the highest population in 2020?\n"
     ]
    },
    {
     "name": "stdout",
     "output_type": "stream",
     "text": [
      "AI: The top 3 countries with the highest population in 2020 are China, India, and the United States.\n"
     ]
    },
    {
     "name": "stdin",
     "output_type": "stream",
     "text": [
      "You:  What percentage of world population China had in 2020?\n"
     ]
    },
    {
     "name": "stdout",
     "output_type": "stream",
     "text": [
      "AI: China had approximately 17.88% of the world population in 2020.\n"
     ]
    },
    {
     "name": "stdin",
     "output_type": "stream",
     "text": [
      "You:  And what percentage of world population brazil had in 2022?\n"
     ]
    },
    {
     "name": "stdout",
     "output_type": "stream",
     "text": [
      "AI: Brazil had 2.7% of the world population in 2022.\n"
     ]
    },
    {
     "name": "stdin",
     "output_type": "stream",
     "text": [
      "You:  bye\n"
     ]
    },
    {
     "name": "stdout",
     "output_type": "stream",
     "text": [
      "AI: Goodbye!\n"
     ]
    }
   ],
   "source": [
    "agent = create_pandas_dataframe_agent(\n",
    "    ChatOpenAI(\n",
    "        api_key=OPENAI_API_KEY,\n",
    "        temperature=0,\n",
    "        model=\"gpt-4\"\n",
    "    ),\n",
    "    result_data,\n",
    "    agent_type=AgentType.OPENAI_FUNCTIONS,\n",
    "    allow_dangerous_code=True,\n",
    ")\n",
    "\n",
    "\n",
    "\n",
    "def get_response(natural_query):\n",
    "    # Create a conversation chain\n",
    "\n",
    "\n",
    "    # Get the response from the agent\n",
    "    response = agent.invoke(f\"Return the following information: {natural_query}\")\n",
    "\n",
    "    # Add the interaction to the conversation memory\n",
    "    return response\n",
    "\n",
    "\n",
    "# Function to chat with the agent\n",
    "def chat_with_agent():\n",
    "    while True:\n",
    "        user_input = input(\"You: \")\n",
    "        if user_input.lower() in ['exit', 'quit', 'bye']:\n",
    "            print(\"AI: Goodbye!\")\n",
    "            break\n",
    "        \n",
    "        response = get_response(user_input)\n",
    "        print(f\"AI: {response['output']}\")\n",
    "\n",
    "chat_with_agent()"
   ]
  },
  {
   "cell_type": "code",
   "execution_count": null,
   "id": "e19244da-d516-4010-af77-70bffc782220",
   "metadata": {},
   "outputs": [],
   "source": []
  },
  {
   "cell_type": "code",
   "execution_count": null,
   "id": "7b4a7f2b-7298-46ec-b208-6df2f687ecd4",
   "metadata": {},
   "outputs": [],
   "source": []
  },
  {
   "cell_type": "code",
   "execution_count": null,
   "id": "e1651d13-be50-4c07-9d11-bf042b633946",
   "metadata": {},
   "outputs": [],
   "source": []
  }
 ],
 "metadata": {
  "kernelspec": {
   "display_name": "Python 3 (ipykernel)",
   "language": "python",
   "name": "python3"
  },
  "language_info": {
   "codemirror_mode": {
    "name": "ipython",
    "version": 3
   },
   "file_extension": ".py",
   "mimetype": "text/x-python",
   "name": "python",
   "nbconvert_exporter": "python",
   "pygments_lexer": "ipython3",
   "version": "3.11.4"
  }
 },
 "nbformat": 4,
 "nbformat_minor": 5
}
